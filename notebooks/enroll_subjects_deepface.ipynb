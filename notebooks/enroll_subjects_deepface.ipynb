{
 "cells": [
  {
   "cell_type": "code",
   "execution_count": 1,
   "metadata": {},
   "outputs": [],
   "source": [
    "import os\n",
    "\n",
    "import pandas as pd\n",
    "import numpy as np\n",
    "\n",
    "from tqdm import tqdm\n",
    "\n",
    "from deepface import DeepFace"
   ]
  },
  {
   "cell_type": "markdown",
   "metadata": {},
   "source": [
    "# Process Data"
   ]
  },
  {
   "cell_type": "code",
   "execution_count": 2,
   "metadata": {},
   "outputs": [
    {
     "name": "stdout",
     "output_type": "stream",
     "text": [
      "(1680, 3)\n"
     ]
    },
    {
     "data": {
      "text/html": [
       "<div>\n",
       "<style scoped>\n",
       "    .dataframe tbody tr th:only-of-type {\n",
       "        vertical-align: middle;\n",
       "    }\n",
       "\n",
       "    .dataframe tbody tr th {\n",
       "        vertical-align: top;\n",
       "    }\n",
       "\n",
       "    .dataframe thead th {\n",
       "        text-align: right;\n",
       "    }\n",
       "</style>\n",
       "<table border=\"1\" class=\"dataframe\">\n",
       "  <thead>\n",
       "    <tr style=\"text-align: right;\">\n",
       "      <th></th>\n",
       "      <th>person_name</th>\n",
       "      <th>img_name</th>\n",
       "      <th>gcp_path</th>\n",
       "    </tr>\n",
       "  </thead>\n",
       "  <tbody>\n",
       "    <tr>\n",
       "      <th>0</th>\n",
       "      <td>Abdel_Nasser_Assidi</td>\n",
       "      <td>Abdel_Nasser_Assidi_0001.jpg</td>\n",
       "      <td>gs://original-datasets-pesquisa/face/LFW/lfw/l...</td>\n",
       "    </tr>\n",
       "    <tr>\n",
       "      <th>1</th>\n",
       "      <td>Abdullah_Gul</td>\n",
       "      <td>Abdullah_Gul_0012.jpg</td>\n",
       "      <td>gs://original-datasets-pesquisa/face/LFW/lfw/l...</td>\n",
       "    </tr>\n",
       "    <tr>\n",
       "      <th>2</th>\n",
       "      <td>Abdullah_al-Attiyah</td>\n",
       "      <td>Abdullah_al-Attiyah_0001.jpg</td>\n",
       "      <td>gs://original-datasets-pesquisa/face/LFW/lfw/l...</td>\n",
       "    </tr>\n",
       "    <tr>\n",
       "      <th>3</th>\n",
       "      <td>Adel_Al-Jubeir</td>\n",
       "      <td>Adel_Al-Jubeir_0002.jpg</td>\n",
       "      <td>gs://original-datasets-pesquisa/face/LFW/lfw/l...</td>\n",
       "    </tr>\n",
       "    <tr>\n",
       "      <th>4</th>\n",
       "      <td>Ai_Sugiyama</td>\n",
       "      <td>Ai_Sugiyama_0003.jpg</td>\n",
       "      <td>gs://original-datasets-pesquisa/face/LFW/lfw/l...</td>\n",
       "    </tr>\n",
       "  </tbody>\n",
       "</table>\n",
       "</div>"
      ],
      "text/plain": [
       "           person_name                      img_name  \\\n",
       "0  Abdel_Nasser_Assidi  Abdel_Nasser_Assidi_0001.jpg   \n",
       "1         Abdullah_Gul         Abdullah_Gul_0012.jpg   \n",
       "2  Abdullah_al-Attiyah  Abdullah_al-Attiyah_0001.jpg   \n",
       "3       Adel_Al-Jubeir       Adel_Al-Jubeir_0002.jpg   \n",
       "4          Ai_Sugiyama          Ai_Sugiyama_0003.jpg   \n",
       "\n",
       "                                            gcp_path  \n",
       "0  gs://original-datasets-pesquisa/face/LFW/lfw/l...  \n",
       "1  gs://original-datasets-pesquisa/face/LFW/lfw/l...  \n",
       "2  gs://original-datasets-pesquisa/face/LFW/lfw/l...  \n",
       "3  gs://original-datasets-pesquisa/face/LFW/lfw/l...  \n",
       "4  gs://original-datasets-pesquisa/face/LFW/lfw/l...  "
      ]
     },
     "metadata": {},
     "output_type": "display_data"
    },
    {
     "name": "stdout",
     "output_type": "stream",
     "text": [
      "gs://original-datasets-pesquisa/face/LFW/lfw/lfw/Abdel_Nasser_Assidi/Abdel_Nasser_Assidi_0001.jpg\n"
     ]
    }
   ],
   "source": [
    "enroll_df = pd.read_csv('../app/data/enroll_imgs_lfw.csv')\n",
    "print(enroll_df.shape)\n",
    "display(enroll_df.head())\n",
    "print(enroll_df.gcp_path.values[0])"
   ]
  },
  {
   "cell_type": "markdown",
   "metadata": {},
   "source": [
    "# Transform GCP_Paths in Paths"
   ]
  },
  {
   "cell_type": "code",
   "execution_count": 3,
   "metadata": {},
   "outputs": [
    {
     "data": {
      "text/html": [
       "<div>\n",
       "<style scoped>\n",
       "    .dataframe tbody tr th:only-of-type {\n",
       "        vertical-align: middle;\n",
       "    }\n",
       "\n",
       "    .dataframe tbody tr th {\n",
       "        vertical-align: top;\n",
       "    }\n",
       "\n",
       "    .dataframe thead th {\n",
       "        text-align: right;\n",
       "    }\n",
       "</style>\n",
       "<table border=\"1\" class=\"dataframe\">\n",
       "  <thead>\n",
       "    <tr style=\"text-align: right;\">\n",
       "      <th></th>\n",
       "      <th>person_name</th>\n",
       "      <th>img_name</th>\n",
       "      <th>gcp_path</th>\n",
       "      <th>img_path</th>\n",
       "    </tr>\n",
       "  </thead>\n",
       "  <tbody>\n",
       "    <tr>\n",
       "      <th>0</th>\n",
       "      <td>Abdel_Nasser_Assidi</td>\n",
       "      <td>Abdel_Nasser_Assidi_0001.jpg</td>\n",
       "      <td>gs://original-datasets-pesquisa/face/LFW/lfw/l...</td>\n",
       "      <td>/home/guilherme/projects/parai/app/data/images...</td>\n",
       "    </tr>\n",
       "    <tr>\n",
       "      <th>1</th>\n",
       "      <td>Abdullah_Gul</td>\n",
       "      <td>Abdullah_Gul_0012.jpg</td>\n",
       "      <td>gs://original-datasets-pesquisa/face/LFW/lfw/l...</td>\n",
       "      <td>/home/guilherme/projects/parai/app/data/images...</td>\n",
       "    </tr>\n",
       "    <tr>\n",
       "      <th>2</th>\n",
       "      <td>Abdullah_al-Attiyah</td>\n",
       "      <td>Abdullah_al-Attiyah_0001.jpg</td>\n",
       "      <td>gs://original-datasets-pesquisa/face/LFW/lfw/l...</td>\n",
       "      <td>/home/guilherme/projects/parai/app/data/images...</td>\n",
       "    </tr>\n",
       "    <tr>\n",
       "      <th>3</th>\n",
       "      <td>Adel_Al-Jubeir</td>\n",
       "      <td>Adel_Al-Jubeir_0002.jpg</td>\n",
       "      <td>gs://original-datasets-pesquisa/face/LFW/lfw/l...</td>\n",
       "      <td>/home/guilherme/projects/parai/app/data/images...</td>\n",
       "    </tr>\n",
       "    <tr>\n",
       "      <th>4</th>\n",
       "      <td>Ai_Sugiyama</td>\n",
       "      <td>Ai_Sugiyama_0003.jpg</td>\n",
       "      <td>gs://original-datasets-pesquisa/face/LFW/lfw/l...</td>\n",
       "      <td>/home/guilherme/projects/parai/app/data/images...</td>\n",
       "    </tr>\n",
       "  </tbody>\n",
       "</table>\n",
       "</div>"
      ],
      "text/plain": [
       "           person_name                      img_name  \\\n",
       "0  Abdel_Nasser_Assidi  Abdel_Nasser_Assidi_0001.jpg   \n",
       "1         Abdullah_Gul         Abdullah_Gul_0012.jpg   \n",
       "2  Abdullah_al-Attiyah  Abdullah_al-Attiyah_0001.jpg   \n",
       "3       Adel_Al-Jubeir       Adel_Al-Jubeir_0002.jpg   \n",
       "4          Ai_Sugiyama          Ai_Sugiyama_0003.jpg   \n",
       "\n",
       "                                            gcp_path  \\\n",
       "0  gs://original-datasets-pesquisa/face/LFW/lfw/l...   \n",
       "1  gs://original-datasets-pesquisa/face/LFW/lfw/l...   \n",
       "2  gs://original-datasets-pesquisa/face/LFW/lfw/l...   \n",
       "3  gs://original-datasets-pesquisa/face/LFW/lfw/l...   \n",
       "4  gs://original-datasets-pesquisa/face/LFW/lfw/l...   \n",
       "\n",
       "                                            img_path  \n",
       "0  /home/guilherme/projects/parai/app/data/images...  \n",
       "1  /home/guilherme/projects/parai/app/data/images...  \n",
       "2  /home/guilherme/projects/parai/app/data/images...  \n",
       "3  /home/guilherme/projects/parai/app/data/images...  \n",
       "4  /home/guilherme/projects/parai/app/data/images...  "
      ]
     },
     "execution_count": 3,
     "metadata": {},
     "output_type": "execute_result"
    }
   ],
   "source": [
    "BASE_PATH = '/home/guilherme/projects/parai/app/data/'\n",
    "\n",
    "enroll_df['img_path'] = enroll_df['gcp_path'].apply(lambda x: x.replace('gs://original-datasets-pesquisa/face/LFW/lfw/', 'images/'))\n",
    "enroll_df['img_path'] = BASE_PATH + enroll_df['img_path']\n",
    "\n",
    "enroll_df.head()"
   ]
  },
  {
   "cell_type": "markdown",
   "metadata": {},
   "source": [
    "# Enroll subjects from LFW dataset"
   ]
  },
  {
   "cell_type": "code",
   "execution_count": 4,
   "metadata": {},
   "outputs": [],
   "source": [
    "def enroll_subject_with_deepface(img_path, fr_model):\n",
    "    img_name = img_path.split('/')[-1]\n",
    "    img_name = img_name.replace('.jpg', '.npy')\n",
    "    template_path = f'../app/data/templates/df_templates_dlib/{img_name}'\n",
    "    \n",
    "    if os.path.exists(template_path):\n",
    "        #print(f'{template_path} already exists')\n",
    "        return\n",
    "    \n",
    "    template = DeepFace.represent(img_path = img_path, model=fr_model, enforce_detection=False)\n",
    "    \n",
    "    np.save(template_path, template)"
   ]
  },
  {
   "cell_type": "code",
   "execution_count": 4,
   "metadata": {},
   "outputs": [
    {
     "name": "stderr",
     "output_type": "stream",
     "text": [
      "100%|██████████| 1680/1680 [00:25<00:00, 65.50it/s]\n"
     ]
    }
   ],
   "source": [
    "extracted_encodings = os.listdir('../app/data/templates/df_templates_dlib/')\n",
    "\n",
    "dlib_model = DeepFace.build_model('Dlib')\n",
    "\n",
    "for input_img_path in tqdm(enroll_df['img_path'].values):\n",
    "    enroll_subject_with_deepface(input_img_path, dlib_model)"
   ]
  },
  {
   "cell_type": "code",
   "execution_count": 17,
   "metadata": {},
   "outputs": [
    {
     "name": "stdout",
     "output_type": "stream",
     "text": [
      "Number of extracted templates: 1556\n"
     ]
    }
   ],
   "source": [
    "print(f'Number of extracted templates: {len(os.listdir(\"../app/data/templates/\"))}')"
   ]
  },
  {
   "cell_type": "markdown",
   "metadata": {},
   "source": [
    "# Enroll especific subjects "
   ]
  },
  {
   "cell_type": "code",
   "execution_count": 6,
   "metadata": {},
   "outputs": [],
   "source": [
    "fr_model = DeepFace.build_model('Dlib')\n",
    "\n",
    "enroll_subject_with_deepface('../app/data/images/common/guilherme_1.jpg', fr_model=fr_model)\n",
    "enroll_subject_with_deepface('../app/data/images/common/guilherme_2.jpg', fr_model=fr_model)\n",
    "enroll_subject_with_deepface('../app/data/images/common/guilherme_3.jpg', fr_model=fr_model)\n",
    "enroll_subject_with_deepface('../app/data/images/common/guilherme_4.jpg', fr_model=fr_model)"
   ]
  }
 ],
 "metadata": {
  "kernelspec": {
   "display_name": "parai",
   "language": "python",
   "name": "python3"
  },
  "language_info": {
   "codemirror_mode": {
    "name": "ipython",
    "version": 3
   },
   "file_extension": ".py",
   "mimetype": "text/x-python",
   "name": "python",
   "nbconvert_exporter": "python",
   "pygments_lexer": "ipython3",
   "version": "3.8.0"
  }
 },
 "nbformat": 4,
 "nbformat_minor": 2
}
