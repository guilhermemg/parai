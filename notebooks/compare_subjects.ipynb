{
 "cells": [
  {
   "cell_type": "markdown",
   "metadata": {},
   "source": [
    "# Import Libraries"
   ]
  },
  {
   "cell_type": "code",
   "execution_count": 6,
   "metadata": {},
   "outputs": [],
   "source": [
    "import face_recognition\n",
    "\n",
    "import matplotlib.pyplot as plt\n",
    "import matplotlib.image as mpimg\n",
    "\n",
    "from face_recognition.api import face_locations, face_distance, compare_faces, load_image_file"
   ]
  },
  {
   "cell_type": "markdown",
   "metadata": {},
   "source": [
    "# Util Functions"
   ]
  },
  {
   "cell_type": "code",
   "execution_count": 2,
   "metadata": {},
   "outputs": [],
   "source": [
    "def extract_template(img_path):\n",
    "    img = face_recognition.load_image_file(img_path)\n",
    "    face_locations = face_recognition.face_locations(img)\n",
    "\n",
    "    if len(face_locations) == 0:\n",
    "        print(\"No face found in image\")\n",
    "    elif len(face_locations) > 1:\n",
    "        print(\"Multiple faces found in image\")\n",
    "    else:\n",
    "        face_location = face_locations[0]\n",
    "        template = face_recognition.face_encodings(face_image=img, known_face_locations=[face_location])[0]\n",
    "        return template\n",
    "    \n",
    "\n",
    "def show_img(img_path)    :\n",
    "    img = mpimg.imread(img_path)\n",
    "    imgplot = plt.imshow(img)\n",
    "    plt.show()"
   ]
  },
  {
   "cell_type": "code",
   "execution_count": 3,
   "metadata": {},
   "outputs": [],
   "source": [
    "img_path_guilherme_1 = \"../data/images/common/guilherme_1.jpg\"\n",
    "img_path_guilherme_2 = \"../data/images/common/guilherme_2.jpg\"\n",
    "img_path_guilherme_5 = \"../data/images/common/guilherme_5.jpg\"\n",
    "\n",
    "img_path_g_bush = \"../data/images/lfw/George_W_Bush/George_W_Bush_0001.jpg\""
   ]
  },
  {
   "cell_type": "code",
   "execution_count": null,
   "metadata": {},
   "outputs": [],
   "source": [
    "show_img(img_path_guilherme_1)\n",
    "show_img(img_path_guilherme_2)\n",
    "show_img(img_path_guilherme_5)\n",
    "show_img(img_path_g_bush)"
   ]
  },
  {
   "cell_type": "code",
   "execution_count": null,
   "metadata": {},
   "outputs": [],
   "source": [
    "temp_gui_1 = extract_template(img_path_guilherme_1)\n",
    "temp_gui_2 = extract_template(img_path_guilherme_2)\n",
    "temp_gui_5 = extract_template(img_path_guilherme_5)\n",
    "\n",
    "temp_bush = extract_template(img_path_g_bush)\n",
    "\n",
    "print(f'Comparison 1 (Guilherme 1 <-> Guilherme 2): {face_recognition.compare_faces([temp_gui_1], temp_gui_2)[0]}')\n",
    "print(f'Comparison 2 (Guilherme 1 <-> Guilherme 5): {face_recognition.compare_faces([temp_gui_1], temp_gui_5)[0]}')\n",
    "print(f'Comparison 2 (Guilherme 1 <-> Bush): {face_recognition.compare_faces([temp_gui_1], temp_bush)[0]}')"
   ]
  },
  {
   "cell_type": "code",
   "execution_count": null,
   "metadata": {},
   "outputs": [],
   "source": [
    "img = load_image_file(img_path_guilherme_5)\n",
    "\n",
    "\n",
    "# Get face locations\n",
    "locations = face_locations(img)\n",
    "\n",
    "# Plot the image with a box around the face\n",
    "fig, ax = plt.subplots()\n",
    "ax.imshow(img)\n",
    "\n",
    "# Draw a box around each face\n",
    "for (top, right, bottom, left) in locations:\n",
    "    rect = plt.Rectangle((left, top), right - left, bottom - top, edgecolor='red', facecolor='none')\n",
    "    ax.add_patch(rect)\n",
    "\n",
    "plt.show()"
   ]
  },
  {
   "cell_type": "code",
   "execution_count": null,
   "metadata": {},
   "outputs": [],
   "source": [
    "face_distance([temp_gui_1], temp_gui_2)"
   ]
  },
  {
   "cell_type": "code",
   "execution_count": null,
   "metadata": {},
   "outputs": [],
   "source": [
    "face_distance([temp_gui_1], temp_gui_5)"
   ]
  },
  {
   "cell_type": "code",
   "execution_count": null,
   "metadata": {},
   "outputs": [],
   "source": [
    "face_distance([temp_gui_1], temp_bush)"
   ]
  },
  {
   "cell_type": "code",
   "execution_count": null,
   "metadata": {},
   "outputs": [],
   "source": [
    "compare_faces([temp_gui_1], temp_bush)"
   ]
  }
 ],
 "metadata": {
  "kernelspec": {
   "display_name": "parai",
   "language": "python",
   "name": "python3"
  },
  "language_info": {
   "codemirror_mode": {
    "name": "ipython",
    "version": 3
   },
   "file_extension": ".py",
   "mimetype": "text/x-python",
   "name": "python",
   "nbconvert_exporter": "python",
   "pygments_lexer": "ipython3",
   "version": "3.8.0"
  }
 },
 "nbformat": 4,
 "nbformat_minor": 2
}
