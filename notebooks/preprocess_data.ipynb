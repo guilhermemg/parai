{
 "cells": [
  {
   "cell_type": "markdown",
   "metadata": {},
   "source": [
    "# Import Libraries"
   ]
  },
  {
   "cell_type": "code",
   "execution_count": 1,
   "metadata": {},
   "outputs": [],
   "source": [
    "import pandas as pd"
   ]
  },
  {
   "cell_type": "markdown",
   "metadata": {},
   "source": [
    "# Enroll Data"
   ]
  },
  {
   "cell_type": "code",
   "execution_count": null,
   "metadata": {},
   "outputs": [],
   "source": [
    "enroll_df = pd.read_csv('../data/csvs/enroll_imgs_lfw.csv')\n",
    "print(enroll_df.shape)\n",
    "enroll_df.head()"
   ]
  },
  {
   "cell_type": "code",
   "execution_count": null,
   "metadata": {},
   "outputs": [],
   "source": [
    "enroll_df.gcp_path.values[0]"
   ]
  },
  {
   "cell_type": "code",
   "execution_count": null,
   "metadata": {},
   "outputs": [
    {
     "data": {
      "text/html": [
       "<div>\n",
       "<style scoped>\n",
       "    .dataframe tbody tr th:only-of-type {\n",
       "        vertical-align: middle;\n",
       "    }\n",
       "\n",
       "    .dataframe tbody tr th {\n",
       "        vertical-align: top;\n",
       "    }\n",
       "\n",
       "    .dataframe thead th {\n",
       "        text-align: right;\n",
       "    }\n",
       "</style>\n",
       "<table border=\"1\" class=\"dataframe\">\n",
       "  <thead>\n",
       "    <tr style=\"text-align: right;\">\n",
       "      <th></th>\n",
       "      <th>person_name</th>\n",
       "      <th>img_name</th>\n",
       "      <th>gcp_path</th>\n",
       "      <th>img_path</th>\n",
       "    </tr>\n",
       "  </thead>\n",
       "  <tbody>\n",
       "    <tr>\n",
       "      <th>0</th>\n",
       "      <td>Abdel_Nasser_Assidi</td>\n",
       "      <td>Abdel_Nasser_Assidi_0001.jpg</td>\n",
       "      <td>gs://original-datasets-pesquisa/face/LFW/lfw/l...</td>\n",
       "      <td>/home/guilherme/projects/parai/app/data/images...</td>\n",
       "    </tr>\n",
       "    <tr>\n",
       "      <th>1</th>\n",
       "      <td>Abdullah_Gul</td>\n",
       "      <td>Abdullah_Gul_0012.jpg</td>\n",
       "      <td>gs://original-datasets-pesquisa/face/LFW/lfw/l...</td>\n",
       "      <td>/home/guilherme/projects/parai/app/data/images...</td>\n",
       "    </tr>\n",
       "    <tr>\n",
       "      <th>2</th>\n",
       "      <td>Abdullah_al-Attiyah</td>\n",
       "      <td>Abdullah_al-Attiyah_0001.jpg</td>\n",
       "      <td>gs://original-datasets-pesquisa/face/LFW/lfw/l...</td>\n",
       "      <td>/home/guilherme/projects/parai/app/data/images...</td>\n",
       "    </tr>\n",
       "    <tr>\n",
       "      <th>3</th>\n",
       "      <td>Adel_Al-Jubeir</td>\n",
       "      <td>Adel_Al-Jubeir_0002.jpg</td>\n",
       "      <td>gs://original-datasets-pesquisa/face/LFW/lfw/l...</td>\n",
       "      <td>/home/guilherme/projects/parai/app/data/images...</td>\n",
       "    </tr>\n",
       "    <tr>\n",
       "      <th>4</th>\n",
       "      <td>Ai_Sugiyama</td>\n",
       "      <td>Ai_Sugiyama_0003.jpg</td>\n",
       "      <td>gs://original-datasets-pesquisa/face/LFW/lfw/l...</td>\n",
       "      <td>/home/guilherme/projects/parai/app/data/images...</td>\n",
       "    </tr>\n",
       "  </tbody>\n",
       "</table>\n",
       "</div>"
      ],
      "text/plain": [
       "           person_name                      img_name  \\\n",
       "0  Abdel_Nasser_Assidi  Abdel_Nasser_Assidi_0001.jpg   \n",
       "1         Abdullah_Gul         Abdullah_Gul_0012.jpg   \n",
       "2  Abdullah_al-Attiyah  Abdullah_al-Attiyah_0001.jpg   \n",
       "3       Adel_Al-Jubeir       Adel_Al-Jubeir_0002.jpg   \n",
       "4          Ai_Sugiyama          Ai_Sugiyama_0003.jpg   \n",
       "\n",
       "                                            gcp_path  \\\n",
       "0  gs://original-datasets-pesquisa/face/LFW/lfw/l...   \n",
       "1  gs://original-datasets-pesquisa/face/LFW/lfw/l...   \n",
       "2  gs://original-datasets-pesquisa/face/LFW/lfw/l...   \n",
       "3  gs://original-datasets-pesquisa/face/LFW/lfw/l...   \n",
       "4  gs://original-datasets-pesquisa/face/LFW/lfw/l...   \n",
       "\n",
       "                                            img_path  \n",
       "0  /home/guilherme/projects/parai/app/data/images...  \n",
       "1  /home/guilherme/projects/parai/app/data/images...  \n",
       "2  /home/guilherme/projects/parai/app/data/images...  \n",
       "3  /home/guilherme/projects/parai/app/data/images...  \n",
       "4  /home/guilherme/projects/parai/app/data/images...  "
      ]
     },
     "metadata": {},
     "output_type": "display_data"
    }
   ],
   "source": [
    "BASE_PATH = '/home/guilherme/projects/parai/data/'\n",
    "\n",
    "enroll_df['img_path'] = enroll_df['gcp_path'].apply(lambda x: x.replace('gs://original-datasets-pesquisa/face/LFW/lfw/', 'images/'))\n",
    "enroll_df['img_path'] = BASE_PATH + enroll_df['img_path']\n",
    "\n",
    "enroll_df.head()"
   ]
  },
  {
   "cell_type": "code",
   "execution_count": null,
   "metadata": {},
   "outputs": [],
   "source": [
    "enroll_df.to_csv('../data/csvs/enroll_imgs_lfw_processed.csv', index=False)"
   ]
  },
  {
   "cell_type": "markdown",
   "metadata": {},
   "source": [
    "# Query Data"
   ]
  },
  {
   "cell_type": "code",
   "execution_count": null,
   "metadata": {},
   "outputs": [],
   "source": [
    "query_subjs = pd.read_csv('../data/query_imgs_lfw.csv')\n",
    "\n",
    "BASE_PATH = '/home/guilherme/projects/parai/data/'\n",
    "\n",
    "query_subjs['img_path'] = query_subjs['gcp_path'].apply(lambda x: x.replace('gs://original-datasets-pesquisa/face/LFW/lfw/', 'images/'))\n",
    "query_subjs['img_path'] = BASE_PATH + query_subjs['img_path']\n",
    "\n",
    "query_subjs.head()"
   ]
  },
  {
   "cell_type": "code",
   "execution_count": null,
   "metadata": {},
   "outputs": [],
   "source": [
    "query_subjs.to_csv('../data/csvs/query_imgs_lfw_processed.csv', index=False)"
   ]
  }
 ],
 "metadata": {
  "kernelspec": {
   "display_name": "parai",
   "language": "python",
   "name": "python3"
  },
  "language_info": {
   "codemirror_mode": {
    "name": "ipython",
    "version": 3
   },
   "file_extension": ".py",
   "mimetype": "text/x-python",
   "name": "python",
   "nbconvert_exporter": "python",
   "pygments_lexer": "ipython3",
   "version": "3.8.0"
  }
 },
 "nbformat": 4,
 "nbformat_minor": 2
}
