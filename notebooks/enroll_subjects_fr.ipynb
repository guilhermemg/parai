{
 "cells": [
  {
   "cell_type": "markdown",
   "metadata": {},
   "source": [
    "# Import Libraries"
   ]
  },
  {
   "cell_type": "code",
   "execution_count": 1,
   "metadata": {},
   "outputs": [],
   "source": [
    "import os\n",
    "\n",
    "import pandas as pd\n",
    "import numpy as np\n",
    "\n",
    "from tqdm import tqdm\n",
    "\n",
    "import face_recognition"
   ]
  },
  {
   "cell_type": "markdown",
   "metadata": {},
   "source": [
    "# Enroll Function"
   ]
  },
  {
   "cell_type": "code",
   "execution_count": 2,
   "metadata": {},
   "outputs": [],
   "source": [
    "def enroll_subject(img_path, dest_dir):\n",
    "    img_name = img_path.split('/')[-1]\n",
    "    img_name = img_name.replace('.jpg', '.npy')\n",
    "    template_path = f'{dest_dir}/{img_name}'\n",
    "    \n",
    "    image = face_recognition.load_image_file(img_path)\n",
    "    face_locations = face_recognition.face_locations(image)\n",
    "    #print(f'Face location: {face_locations}')\n",
    "\n",
    "    if len(face_locations) > 1:\n",
    "        print(f'Multiple faces detected in {img_path}. Skipping...')\n",
    "        #print('-----')\n",
    "        return\n",
    "\n",
    "    elif len(face_locations) == 0:\n",
    "        print(f'No faces detected in {img_path}. Skipping...')\n",
    "        #print('-----')\n",
    "        return\n",
    "\n",
    "    else:\n",
    "        f_location = face_locations[0]\n",
    "        encodings = face_recognition.face_encodings(image, [f_location])\n",
    "        encoding = encodings[0]        \n",
    "        np.save(template_path, encoding)"
   ]
  },
  {
   "cell_type": "markdown",
   "metadata": {},
   "source": [
    "# Enroll Just Enroll Images"
   ]
  },
  {
   "cell_type": "code",
   "execution_count": 7,
   "metadata": {},
   "outputs": [
    {
     "name": "stderr",
     "output_type": "stream",
     "text": [
      "  0%|          | 3/1680 [00:00<01:08, 24.55it/s]"
     ]
    },
    {
     "name": "stdout",
     "output_type": "stream",
     "text": [
      "Multiple faces detected in /home/guilherme/projects/parai/app/data/images/lfw/Abdel_Nasser_Assidi/Abdel_Nasser_Assidi_0001.jpg. Skipping...\n"
     ]
    },
    {
     "name": "stderr",
     "output_type": "stream",
     "text": [
      "  1%|          | 14/1680 [00:00<00:53, 31.11it/s]"
     ]
    },
    {
     "name": "stdout",
     "output_type": "stream",
     "text": [
      "Multiple faces detected in /home/guilherme/projects/parai/app/data/images/lfw/Alex_Sink/Alex_Sink_0001.jpg. Skipping...\n"
     ]
    },
    {
     "name": "stderr",
     "output_type": "stream",
     "text": [
      "  2%|▏         | 38/1680 [00:01<00:46, 34.96it/s]"
     ]
    },
    {
     "name": "stdout",
     "output_type": "stream",
     "text": [
      "Multiple faces detected in /home/guilherme/projects/parai/app/data/images/lfw/Bernardo_Segura/Bernardo_Segura_0001.jpg. Skipping...\n",
      "No faces detected in /home/guilherme/projects/parai/app/data/images/lfw/Beth_Jones/Beth_Jones_0002.jpg. Skipping...\n",
      "Multiple faces detected in /home/guilherme/projects/parai/app/data/images/lfw/Bijan_Namdar_Zangeneh/Bijan_Namdar_Zangeneh_0001.jpg. Skipping...\n"
     ]
    },
    {
     "name": "stderr",
     "output_type": "stream",
     "text": [
      "  3%|▎         | 50/1680 [00:01<00:47, 34.04it/s]"
     ]
    },
    {
     "name": "stdout",
     "output_type": "stream",
     "text": [
      "Multiple faces detected in /home/guilherme/projects/parai/app/data/images/lfw/Brad_Garrett/Brad_Garrett_0001.jpg. Skipping...\n"
     ]
    },
    {
     "name": "stderr",
     "output_type": "stream",
     "text": [
      "  4%|▍         | 66/1680 [00:01<00:46, 34.71it/s]"
     ]
    },
    {
     "name": "stdout",
     "output_type": "stream",
     "text": [
      "Multiple faces detected in /home/guilherme/projects/parai/app/data/images/lfw/Charles_Mathews/Charles_Mathews_0002.jpg. Skipping...\n",
      "Multiple faces detected in /home/guilherme/projects/parai/app/data/images/lfw/Charles_Moose/Charles_Moose_0003.jpg. Skipping...\n"
     ]
    },
    {
     "name": "stderr",
     "output_type": "stream",
     "text": [
      "  5%|▍         | 78/1680 [00:02<00:45, 34.85it/s]"
     ]
    },
    {
     "name": "stdout",
     "output_type": "stream",
     "text": [
      "Multiple faces detected in /home/guilherme/projects/parai/app/data/images/lfw/Coretta_Scott_King/Coretta_Scott_King_0002.jpg. Skipping...\n"
     ]
    },
    {
     "name": "stderr",
     "output_type": "stream",
     "text": [
      "  8%|▊         | 134/1680 [00:03<00:44, 34.52it/s]"
     ]
    },
    {
     "name": "stdout",
     "output_type": "stream",
     "text": [
      "Multiple faces detected in /home/guilherme/projects/parai/app/data/images/lfw/Gwendal_Peizerat/Gwendal_Peizerat_0002.jpg. Skipping...\n"
     ]
    },
    {
     "name": "stderr",
     "output_type": "stream",
     "text": [
      " 10%|█         | 170/1680 [00:05<00:44, 33.81it/s]"
     ]
    },
    {
     "name": "stdout",
     "output_type": "stream",
     "text": [
      "Multiple faces detected in /home/guilherme/projects/parai/app/data/images/lfw/John_Allen_Muhammad/John_Allen_Muhammad_0011.jpg. Skipping...\n"
     ]
    },
    {
     "name": "stderr",
     "output_type": "stream",
     "text": [
      " 11%|█         | 186/1680 [00:05<00:43, 34.38it/s]"
     ]
    },
    {
     "name": "stdout",
     "output_type": "stream",
     "text": [
      "Multiple faces detected in /home/guilherme/projects/parai/app/data/images/lfw/Kifah_Ajouri/Kifah_Ajouri_0002.jpg. Skipping...\n",
      "Multiple faces detected in /home/guilherme/projects/parai/app/data/images/lfw/Kim_Jong-Il/Kim_Jong-Il_0001.jpg. Skipping...\n",
      "Multiple faces detected in /home/guilherme/projects/parai/app/data/images/lfw/Kosuke_Kitajima/Kosuke_Kitajima_0002.jpg. Skipping...\n"
     ]
    },
    {
     "name": "stderr",
     "output_type": "stream",
     "text": [
      " 12%|█▏        | 202/1680 [00:05<00:42, 34.79it/s]"
     ]
    },
    {
     "name": "stdout",
     "output_type": "stream",
     "text": [
      "Multiple faces detected in /home/guilherme/projects/parai/app/data/images/lfw/Lea_Fastow/Lea_Fastow_0001.jpg. Skipping...\n",
      "Multiple faces detected in /home/guilherme/projects/parai/app/data/images/lfw/Lionel_Richie/Lionel_Richie_0001.jpg. Skipping...\n"
     ]
    },
    {
     "name": "stderr",
     "output_type": "stream",
     "text": [
      " 14%|█▎        | 230/1680 [00:06<00:41, 34.81it/s]"
     ]
    },
    {
     "name": "stdout",
     "output_type": "stream",
     "text": [
      "Multiple faces detected in /home/guilherme/projects/parai/app/data/images/lfw/Martin_Scorsese/Martin_Scorsese_0001.jpg. Skipping...\n",
      "Multiple faces detected in /home/guilherme/projects/parai/app/data/images/lfw/Melissa_Etheridge/Melissa_Etheridge_0002.jpg. Skipping...\n"
     ]
    },
    {
     "name": "stderr",
     "output_type": "stream",
     "text": [
      " 14%|█▍        | 238/1680 [00:07<00:41, 35.07it/s]"
     ]
    },
    {
     "name": "stdout",
     "output_type": "stream",
     "text": [
      "Multiple faces detected in /home/guilherme/projects/parai/app/data/images/lfw/Michel_Temer/Michel_Temer_0002.jpg. Skipping...\n"
     ]
    },
    {
     "name": "stderr",
     "output_type": "stream",
     "text": [
      " 15%|█▍        | 246/1680 [00:07<00:40, 35.12it/s]"
     ]
    },
    {
     "name": "stdout",
     "output_type": "stream",
     "text": [
      "No faces detected in /home/guilherme/projects/parai/app/data/images/lfw/Muammar_Gaddafi/Muammar_Gaddafi_0001.jpg. Skipping...\n"
     ]
    },
    {
     "name": "stderr",
     "output_type": "stream",
     "text": [
      " 15%|█▌        | 258/1680 [00:07<00:40, 34.91it/s]"
     ]
    },
    {
     "name": "stdout",
     "output_type": "stream",
     "text": [
      "Multiple faces detected in /home/guilherme/projects/parai/app/data/images/lfw/Norm_Coleman/Norm_Coleman_0007.jpg. Skipping...\n"
     ]
    },
    {
     "name": "stderr",
     "output_type": "stream",
     "text": [
      " 16%|█▌        | 270/1680 [00:07<00:42, 33.46it/s]"
     ]
    },
    {
     "name": "stdout",
     "output_type": "stream",
     "text": [
      "Multiple faces detected in /home/guilherme/projects/parai/app/data/images/lfw/Paul_Hogan/Paul_Hogan_0002.jpg. Skipping...\n"
     ]
    },
    {
     "name": "stderr",
     "output_type": "stream",
     "text": [
      " 22%|██▏       | 366/1680 [00:10<00:37, 35.01it/s]"
     ]
    },
    {
     "name": "stdout",
     "output_type": "stream",
     "text": [
      "Multiple faces detected in /home/guilherme/projects/parai/app/data/images/lfw/Alex_Penelas/Alex_Penelas_0001.jpg. Skipping...\n"
     ]
    },
    {
     "name": "stderr",
     "output_type": "stream",
     "text": [
      " 22%|██▏       | 374/1680 [00:11<00:37, 35.22it/s]"
     ]
    },
    {
     "name": "stdout",
     "output_type": "stream",
     "text": [
      "Multiple faces detected in /home/guilherme/projects/parai/app/data/images/lfw/Andrew_Niccol/Andrew_Niccol_0001.jpg. Skipping...\n"
     ]
    },
    {
     "name": "stderr",
     "output_type": "stream",
     "text": [
      " 23%|██▎       | 394/1680 [00:11<00:37, 33.98it/s]"
     ]
    },
    {
     "name": "stdout",
     "output_type": "stream",
     "text": [
      "Multiple faces detected in /home/guilherme/projects/parai/app/data/images/lfw/Bill_McBride/Bill_McBride_0002.jpg. Skipping...\n"
     ]
    },
    {
     "name": "stderr",
     "output_type": "stream",
     "text": [
      " 24%|██▍       | 406/1680 [00:12<00:36, 34.61it/s]"
     ]
    },
    {
     "name": "stdout",
     "output_type": "stream",
     "text": [
      "Multiple faces detected in /home/guilherme/projects/parai/app/data/images/lfw/Carlos_Ortega/Carlos_Ortega_0003.jpg. Skipping...\n"
     ]
    },
    {
     "name": "stderr",
     "output_type": "stream",
     "text": [
      " 25%|██▍       | 414/1680 [00:12<00:36, 34.52it/s]"
     ]
    },
    {
     "name": "stdout",
     "output_type": "stream",
     "text": [
      "Multiple faces detected in /home/guilherme/projects/parai/app/data/images/lfw/Charles_Schumer/Charles_Schumer_0002.jpg. Skipping...\n"
     ]
    },
    {
     "name": "stderr",
     "output_type": "stream",
     "text": [
      " 26%|██▋       | 442/1680 [00:13<00:36, 33.54it/s]"
     ]
    },
    {
     "name": "stdout",
     "output_type": "stream",
     "text": [
      "Multiple faces detected in /home/guilherme/projects/parai/app/data/images/lfw/Doris_Roberts/Doris_Roberts_0003.jpg. Skipping...\n"
     ]
    },
    {
     "name": "stderr",
     "output_type": "stream",
     "text": [
      " 27%|██▋       | 454/1680 [00:13<00:36, 33.78it/s]"
     ]
    },
    {
     "name": "stdout",
     "output_type": "stream",
     "text": [
      "Multiple faces detected in /home/guilherme/projects/parai/app/data/images/lfw/Ernie_Fletcher/Ernie_Fletcher_0002.jpg. Skipping...\n"
     ]
    },
    {
     "name": "stderr",
     "output_type": "stream",
     "text": [
      " 28%|██▊       | 470/1680 [00:13<00:35, 34.35it/s]"
     ]
    },
    {
     "name": "stdout",
     "output_type": "stream",
     "text": [
      "Multiple faces detected in /home/guilherme/projects/parai/app/data/images/lfw/George_Ryan/George_Ryan_0001.jpg. Skipping...\n",
      "Multiple faces detected in /home/guilherme/projects/parai/app/data/images/lfw/Gonzalo_Sanchez_de_Lozada/Gonzalo_Sanchez_de_Lozada_0010.jpg. Skipping...\n"
     ]
    },
    {
     "name": "stderr",
     "output_type": "stream",
     "text": [
      " 29%|██▊       | 482/1680 [00:14<00:34, 34.83it/s]"
     ]
    },
    {
     "name": "stdout",
     "output_type": "stream",
     "text": [
      "Multiple faces detected in /home/guilherme/projects/parai/app/data/images/lfw/Gwyneth_Paltrow/Gwyneth_Paltrow_0003.jpg. Skipping...\n",
      "Multiple faces detected in /home/guilherme/projects/parai/app/data/images/lfw/Harrison_Ford/Harrison_Ford_0004.jpg. Skipping...\n"
     ]
    },
    {
     "name": "stderr",
     "output_type": "stream",
     "text": [
      " 32%|███▏      | 530/1680 [00:15<00:34, 33.29it/s]"
     ]
    },
    {
     "name": "stdout",
     "output_type": "stream",
     "text": [
      "Multiple faces detected in /home/guilherme/projects/parai/app/data/images/lfw/Justine_Henin/Justine_Henin_0001.jpg. Skipping...\n"
     ]
    },
    {
     "name": "stderr",
     "output_type": "stream",
     "text": [
      " 32%|███▏      | 542/1680 [00:16<00:33, 33.87it/s]"
     ]
    },
    {
     "name": "stdout",
     "output_type": "stream",
     "text": [
      "Multiple faces detected in /home/guilherme/projects/parai/app/data/images/lfw/Kurt_Warner/Kurt_Warner_0002.jpg. Skipping...\n"
     ]
    },
    {
     "name": "stderr",
     "output_type": "stream",
     "text": [
      " 33%|███▎      | 558/1680 [00:16<00:33, 33.73it/s]"
     ]
    },
    {
     "name": "stdout",
     "output_type": "stream",
     "text": [
      "Multiple faces detected in /home/guilherme/projects/parai/app/data/images/lfw/Lynn_Abraham/Lynn_Abraham_0001.jpg. Skipping...\n",
      "Multiple faces detected in /home/guilherme/projects/parai/app/data/images/lfw/Marcelo_Ebrard/Marcelo_Ebrard_0003.jpg. Skipping...\n"
     ]
    },
    {
     "name": "stderr",
     "output_type": "stream",
     "text": [
      " 34%|███▍      | 570/1680 [00:16<00:31, 34.99it/s]"
     ]
    },
    {
     "name": "stdout",
     "output_type": "stream",
     "text": [
      "Multiple faces detected in /home/guilherme/projects/parai/app/data/images/lfw/Mesut_Yilmaz/Mesut_Yilmaz_0001.jpg. Skipping...\n",
      "Multiple faces detected in /home/guilherme/projects/parai/app/data/images/lfw/Michael_Keaton/Michael_Keaton_0002.jpg. Skipping...\n"
     ]
    },
    {
     "name": "stderr",
     "output_type": "stream",
     "text": [
      " 35%|███▍      | 586/1680 [00:17<00:31, 34.37it/s]"
     ]
    },
    {
     "name": "stdout",
     "output_type": "stream",
     "text": [
      "Multiple faces detected in /home/guilherme/projects/parai/app/data/images/lfw/Monica_Bellucci/Monica_Bellucci_0004.jpg. Skipping...\n"
     ]
    },
    {
     "name": "stderr",
     "output_type": "stream",
     "text": [
      " 36%|███▌      | 602/1680 [00:17<00:31, 34.31it/s]"
     ]
    },
    {
     "name": "stdout",
     "output_type": "stream",
     "text": [
      "Multiple faces detected in /home/guilherme/projects/parai/app/data/images/lfw/Paul_McCartney/Paul_McCartney_0005.jpg. Skipping...\n"
     ]
    },
    {
     "name": "stderr",
     "output_type": "stream",
     "text": [
      " 37%|███▋      | 618/1680 [00:18<00:31, 34.20it/s]"
     ]
    },
    {
     "name": "stdout",
     "output_type": "stream",
     "text": [
      "Multiple faces detected in /home/guilherme/projects/parai/app/data/images/lfw/Ralph_Klein/Ralph_Klein_0001.jpg. Skipping...\n",
      "Multiple faces detected in /home/guilherme/projects/parai/app/data/images/lfw/Ricardo_Maduro/Ricardo_Maduro_0002.jpg. Skipping...\n",
      "Multiple faces detected in /home/guilherme/projects/parai/app/data/images/lfw/Rick_Carlisle/Rick_Carlisle_0001.jpg. Skipping...\n"
     ]
    },
    {
     "name": "stderr",
     "output_type": "stream",
     "text": [
      " 38%|███▊      | 634/1680 [00:18<00:30, 34.01it/s]"
     ]
    },
    {
     "name": "stdout",
     "output_type": "stream",
     "text": [
      "Multiple faces detected in /home/guilherme/projects/parai/app/data/images/lfw/Robin_McLaurin_Williams/Robin_McLaurin_Williams_0001.jpg. Skipping...\n"
     ]
    },
    {
     "name": "stderr",
     "output_type": "stream",
     "text": [
      " 39%|███▊      | 650/1680 [00:19<00:29, 34.80it/s]"
     ]
    },
    {
     "name": "stdout",
     "output_type": "stream",
     "text": [
      "Multiple faces detected in /home/guilherme/projects/parai/app/data/images/lfw/Sandra_Bullock/Sandra_Bullock_0004.jpg. Skipping...\n"
     ]
    },
    {
     "name": "stderr",
     "output_type": "stream",
     "text": [
      " 39%|███▉      | 658/1680 [00:19<00:28, 35.42it/s]"
     ]
    },
    {
     "name": "stdout",
     "output_type": "stream",
     "text": [
      "Multiple faces detected in /home/guilherme/projects/parai/app/data/images/lfw/Silvan_Shalom/Silvan_Shalom_0004.jpg. Skipping...\n"
     ]
    },
    {
     "name": "stderr",
     "output_type": "stream",
     "text": [
      " 40%|████      | 678/1680 [00:19<00:28, 35.12it/s]"
     ]
    },
    {
     "name": "stdout",
     "output_type": "stream",
     "text": [
      "Multiple faces detected in /home/guilherme/projects/parai/app/data/images/lfw/Trent_Lott/Trent_Lott_0002.jpg. Skipping...\n",
      "Multiple faces detected in /home/guilherme/projects/parai/app/data/images/lfw/Vin_Diesel/Vin_Diesel_0001.jpg. Skipping...\n"
     ]
    },
    {
     "name": "stderr",
     "output_type": "stream",
     "text": [
      " 41%|████▏     | 694/1680 [00:20<00:28, 34.16it/s]"
     ]
    },
    {
     "name": "stdout",
     "output_type": "stream",
     "text": [
      "Multiple faces detected in /home/guilherme/projects/parai/app/data/images/lfw/Abdullatif_Sener/Abdullatif_Sener_0002.jpg. Skipping...\n",
      "Multiple faces detected in /home/guilherme/projects/parai/app/data/images/lfw/Adrien_Brody/Adrien_Brody_0002.jpg. Skipping...\n"
     ]
    },
    {
     "name": "stderr",
     "output_type": "stream",
     "text": [
      " 44%|████▎     | 734/1680 [00:21<00:28, 33.35it/s]"
     ]
    },
    {
     "name": "stdout",
     "output_type": "stream",
     "text": [
      "Multiple faces detected in /home/guilherme/projects/parai/app/data/images/lfw/Andrew_Weissmann/Andrew_Weissmann_0002.jpg. Skipping...\n"
     ]
    },
    {
     "name": "stderr",
     "output_type": "stream",
     "text": [
      " 47%|████▋     | 794/1680 [00:23<00:25, 35.34it/s]"
     ]
    },
    {
     "name": "stdout",
     "output_type": "stream",
     "text": [
      "Multiple faces detected in /home/guilherme/projects/parai/app/data/images/lfw/Boris_Becker/Boris_Becker_0006.jpg. Skipping...\n",
      "Multiple faces detected in /home/guilherme/projects/parai/app/data/images/lfw/Boris_Berezovsky/Boris_Berezovsky_0001.jpg. Skipping...\n"
     ]
    },
    {
     "name": "stderr",
     "output_type": "stream",
     "text": [
      " 48%|████▊     | 814/1680 [00:23<00:24, 34.84it/s]"
     ]
    },
    {
     "name": "stdout",
     "output_type": "stream",
     "text": [
      "Multiple faces detected in /home/guilherme/projects/parai/app/data/images/lfw/Carla_Del_Ponte/Carla_Del_Ponte_0004.jpg. Skipping...\n"
     ]
    },
    {
     "name": "stderr",
     "output_type": "stream",
     "text": [
      " 49%|████▉     | 830/1680 [00:24<00:24, 34.81it/s]"
     ]
    },
    {
     "name": "stdout",
     "output_type": "stream",
     "text": [
      "Multiple faces detected in /home/guilherme/projects/parai/app/data/images/lfw/Chakib_Khelil/Chakib_Khelil_0002.jpg. Skipping...\n"
     ]
    },
    {
     "name": "stderr",
     "output_type": "stream",
     "text": [
      " 50%|█████     | 846/1680 [00:24<00:24, 33.92it/s]"
     ]
    },
    {
     "name": "stdout",
     "output_type": "stream",
     "text": [
      "Multiple faces detected in /home/guilherme/projects/parai/app/data/images/lfw/Christian_Wulff/Christian_Wulff_0002.jpg. Skipping...\n",
      "Multiple faces detected in /home/guilherme/projects/parai/app/data/images/lfw/Christine_Todd_Whitman/Christine_Todd_Whitman_0005.jpg. Skipping...\n"
     ]
    },
    {
     "name": "stderr",
     "output_type": "stream",
     "text": [
      " 51%|█████     | 858/1680 [00:25<00:24, 34.15it/s]"
     ]
    },
    {
     "name": "stdout",
     "output_type": "stream",
     "text": [
      "No faces detected in /home/guilherme/projects/parai/app/data/images/lfw/Claudia_Pechstein/Claudia_Pechstein_0005.jpg. Skipping...\n",
      "No faces detected in /home/guilherme/projects/parai/app/data/images/lfw/Colin_Montgomerie/Colin_Montgomerie_0004.jpg. Skipping...\n"
     ]
    },
    {
     "name": "stderr",
     "output_type": "stream",
     "text": [
      " 52%|█████▏    | 878/1680 [00:25<00:23, 34.72it/s]"
     ]
    },
    {
     "name": "stdout",
     "output_type": "stream",
     "text": [
      "Multiple faces detected in /home/guilherme/projects/parai/app/data/images/lfw/David_Bell/David_Bell_0001.jpg. Skipping...\n",
      "Multiple faces detected in /home/guilherme/projects/parai/app/data/images/lfw/David_Hyde_Pierce/David_Hyde_Pierce_0003.jpg. Skipping...\n"
     ]
    },
    {
     "name": "stderr",
     "output_type": "stream",
     "text": [
      " 54%|█████▍    | 906/1680 [00:26<00:22, 34.73it/s]"
     ]
    },
    {
     "name": "stdout",
     "output_type": "stream",
     "text": [
      "Multiple faces detected in /home/guilherme/projects/parai/app/data/images/lfw/Dolma_Tsering/Dolma_Tsering_0002.jpg. Skipping...\n",
      "Multiple faces detected in /home/guilherme/projects/parai/app/data/images/lfw/Donatella_Versace/Donatella_Versace_0003.jpg. Skipping...\n",
      "Multiple faces detected in /home/guilherme/projects/parai/app/data/images/lfw/Dorthy_Moxley/Dorthy_Moxley_0002.jpg. Skipping...\n"
     ]
    },
    {
     "name": "stderr",
     "output_type": "stream",
     "text": [
      " 54%|█████▍    | 914/1680 [00:26<00:21, 35.46it/s]"
     ]
    },
    {
     "name": "stdout",
     "output_type": "stream",
     "text": [
      "Multiple faces detected in /home/guilherme/projects/parai/app/data/images/lfw/Doug_Duncan/Doug_Duncan_0001.jpg. Skipping...\n",
      "Multiple faces detected in /home/guilherme/projects/parai/app/data/images/lfw/Ed_Smart/Ed_Smart_0001.jpg. Skipping...\n",
      "Multiple faces detected in /home/guilherme/projects/parai/app/data/images/lfw/Edie_Falco/Edie_Falco_0001.jpg. Skipping...\n"
     ]
    },
    {
     "name": "stderr",
     "output_type": "stream",
     "text": [
      " 55%|█████▍    | 922/1680 [00:27<00:21, 34.89it/s]"
     ]
    },
    {
     "name": "stdout",
     "output_type": "stream",
     "text": [
      "Multiple faces detected in /home/guilherme/projects/parai/app/data/images/lfw/Edward_Lu/Edward_Lu_0001.jpg. Skipping...\n"
     ]
    },
    {
     "name": "stderr",
     "output_type": "stream",
     "text": [
      " 56%|█████▌    | 938/1680 [00:27<00:21, 33.87it/s]"
     ]
    },
    {
     "name": "stdout",
     "output_type": "stream",
     "text": [
      "Multiple faces detected in /home/guilherme/projects/parai/app/data/images/lfw/Emily_Robison/Emily_Robison_0002.jpg. Skipping...\n",
      "Multiple faces detected in /home/guilherme/projects/parai/app/data/images/lfw/Erika_Harold/Erika_Harold_0003.jpg. Skipping...\n"
     ]
    },
    {
     "name": "stderr",
     "output_type": "stream",
     "text": [
      " 57%|█████▋    | 954/1680 [00:27<00:20, 34.86it/s]"
     ]
    },
    {
     "name": "stdout",
     "output_type": "stream",
     "text": [
      "Multiple faces detected in /home/guilherme/projects/parai/app/data/images/lfw/Felipe_Perez_Roque/Felipe_Perez_Roque_0003.jpg. Skipping...\n",
      "Multiple faces detected in /home/guilherme/projects/parai/app/data/images/lfw/Frances_Fisher/Frances_Fisher_0001.jpg. Skipping...\n"
     ]
    },
    {
     "name": "stderr",
     "output_type": "stream",
     "text": [
      " 57%|█████▊    | 966/1680 [00:28<00:20, 34.23it/s]"
     ]
    },
    {
     "name": "stdout",
     "output_type": "stream",
     "text": [
      "Multiple faces detected in /home/guilherme/projects/parai/app/data/images/lfw/Frank_Dunham_Jr/Frank_Dunham_Jr_0001.jpg. Skipping...\n"
     ]
    },
    {
     "name": "stderr",
     "output_type": "stream",
     "text": [
      " 58%|█████▊    | 978/1680 [00:28<00:20, 34.04it/s]"
     ]
    },
    {
     "name": "stdout",
     "output_type": "stream",
     "text": [
      "Multiple faces detected in /home/guilherme/projects/parai/app/data/images/lfw/Gary_Doer/Gary_Doer_0001.jpg. Skipping...\n"
     ]
    },
    {
     "name": "stderr",
     "output_type": "stream",
     "text": [
      " 59%|█████▉    | 994/1680 [00:29<00:20, 34.00it/s]"
     ]
    },
    {
     "name": "stdout",
     "output_type": "stream",
     "text": [
      "Multiple faces detected in /home/guilherme/projects/parai/app/data/images/lfw/Gerard_Depardieu/Gerard_Depardieu_0002.jpg. Skipping...\n"
     ]
    },
    {
     "name": "stderr",
     "output_type": "stream",
     "text": [
      " 60%|██████    | 1010/1680 [00:29<00:19, 33.59it/s]"
     ]
    },
    {
     "name": "stdout",
     "output_type": "stream",
     "text": [
      "Multiple faces detected in /home/guilherme/projects/parai/app/data/images/lfw/Gro_Harlem_Brundtland/Gro_Harlem_Brundtland_0001.jpg. Skipping...\n",
      "Multiple faces detected in /home/guilherme/projects/parai/app/data/images/lfw/Guillaume_Soro/Guillaume_Soro_0001.jpg. Skipping...\n"
     ]
    },
    {
     "name": "stderr",
     "output_type": "stream",
     "text": [
      " 61%|██████    | 1018/1680 [00:29<00:19, 33.26it/s]"
     ]
    },
    {
     "name": "stdout",
     "output_type": "stream",
     "text": [
      "Multiple faces detected in /home/guilherme/projects/parai/app/data/images/lfw/Habib_Rizieq/Habib_Rizieq_0001.jpg. Skipping...\n"
     ]
    },
    {
     "name": "stderr",
     "output_type": "stream",
     "text": [
      " 64%|██████▎   | 1070/1680 [00:31<00:18, 33.72it/s]"
     ]
    },
    {
     "name": "stdout",
     "output_type": "stream",
     "text": [
      "Multiple faces detected in /home/guilherme/projects/parai/app/data/images/lfw/James_Butts/James_Butts_0001.jpg. Skipping...\n"
     ]
    },
    {
     "name": "stderr",
     "output_type": "stream",
     "text": [
      " 64%|██████▍   | 1078/1680 [00:31<00:18, 32.41it/s]"
     ]
    },
    {
     "name": "stdout",
     "output_type": "stream",
     "text": [
      "No faces detected in /home/guilherme/projects/parai/app/data/images/lfw/James_McGreevey/James_McGreevey_0002.jpg. Skipping...\n"
     ]
    },
    {
     "name": "stderr",
     "output_type": "stream",
     "text": [
      " 65%|██████▌   | 1094/1680 [00:32<00:18, 32.51it/s]"
     ]
    },
    {
     "name": "stdout",
     "output_type": "stream",
     "text": [
      "Multiple faces detected in /home/guilherme/projects/parai/app/data/images/lfw/Javier_Weber/Javier_Weber_0001.jpg. Skipping...\n"
     ]
    },
    {
     "name": "stderr",
     "output_type": "stream",
     "text": [
      " 66%|██████▌   | 1106/1680 [00:32<00:17, 33.50it/s]"
     ]
    },
    {
     "name": "stdout",
     "output_type": "stream",
     "text": [
      "Multiple faces detected in /home/guilherme/projects/parai/app/data/images/lfw/Jeanne_Moreau/Jeanne_Moreau_0001.jpg. Skipping...\n"
     ]
    },
    {
     "name": "stderr",
     "output_type": "stream",
     "text": [
      " 67%|██████▋   | 1126/1680 [00:33<00:16, 34.16it/s]"
     ]
    },
    {
     "name": "stdout",
     "output_type": "stream",
     "text": [
      "No faces detected in /home/guilherme/projects/parai/app/data/images/lfw/Jessica_Lynch/Jessica_Lynch_0001.jpg. Skipping...\n"
     ]
    },
    {
     "name": "stderr",
     "output_type": "stream",
     "text": [
      " 68%|██████▊   | 1142/1680 [00:33<00:15, 34.26it/s]"
     ]
    },
    {
     "name": "stdout",
     "output_type": "stream",
     "text": [
      "Multiple faces detected in /home/guilherme/projects/parai/app/data/images/lfw/John_Blaney/John_Blaney_0002.jpg. Skipping...\n"
     ]
    },
    {
     "name": "stderr",
     "output_type": "stream",
     "text": [
      " 69%|██████▊   | 1154/1680 [00:33<00:14, 35.34it/s]"
     ]
    },
    {
     "name": "stdout",
     "output_type": "stream",
     "text": [
      "Multiple faces detected in /home/guilherme/projects/parai/app/data/images/lfw/John_McEnroe/John_McEnroe_0002.jpg. Skipping...\n"
     ]
    },
    {
     "name": "stderr",
     "output_type": "stream",
     "text": [
      " 69%|██████▉   | 1166/1680 [00:34<00:15, 34.02it/s]"
     ]
    },
    {
     "name": "stdout",
     "output_type": "stream",
     "text": [
      "Multiple faces detected in /home/guilherme/projects/parai/app/data/images/lfw/John_Warner/John_Warner_0002.jpg. Skipping...\n"
     ]
    },
    {
     "name": "stderr",
     "output_type": "stream",
     "text": [
      " 70%|██████▉   | 1174/1680 [00:34<00:14, 34.11it/s]"
     ]
    },
    {
     "name": "stdout",
     "output_type": "stream",
     "text": [
      "Multiple faces detected in /home/guilherme/projects/parai/app/data/images/lfw/Jong_Thae_Hwa/Jong_Thae_Hwa_0001.jpg. Skipping...\n"
     ]
    },
    {
     "name": "stderr",
     "output_type": "stream",
     "text": [
      " 71%|███████▏  | 1198/1680 [00:35<00:14, 33.96it/s]"
     ]
    },
    {
     "name": "stdout",
     "output_type": "stream",
     "text": [
      "Multiple faces detected in /home/guilherme/projects/parai/app/data/images/lfw/Julianne_Moore/Julianne_Moore_0016.jpg. Skipping...\n",
      "Multiple faces detected in /home/guilherme/projects/parai/app/data/images/lfw/Kate_Capshaw/Kate_Capshaw_0002.jpg. Skipping...\n"
     ]
    },
    {
     "name": "stderr",
     "output_type": "stream",
     "text": [
      " 73%|███████▎  | 1226/1680 [00:36<00:12, 35.16it/s]"
     ]
    },
    {
     "name": "stdout",
     "output_type": "stream",
     "text": [
      "Multiple faces detected in /home/guilherme/projects/parai/app/data/images/lfw/Kimi_Raikkonen/Kimi_Raikkonen_0001.jpg. Skipping...\n",
      "No faces detected in /home/guilherme/projects/parai/app/data/images/lfw/Kobe_Bryant/Kobe_Bryant_0002.jpg. Skipping...\n",
      "Multiple faces detected in /home/guilherme/projects/parai/app/data/images/lfw/Kristanna_Loken/Kristanna_Loken_0003.jpg. Skipping...\n"
     ]
    },
    {
     "name": "stderr",
     "output_type": "stream",
     "text": [
      " 74%|███████▎  | 1238/1680 [00:36<00:12, 34.63it/s]"
     ]
    },
    {
     "name": "stdout",
     "output_type": "stream",
     "text": [
      "Multiple faces detected in /home/guilherme/projects/parai/app/data/images/lfw/Larry_Lucchino/Larry_Lucchino_0001.jpg. Skipping...\n",
      "Multiple faces detected in /home/guilherme/projects/parai/app/data/images/lfw/Lars_Von_Trier/Lars_Von_Trier_0003.jpg. Skipping...\n",
      "Multiple faces detected in /home/guilherme/projects/parai/app/data/images/lfw/Lauren_Killian/Lauren_Killian_0002.jpg. Skipping...\n"
     ]
    },
    {
     "name": "stderr",
     "output_type": "stream",
     "text": [
      " 75%|███████▌  | 1266/1680 [00:37<00:12, 33.44it/s]"
     ]
    },
    {
     "name": "stdout",
     "output_type": "stream",
     "text": [
      "Multiple faces detected in /home/guilherme/projects/parai/app/data/images/lfw/Lino_Oviedo/Lino_Oviedo_0002.jpg. Skipping...\n"
     ]
    },
    {
     "name": "stderr",
     "output_type": "stream",
     "text": [
      " 77%|███████▋  | 1294/1680 [00:38<00:11, 34.44it/s]"
     ]
    },
    {
     "name": "stdout",
     "output_type": "stream",
     "text": [
      "Multiple faces detected in /home/guilherme/projects/parai/app/data/images/lfw/Maria_Luisa_Mendonca/Maria_Luisa_Mendonca_0002.jpg. Skipping...\n"
     ]
    },
    {
     "name": "stderr",
     "output_type": "stream",
     "text": [
      " 78%|███████▊  | 1314/1680 [00:38<00:10, 35.06it/s]"
     ]
    },
    {
     "name": "stdout",
     "output_type": "stream",
     "text": [
      "Multiple faces detected in /home/guilherme/projects/parai/app/data/images/lfw/Martha_Beatriz_Roque/Martha_Beatriz_Roque_0001.jpg. Skipping...\n",
      "Multiple faces detected in /home/guilherme/projects/parai/app/data/images/lfw/Martha_Burk/Martha_Burk_0004.jpg. Skipping...\n",
      "Multiple faces detected in /home/guilherme/projects/parai/app/data/images/lfw/Martha_Lucia_Ramirez/Martha_Lucia_Ramirez_0003.jpg. Skipping...\n"
     ]
    },
    {
     "name": "stderr",
     "output_type": "stream",
     "text": [
      " 80%|████████  | 1350/1680 [00:39<00:09, 34.31it/s]"
     ]
    },
    {
     "name": "stdout",
     "output_type": "stream",
     "text": [
      "Multiple faces detected in /home/guilherme/projects/parai/app/data/images/lfw/Michel_Duclos/Michel_Duclos_0001.jpg. Skipping...\n"
     ]
    },
    {
     "name": "stderr",
     "output_type": "stream",
     "text": [
      " 81%|████████▏ | 1366/1680 [00:40<00:09, 34.46it/s]"
     ]
    },
    {
     "name": "stdout",
     "output_type": "stream",
     "text": [
      "Multiple faces detected in /home/guilherme/projects/parai/app/data/images/lfw/Milo_Djukanovic/Milo_Djukanovic_0002.jpg. Skipping...\n"
     ]
    },
    {
     "name": "stderr",
     "output_type": "stream",
     "text": [
      " 84%|████████▎ | 1406/1680 [00:41<00:08, 33.18it/s]"
     ]
    },
    {
     "name": "stdout",
     "output_type": "stream",
     "text": [
      "Multiple faces detected in /home/guilherme/projects/parai/app/data/images/lfw/Nursultan_Nazarbayev/Nursultan_Nazarbayev_0002.jpg. Skipping...\n"
     ]
    },
    {
     "name": "stderr",
     "output_type": "stream",
     "text": [
      " 84%|████████▍ | 1418/1680 [00:41<00:07, 33.21it/s]"
     ]
    },
    {
     "name": "stdout",
     "output_type": "stream",
     "text": [
      "Multiple faces detected in /home/guilherme/projects/parai/app/data/images/lfw/Ozzy_Osbourne/Ozzy_Osbourne_0002.jpg. Skipping...\n"
     ]
    },
    {
     "name": "stderr",
     "output_type": "stream",
     "text": [
      " 85%|████████▍ | 1426/1680 [00:41<00:07, 33.30it/s]"
     ]
    },
    {
     "name": "stdout",
     "output_type": "stream",
     "text": [
      "Multiple faces detected in /home/guilherme/projects/parai/app/data/images/lfw/Patrick_Leahy/Patrick_Leahy_0001.jpg. Skipping...\n"
     ]
    },
    {
     "name": "stderr",
     "output_type": "stream",
     "text": [
      " 86%|████████▌ | 1438/1680 [00:42<00:07, 32.71it/s]"
     ]
    },
    {
     "name": "stdout",
     "output_type": "stream",
     "text": [
      "Multiple faces detected in /home/guilherme/projects/parai/app/data/images/lfw/Paul_Shanley/Paul_Shanley_0002.jpg. Skipping...\n"
     ]
    },
    {
     "name": "stderr",
     "output_type": "stream",
     "text": [
      " 86%|████████▌ | 1446/1680 [00:42<00:06, 34.15it/s]"
     ]
    },
    {
     "name": "stdout",
     "output_type": "stream",
     "text": [
      "Multiple faces detected in /home/guilherme/projects/parai/app/data/images/lfw/Pervez_Musharraf/Pervez_Musharraf_0013.jpg. Skipping...\n",
      "Multiple faces detected in /home/guilherme/projects/parai/app/data/images/lfw/Peter_Greenaway/Peter_Greenaway_0001.jpg. Skipping...\n",
      "Multiple faces detected in /home/guilherme/projects/parai/app/data/images/lfw/Peter_Hillary/Peter_Hillary_0002.jpg. Skipping...\n"
     ]
    },
    {
     "name": "stderr",
     "output_type": "stream",
     "text": [
      " 87%|████████▋ | 1454/1680 [00:42<00:06, 33.48it/s]"
     ]
    },
    {
     "name": "stdout",
     "output_type": "stream",
     "text": [
      "Multiple faces detected in /home/guilherme/projects/parai/app/data/images/lfw/Phil_Gramm/Phil_Gramm_0001.jpg. Skipping...\n"
     ]
    },
    {
     "name": "stderr",
     "output_type": "stream",
     "text": [
      " 89%|████████▉ | 1498/1680 [00:44<00:05, 34.91it/s]"
     ]
    },
    {
     "name": "stdout",
     "output_type": "stream",
     "text": [
      "Multiple faces detected in /home/guilherme/projects/parai/app/data/images/lfw/Rita_Moreno/Rita_Moreno_0002.jpg. Skipping...\n"
     ]
    },
    {
     "name": "stderr",
     "output_type": "stream",
     "text": [
      " 90%|████████▉ | 1506/1680 [00:44<00:04, 35.89it/s]"
     ]
    },
    {
     "name": "stdout",
     "output_type": "stream",
     "text": [
      "Multiple faces detected in /home/guilherme/projects/parai/app/data/images/lfw/Robert_Evans/Robert_Evans_0003.jpg. Skipping...\n",
      "Multiple faces detected in /home/guilherme/projects/parai/app/data/images/lfw/Robert_Fico/Robert_Fico_0001.jpg. Skipping...\n"
     ]
    },
    {
     "name": "stderr",
     "output_type": "stream",
     "text": [
      " 90%|█████████ | 1514/1680 [00:44<00:04, 34.43it/s]"
     ]
    },
    {
     "name": "stdout",
     "output_type": "stream",
     "text": [
      "Multiple faces detected in /home/guilherme/projects/parai/app/data/images/lfw/Robin_Cook/Robin_Cook_0002.jpg. Skipping...\n"
     ]
    },
    {
     "name": "stderr",
     "output_type": "stream",
     "text": [
      " 91%|█████████ | 1526/1680 [00:44<00:04, 34.44it/s]"
     ]
    },
    {
     "name": "stdout",
     "output_type": "stream",
     "text": [
      "Multiple faces detected in /home/guilherme/projects/parai/app/data/images/lfw/Ron_Howard/Ron_Howard_0001.jpg. Skipping...\n"
     ]
    },
    {
     "name": "stderr",
     "output_type": "stream",
     "text": [
      " 91%|█████████▏| 1534/1680 [00:45<00:04, 34.44it/s]"
     ]
    },
    {
     "name": "stdout",
     "output_type": "stream",
     "text": [
      "Multiple faces detected in /home/guilherme/projects/parai/app/data/images/lfw/Rupert_Grint/Rupert_Grint_0002.jpg. Skipping...\n"
     ]
    },
    {
     "name": "stderr",
     "output_type": "stream",
     "text": [
      " 92%|█████████▏| 1546/1680 [00:45<00:03, 34.23it/s]"
     ]
    },
    {
     "name": "stdout",
     "output_type": "stream",
     "text": [
      "Multiple faces detected in /home/guilherme/projects/parai/app/data/images/lfw/Sarah_Hughes/Sarah_Hughes_0004.jpg. Skipping...\n",
      "Multiple faces detected in /home/guilherme/projects/parai/app/data/images/lfw/Scott_Sullivan/Scott_Sullivan_0001.jpg. Skipping...\n"
     ]
    },
    {
     "name": "stderr",
     "output_type": "stream",
     "text": [
      " 95%|█████████▍| 1594/1680 [00:46<00:02, 34.53it/s]"
     ]
    },
    {
     "name": "stdout",
     "output_type": "stream",
     "text": [
      "Multiple faces detected in /home/guilherme/projects/parai/app/data/images/lfw/Tassos_Papadopoulos/Tassos_Papadopoulos_0001.jpg. Skipping...\n"
     ]
    },
    {
     "name": "stderr",
     "output_type": "stream",
     "text": [
      " 96%|█████████▌| 1606/1680 [00:47<00:02, 34.21it/s]"
     ]
    },
    {
     "name": "stdout",
     "output_type": "stream",
     "text": [
      "No faces detected in /home/guilherme/projects/parai/app/data/images/lfw/Thomas_Birmingham/Thomas_Birmingham_0002.jpg. Skipping...\n"
     ]
    },
    {
     "name": "stderr",
     "output_type": "stream",
     "text": [
      " 98%|█████████▊| 1638/1680 [00:48<00:01, 33.68it/s]"
     ]
    },
    {
     "name": "stdout",
     "output_type": "stream",
     "text": [
      "Multiple faces detected in /home/guilherme/projects/parai/app/data/images/lfw/Uma_Thurman/Uma_Thurman_0002.jpg. Skipping...\n"
     ]
    },
    {
     "name": "stderr",
     "output_type": "stream",
     "text": [
      " 98%|█████████▊| 1650/1680 [00:48<00:00, 33.62it/s]"
     ]
    },
    {
     "name": "stdout",
     "output_type": "stream",
     "text": [
      "Multiple faces detected in /home/guilherme/projects/parai/app/data/images/lfw/Vincent_Gallo/Vincent_Gallo_0003.jpg. Skipping...\n"
     ]
    },
    {
     "name": "stderr",
     "output_type": "stream",
     "text": [
      " 99%|█████████▉| 1670/1680 [00:49<00:00, 33.86it/s]"
     ]
    },
    {
     "name": "stdout",
     "output_type": "stream",
     "text": [
      "Multiple faces detected in /home/guilherme/projects/parai/app/data/images/lfw/Woody_Allen/Woody_Allen_0004.jpg. Skipping...\n"
     ]
    },
    {
     "name": "stderr",
     "output_type": "stream",
     "text": [
      "100%|██████████| 1680/1680 [00:49<00:00, 34.00it/s]\n"
     ]
    }
   ],
   "source": [
    "enroll_df = pd.read_csv('../app/data/enroll_imgs_lfw_processed.csv')\n",
    "dest_dir = '../app/data/templates/fr_templates'\n",
    "\n",
    "for i, row in tqdm(enroll_df.iterrows(), total=enroll_df.shape[0]):\n",
    "    enroll_subject(row['img_path'], dest_dir)"
   ]
  },
  {
   "cell_type": "code",
   "execution_count": 8,
   "metadata": {},
   "outputs": [
    {
     "name": "stdout",
     "output_type": "stream",
     "text": [
      "Number of extracted templates: 1556\n"
     ]
    }
   ],
   "source": [
    "print(f'Number of extracted templates: {len(os.listdir(dest_dir))}')"
   ]
  },
  {
   "cell_type": "markdown",
   "metadata": {},
   "source": [
    "# Run Enroll Full Dataset"
   ]
  },
  {
   "cell_type": "code",
   "execution_count": 9,
   "metadata": {},
   "outputs": [
    {
     "name": "stderr",
     "output_type": "stream",
     "text": [
      "  0%|          | 4/1680 [00:00<00:48, 34.86it/s]"
     ]
    },
    {
     "name": "stdout",
     "output_type": "stream",
     "text": [
      "Multiple faces detected in /home/guilherme/projects/parai/app/data/images/lfw/Abdel_Nasser_Assidi/Abdel_Nasser_Assidi_0001.jpg. Skipping...\n"
     ]
    },
    {
     "name": "stderr",
     "output_type": "stream",
     "text": [
      "  1%|          | 16/1680 [00:00<00:47, 34.86it/s]"
     ]
    },
    {
     "name": "stdout",
     "output_type": "stream",
     "text": [
      "Multiple faces detected in /home/guilherme/projects/parai/app/data/images/lfw/Alex_Sink/Alex_Sink_0001.jpg. Skipping...\n"
     ]
    },
    {
     "name": "stderr",
     "output_type": "stream",
     "text": [
      "  2%|▏         | 36/1680 [00:01<00:46, 35.34it/s]"
     ]
    },
    {
     "name": "stdout",
     "output_type": "stream",
     "text": [
      "Multiple faces detected in /home/guilherme/projects/parai/app/data/images/lfw/Bernardo_Segura/Bernardo_Segura_0001.jpg. Skipping...\n",
      "No faces detected in /home/guilherme/projects/parai/app/data/images/lfw/Beth_Jones/Beth_Jones_0002.jpg. Skipping...\n",
      "Multiple faces detected in /home/guilherme/projects/parai/app/data/images/lfw/Bijan_Namdar_Zangeneh/Bijan_Namdar_Zangeneh_0001.jpg. Skipping...\n"
     ]
    },
    {
     "name": "stderr",
     "output_type": "stream",
     "text": [
      "  3%|▎         | 48/1680 [00:01<00:46, 34.76it/s]"
     ]
    },
    {
     "name": "stdout",
     "output_type": "stream",
     "text": [
      "Multiple faces detected in /home/guilherme/projects/parai/app/data/images/lfw/Brad_Garrett/Brad_Garrett_0001.jpg. Skipping...\n"
     ]
    },
    {
     "name": "stderr",
     "output_type": "stream",
     "text": [
      "  4%|▍         | 68/1680 [00:01<00:46, 34.81it/s]"
     ]
    },
    {
     "name": "stdout",
     "output_type": "stream",
     "text": [
      "Multiple faces detected in /home/guilherme/projects/parai/app/data/images/lfw/Charles_Mathews/Charles_Mathews_0002.jpg. Skipping...\n",
      "Multiple faces detected in /home/guilherme/projects/parai/app/data/images/lfw/Charles_Moose/Charles_Moose_0003.jpg. Skipping...\n"
     ]
    },
    {
     "name": "stderr",
     "output_type": "stream",
     "text": [
      "  5%|▍         | 80/1680 [00:02<00:46, 34.42it/s]"
     ]
    },
    {
     "name": "stdout",
     "output_type": "stream",
     "text": [
      "Multiple faces detected in /home/guilherme/projects/parai/app/data/images/lfw/Coretta_Scott_King/Coretta_Scott_King_0002.jpg. Skipping...\n"
     ]
    },
    {
     "name": "stderr",
     "output_type": "stream",
     "text": [
      "  8%|▊         | 136/1680 [00:04<00:45, 33.63it/s]"
     ]
    },
    {
     "name": "stdout",
     "output_type": "stream",
     "text": [
      "Multiple faces detected in /home/guilherme/projects/parai/app/data/images/lfw/Gwendal_Peizerat/Gwendal_Peizerat_0002.jpg. Skipping...\n"
     ]
    },
    {
     "name": "stderr",
     "output_type": "stream",
     "text": [
      " 10%|█         | 168/1680 [00:04<00:43, 34.95it/s]"
     ]
    },
    {
     "name": "stdout",
     "output_type": "stream",
     "text": [
      "Multiple faces detected in /home/guilherme/projects/parai/app/data/images/lfw/John_Allen_Muhammad/John_Allen_Muhammad_0011.jpg. Skipping...\n"
     ]
    },
    {
     "name": "stderr",
     "output_type": "stream",
     "text": [
      " 11%|█         | 188/1680 [00:05<00:41, 36.09it/s]"
     ]
    },
    {
     "name": "stdout",
     "output_type": "stream",
     "text": [
      "Multiple faces detected in /home/guilherme/projects/parai/app/data/images/lfw/Kifah_Ajouri/Kifah_Ajouri_0002.jpg. Skipping...\n",
      "Multiple faces detected in /home/guilherme/projects/parai/app/data/images/lfw/Kim_Jong-Il/Kim_Jong-Il_0001.jpg. Skipping...\n",
      "Multiple faces detected in /home/guilherme/projects/parai/app/data/images/lfw/Kosuke_Kitajima/Kosuke_Kitajima_0002.jpg. Skipping...\n"
     ]
    },
    {
     "name": "stderr",
     "output_type": "stream",
     "text": [
      " 12%|█▏        | 200/1680 [00:05<00:42, 34.82it/s]"
     ]
    },
    {
     "name": "stdout",
     "output_type": "stream",
     "text": [
      "Multiple faces detected in /home/guilherme/projects/parai/app/data/images/lfw/Lea_Fastow/Lea_Fastow_0001.jpg. Skipping...\n",
      "Multiple faces detected in /home/guilherme/projects/parai/app/data/images/lfw/Lionel_Richie/Lionel_Richie_0001.jpg. Skipping...\n"
     ]
    },
    {
     "name": "stderr",
     "output_type": "stream",
     "text": [
      " 14%|█▎        | 228/1680 [00:06<00:42, 34.39it/s]"
     ]
    },
    {
     "name": "stdout",
     "output_type": "stream",
     "text": [
      "Multiple faces detected in /home/guilherme/projects/parai/app/data/images/lfw/Martin_Scorsese/Martin_Scorsese_0001.jpg. Skipping...\n",
      "Multiple faces detected in /home/guilherme/projects/parai/app/data/images/lfw/Melissa_Etheridge/Melissa_Etheridge_0002.jpg. Skipping...\n"
     ]
    },
    {
     "name": "stderr",
     "output_type": "stream",
     "text": [
      " 14%|█▍        | 236/1680 [00:06<00:41, 34.97it/s]"
     ]
    },
    {
     "name": "stdout",
     "output_type": "stream",
     "text": [
      "Multiple faces detected in /home/guilherme/projects/parai/app/data/images/lfw/Michel_Temer/Michel_Temer_0002.jpg. Skipping...\n"
     ]
    },
    {
     "name": "stderr",
     "output_type": "stream",
     "text": [
      " 15%|█▍        | 244/1680 [00:07<00:41, 34.25it/s]"
     ]
    },
    {
     "name": "stdout",
     "output_type": "stream",
     "text": [
      "No faces detected in /home/guilherme/projects/parai/app/data/images/lfw/Muammar_Gaddafi/Muammar_Gaddafi_0001.jpg. Skipping...\n"
     ]
    },
    {
     "name": "stderr",
     "output_type": "stream",
     "text": [
      " 15%|█▌        | 260/1680 [00:07<00:40, 34.84it/s]"
     ]
    },
    {
     "name": "stdout",
     "output_type": "stream",
     "text": [
      "Multiple faces detected in /home/guilherme/projects/parai/app/data/images/lfw/Norm_Coleman/Norm_Coleman_0007.jpg. Skipping...\n"
     ]
    },
    {
     "name": "stderr",
     "output_type": "stream",
     "text": [
      " 16%|█▌        | 268/1680 [00:07<00:40, 34.87it/s]"
     ]
    },
    {
     "name": "stdout",
     "output_type": "stream",
     "text": [
      "Multiple faces detected in /home/guilherme/projects/parai/app/data/images/lfw/Paul_Hogan/Paul_Hogan_0002.jpg. Skipping...\n"
     ]
    },
    {
     "name": "stderr",
     "output_type": "stream",
     "text": [
      " 22%|██▏       | 364/1680 [00:10<00:39, 33.07it/s]"
     ]
    },
    {
     "name": "stdout",
     "output_type": "stream",
     "text": [
      "Multiple faces detected in /home/guilherme/projects/parai/app/data/images/lfw/Alex_Penelas/Alex_Penelas_0001.jpg. Skipping...\n"
     ]
    },
    {
     "name": "stderr",
     "output_type": "stream",
     "text": [
      " 22%|██▏       | 376/1680 [00:10<00:37, 34.72it/s]"
     ]
    },
    {
     "name": "stdout",
     "output_type": "stream",
     "text": [
      "Multiple faces detected in /home/guilherme/projects/parai/app/data/images/lfw/Andrew_Niccol/Andrew_Niccol_0001.jpg. Skipping...\n"
     ]
    },
    {
     "name": "stderr",
     "output_type": "stream",
     "text": [
      " 24%|██▎       | 396/1680 [00:11<00:37, 34.06it/s]"
     ]
    },
    {
     "name": "stdout",
     "output_type": "stream",
     "text": [
      "Multiple faces detected in /home/guilherme/projects/parai/app/data/images/lfw/Bill_McBride/Bill_McBride_0002.jpg. Skipping...\n"
     ]
    },
    {
     "name": "stderr",
     "output_type": "stream",
     "text": [
      " 24%|██▍       | 404/1680 [00:11<00:37, 34.37it/s]"
     ]
    },
    {
     "name": "stdout",
     "output_type": "stream",
     "text": [
      "Multiple faces detected in /home/guilherme/projects/parai/app/data/images/lfw/Carlos_Ortega/Carlos_Ortega_0003.jpg. Skipping...\n"
     ]
    },
    {
     "name": "stderr",
     "output_type": "stream",
     "text": [
      " 25%|██▍       | 412/1680 [00:12<00:36, 34.87it/s]"
     ]
    },
    {
     "name": "stdout",
     "output_type": "stream",
     "text": [
      "Multiple faces detected in /home/guilherme/projects/parai/app/data/images/lfw/Charles_Schumer/Charles_Schumer_0002.jpg. Skipping...\n"
     ]
    },
    {
     "name": "stderr",
     "output_type": "stream",
     "text": [
      " 26%|██▌       | 440/1680 [00:12<00:35, 35.13it/s]"
     ]
    },
    {
     "name": "stdout",
     "output_type": "stream",
     "text": [
      "Multiple faces detected in /home/guilherme/projects/parai/app/data/images/lfw/Doris_Roberts/Doris_Roberts_0003.jpg. Skipping...\n"
     ]
    },
    {
     "name": "stderr",
     "output_type": "stream",
     "text": [
      " 27%|██▋       | 452/1680 [00:13<00:35, 35.00it/s]"
     ]
    },
    {
     "name": "stdout",
     "output_type": "stream",
     "text": [
      "Multiple faces detected in /home/guilherme/projects/parai/app/data/images/lfw/Ernie_Fletcher/Ernie_Fletcher_0002.jpg. Skipping...\n"
     ]
    },
    {
     "name": "stderr",
     "output_type": "stream",
     "text": [
      " 28%|██▊       | 468/1680 [00:13<00:34, 34.91it/s]"
     ]
    },
    {
     "name": "stdout",
     "output_type": "stream",
     "text": [
      "Multiple faces detected in /home/guilherme/projects/parai/app/data/images/lfw/George_Ryan/George_Ryan_0001.jpg. Skipping...\n"
     ]
    },
    {
     "name": "stderr",
     "output_type": "stream",
     "text": [
      " 28%|██▊       | 476/1680 [00:13<00:34, 34.51it/s]"
     ]
    },
    {
     "name": "stdout",
     "output_type": "stream",
     "text": [
      "Multiple faces detected in /home/guilherme/projects/parai/app/data/images/lfw/Gonzalo_Sanchez_de_Lozada/Gonzalo_Sanchez_de_Lozada_0010.jpg. Skipping...\n",
      "Multiple faces detected in /home/guilherme/projects/parai/app/data/images/lfw/Gwyneth_Paltrow/Gwyneth_Paltrow_0003.jpg. Skipping...\n",
      "Multiple faces detected in /home/guilherme/projects/parai/app/data/images/lfw/Harrison_Ford/Harrison_Ford_0004.jpg. Skipping...\n"
     ]
    },
    {
     "name": "stderr",
     "output_type": "stream",
     "text": [
      " 31%|███▏      | 528/1680 [00:15<00:33, 34.19it/s]"
     ]
    },
    {
     "name": "stdout",
     "output_type": "stream",
     "text": [
      "Multiple faces detected in /home/guilherme/projects/parai/app/data/images/lfw/Justine_Henin/Justine_Henin_0001.jpg. Skipping...\n"
     ]
    },
    {
     "name": "stderr",
     "output_type": "stream",
     "text": [
      " 32%|███▏      | 540/1680 [00:15<00:33, 33.94it/s]"
     ]
    },
    {
     "name": "stdout",
     "output_type": "stream",
     "text": [
      "Multiple faces detected in /home/guilherme/projects/parai/app/data/images/lfw/Kurt_Warner/Kurt_Warner_0002.jpg. Skipping...\n"
     ]
    },
    {
     "name": "stderr",
     "output_type": "stream",
     "text": [
      " 33%|███▎      | 556/1680 [00:16<00:33, 33.45it/s]"
     ]
    },
    {
     "name": "stdout",
     "output_type": "stream",
     "text": [
      "Multiple faces detected in /home/guilherme/projects/parai/app/data/images/lfw/Lynn_Abraham/Lynn_Abraham_0001.jpg. Skipping...\n",
      "Multiple faces detected in /home/guilherme/projects/parai/app/data/images/lfw/Marcelo_Ebrard/Marcelo_Ebrard_0003.jpg. Skipping...\n"
     ]
    },
    {
     "name": "stderr",
     "output_type": "stream",
     "text": [
      " 34%|███▍      | 572/1680 [00:16<00:31, 35.07it/s]"
     ]
    },
    {
     "name": "stdout",
     "output_type": "stream",
     "text": [
      "Multiple faces detected in /home/guilherme/projects/parai/app/data/images/lfw/Mesut_Yilmaz/Mesut_Yilmaz_0001.jpg. Skipping...\n",
      "Multiple faces detected in /home/guilherme/projects/parai/app/data/images/lfw/Michael_Keaton/Michael_Keaton_0002.jpg. Skipping...\n"
     ]
    },
    {
     "name": "stderr",
     "output_type": "stream",
     "text": [
      " 35%|███▍      | 584/1680 [00:17<00:31, 34.46it/s]"
     ]
    },
    {
     "name": "stdout",
     "output_type": "stream",
     "text": [
      "Multiple faces detected in /home/guilherme/projects/parai/app/data/images/lfw/Monica_Bellucci/Monica_Bellucci_0004.jpg. Skipping...\n"
     ]
    },
    {
     "name": "stderr",
     "output_type": "stream",
     "text": [
      " 36%|███▌      | 600/1680 [00:17<00:31, 34.62it/s]"
     ]
    },
    {
     "name": "stdout",
     "output_type": "stream",
     "text": [
      "Multiple faces detected in /home/guilherme/projects/parai/app/data/images/lfw/Paul_McCartney/Paul_McCartney_0005.jpg. Skipping...\n"
     ]
    },
    {
     "name": "stderr",
     "output_type": "stream",
     "text": [
      " 37%|███▋      | 620/1680 [00:18<00:30, 34.40it/s]"
     ]
    },
    {
     "name": "stdout",
     "output_type": "stream",
     "text": [
      "Multiple faces detected in /home/guilherme/projects/parai/app/data/images/lfw/Ralph_Klein/Ralph_Klein_0001.jpg. Skipping...\n",
      "Multiple faces detected in /home/guilherme/projects/parai/app/data/images/lfw/Ricardo_Maduro/Ricardo_Maduro_0002.jpg. Skipping...\n",
      "Multiple faces detected in /home/guilherme/projects/parai/app/data/images/lfw/Rick_Carlisle/Rick_Carlisle_0001.jpg. Skipping...\n"
     ]
    },
    {
     "name": "stderr",
     "output_type": "stream",
     "text": [
      " 38%|███▊      | 636/1680 [00:18<00:29, 34.80it/s]"
     ]
    },
    {
     "name": "stdout",
     "output_type": "stream",
     "text": [
      "Multiple faces detected in /home/guilherme/projects/parai/app/data/images/lfw/Robin_McLaurin_Williams/Robin_McLaurin_Williams_0001.jpg. Skipping...\n"
     ]
    },
    {
     "name": "stderr",
     "output_type": "stream",
     "text": [
      " 39%|███▊      | 648/1680 [00:18<00:29, 34.85it/s]"
     ]
    },
    {
     "name": "stdout",
     "output_type": "stream",
     "text": [
      "Multiple faces detected in /home/guilherme/projects/parai/app/data/images/lfw/Sandra_Bullock/Sandra_Bullock_0004.jpg. Skipping...\n"
     ]
    },
    {
     "name": "stderr",
     "output_type": "stream",
     "text": [
      " 39%|███▉      | 660/1680 [00:19<00:29, 35.03it/s]"
     ]
    },
    {
     "name": "stdout",
     "output_type": "stream",
     "text": [
      "Multiple faces detected in /home/guilherme/projects/parai/app/data/images/lfw/Silvan_Shalom/Silvan_Shalom_0004.jpg. Skipping...\n"
     ]
    },
    {
     "name": "stderr",
     "output_type": "stream",
     "text": [
      " 40%|████      | 676/1680 [00:19<00:28, 34.76it/s]"
     ]
    },
    {
     "name": "stdout",
     "output_type": "stream",
     "text": [
      "Multiple faces detected in /home/guilherme/projects/parai/app/data/images/lfw/Trent_Lott/Trent_Lott_0002.jpg. Skipping...\n",
      "Multiple faces detected in /home/guilherme/projects/parai/app/data/images/lfw/Vin_Diesel/Vin_Diesel_0001.jpg. Skipping...\n"
     ]
    },
    {
     "name": "stderr",
     "output_type": "stream",
     "text": [
      " 41%|████▏     | 696/1680 [00:20<00:27, 35.42it/s]"
     ]
    },
    {
     "name": "stdout",
     "output_type": "stream",
     "text": [
      "Multiple faces detected in /home/guilherme/projects/parai/app/data/images/lfw/Abdullatif_Sener/Abdullatif_Sener_0002.jpg. Skipping...\n",
      "Multiple faces detected in /home/guilherme/projects/parai/app/data/images/lfw/Adrien_Brody/Adrien_Brody_0002.jpg. Skipping...\n"
     ]
    },
    {
     "name": "stderr",
     "output_type": "stream",
     "text": [
      " 44%|████▎     | 732/1680 [00:21<00:27, 34.54it/s]"
     ]
    },
    {
     "name": "stdout",
     "output_type": "stream",
     "text": [
      "Multiple faces detected in /home/guilherme/projects/parai/app/data/images/lfw/Andrew_Weissmann/Andrew_Weissmann_0002.jpg. Skipping...\n"
     ]
    },
    {
     "name": "stderr",
     "output_type": "stream",
     "text": [
      " 47%|████▋     | 796/1680 [00:23<00:25, 34.13it/s]"
     ]
    },
    {
     "name": "stdout",
     "output_type": "stream",
     "text": [
      "Multiple faces detected in /home/guilherme/projects/parai/app/data/images/lfw/Boris_Becker/Boris_Becker_0006.jpg. Skipping...\n",
      "Multiple faces detected in /home/guilherme/projects/parai/app/data/images/lfw/Boris_Berezovsky/Boris_Berezovsky_0001.jpg. Skipping...\n"
     ]
    },
    {
     "name": "stderr",
     "output_type": "stream",
     "text": [
      " 49%|████▊     | 816/1680 [00:23<00:24, 35.29it/s]"
     ]
    },
    {
     "name": "stdout",
     "output_type": "stream",
     "text": [
      "Multiple faces detected in /home/guilherme/projects/parai/app/data/images/lfw/Carla_Del_Ponte/Carla_Del_Ponte_0004.jpg. Skipping...\n"
     ]
    },
    {
     "name": "stderr",
     "output_type": "stream",
     "text": [
      " 50%|████▉     | 832/1680 [00:24<00:25, 33.56it/s]"
     ]
    },
    {
     "name": "stdout",
     "output_type": "stream",
     "text": [
      "Multiple faces detected in /home/guilherme/projects/parai/app/data/images/lfw/Chakib_Khelil/Chakib_Khelil_0002.jpg. Skipping...\n"
     ]
    },
    {
     "name": "stderr",
     "output_type": "stream",
     "text": [
      " 50%|█████     | 848/1680 [00:24<00:24, 34.65it/s]"
     ]
    },
    {
     "name": "stdout",
     "output_type": "stream",
     "text": [
      "Multiple faces detected in /home/guilherme/projects/parai/app/data/images/lfw/Christian_Wulff/Christian_Wulff_0002.jpg. Skipping...\n",
      "Multiple faces detected in /home/guilherme/projects/parai/app/data/images/lfw/Christine_Todd_Whitman/Christine_Todd_Whitman_0005.jpg. Skipping...\n"
     ]
    },
    {
     "name": "stderr",
     "output_type": "stream",
     "text": [
      " 51%|█████     | 860/1680 [00:25<00:23, 34.76it/s]"
     ]
    },
    {
     "name": "stdout",
     "output_type": "stream",
     "text": [
      "No faces detected in /home/guilherme/projects/parai/app/data/images/lfw/Claudia_Pechstein/Claudia_Pechstein_0005.jpg. Skipping...\n",
      "No faces detected in /home/guilherme/projects/parai/app/data/images/lfw/Colin_Montgomerie/Colin_Montgomerie_0004.jpg. Skipping...\n"
     ]
    },
    {
     "name": "stderr",
     "output_type": "stream",
     "text": [
      " 52%|█████▏    | 876/1680 [00:25<00:22, 34.97it/s]"
     ]
    },
    {
     "name": "stdout",
     "output_type": "stream",
     "text": [
      "Multiple faces detected in /home/guilherme/projects/parai/app/data/images/lfw/David_Bell/David_Bell_0001.jpg. Skipping...\n",
      "Multiple faces detected in /home/guilherme/projects/parai/app/data/images/lfw/David_Hyde_Pierce/David_Hyde_Pierce_0003.jpg. Skipping...\n"
     ]
    },
    {
     "name": "stderr",
     "output_type": "stream",
     "text": [
      " 54%|█████▍    | 904/1680 [00:26<00:22, 33.95it/s]"
     ]
    },
    {
     "name": "stdout",
     "output_type": "stream",
     "text": [
      "Multiple faces detected in /home/guilherme/projects/parai/app/data/images/lfw/Dolma_Tsering/Dolma_Tsering_0002.jpg. Skipping...\n",
      "Multiple faces detected in /home/guilherme/projects/parai/app/data/images/lfw/Donatella_Versace/Donatella_Versace_0003.jpg. Skipping...\n"
     ]
    },
    {
     "name": "stderr",
     "output_type": "stream",
     "text": [
      " 54%|█████▍    | 912/1680 [00:26<00:22, 34.75it/s]"
     ]
    },
    {
     "name": "stdout",
     "output_type": "stream",
     "text": [
      "Multiple faces detected in /home/guilherme/projects/parai/app/data/images/lfw/Dorthy_Moxley/Dorthy_Moxley_0002.jpg. Skipping...\n",
      "Multiple faces detected in /home/guilherme/projects/parai/app/data/images/lfw/Doug_Duncan/Doug_Duncan_0001.jpg. Skipping...\n",
      "Multiple faces detected in /home/guilherme/projects/parai/app/data/images/lfw/Ed_Smart/Ed_Smart_0001.jpg. Skipping...\n",
      "Multiple faces detected in /home/guilherme/projects/parai/app/data/images/lfw/Edie_Falco/Edie_Falco_0001.jpg. Skipping...\n"
     ]
    },
    {
     "name": "stderr",
     "output_type": "stream",
     "text": [
      " 55%|█████▌    | 924/1680 [00:26<00:21, 34.69it/s]"
     ]
    },
    {
     "name": "stdout",
     "output_type": "stream",
     "text": [
      "Multiple faces detected in /home/guilherme/projects/parai/app/data/images/lfw/Edward_Lu/Edward_Lu_0001.jpg. Skipping...\n"
     ]
    },
    {
     "name": "stderr",
     "output_type": "stream",
     "text": [
      " 56%|█████▌    | 940/1680 [00:27<00:21, 34.21it/s]"
     ]
    },
    {
     "name": "stdout",
     "output_type": "stream",
     "text": [
      "Multiple faces detected in /home/guilherme/projects/parai/app/data/images/lfw/Emily_Robison/Emily_Robison_0002.jpg. Skipping...\n",
      "Multiple faces detected in /home/guilherme/projects/parai/app/data/images/lfw/Erika_Harold/Erika_Harold_0003.jpg. Skipping...\n"
     ]
    },
    {
     "name": "stderr",
     "output_type": "stream",
     "text": [
      " 57%|█████▋    | 956/1680 [00:27<00:21, 33.13it/s]"
     ]
    },
    {
     "name": "stdout",
     "output_type": "stream",
     "text": [
      "Multiple faces detected in /home/guilherme/projects/parai/app/data/images/lfw/Felipe_Perez_Roque/Felipe_Perez_Roque_0003.jpg. Skipping...\n",
      "Multiple faces detected in /home/guilherme/projects/parai/app/data/images/lfw/Frances_Fisher/Frances_Fisher_0001.jpg. Skipping...\n"
     ]
    },
    {
     "name": "stderr",
     "output_type": "stream",
     "text": [
      " 58%|█████▊    | 968/1680 [00:28<00:20, 34.72it/s]"
     ]
    },
    {
     "name": "stdout",
     "output_type": "stream",
     "text": [
      "Multiple faces detected in /home/guilherme/projects/parai/app/data/images/lfw/Frank_Dunham_Jr/Frank_Dunham_Jr_0001.jpg. Skipping...\n"
     ]
    },
    {
     "name": "stderr",
     "output_type": "stream",
     "text": [
      " 58%|█████▊    | 980/1680 [00:28<00:20, 34.17it/s]"
     ]
    },
    {
     "name": "stdout",
     "output_type": "stream",
     "text": [
      "Multiple faces detected in /home/guilherme/projects/parai/app/data/images/lfw/Gary_Doer/Gary_Doer_0001.jpg. Skipping...\n"
     ]
    },
    {
     "name": "stderr",
     "output_type": "stream",
     "text": [
      " 59%|█████▉    | 992/1680 [00:28<00:19, 34.62it/s]"
     ]
    },
    {
     "name": "stdout",
     "output_type": "stream",
     "text": [
      "Multiple faces detected in /home/guilherme/projects/parai/app/data/images/lfw/Gerard_Depardieu/Gerard_Depardieu_0002.jpg. Skipping...\n"
     ]
    },
    {
     "name": "stderr",
     "output_type": "stream",
     "text": [
      " 60%|██████    | 1008/1680 [00:29<00:19, 34.12it/s]"
     ]
    },
    {
     "name": "stdout",
     "output_type": "stream",
     "text": [
      "Multiple faces detected in /home/guilherme/projects/parai/app/data/images/lfw/Gro_Harlem_Brundtland/Gro_Harlem_Brundtland_0001.jpg. Skipping...\n",
      "Multiple faces detected in /home/guilherme/projects/parai/app/data/images/lfw/Guillaume_Soro/Guillaume_Soro_0001.jpg. Skipping...\n"
     ]
    },
    {
     "name": "stderr",
     "output_type": "stream",
     "text": [
      " 60%|██████    | 1016/1680 [00:29<00:19, 34.35it/s]"
     ]
    },
    {
     "name": "stdout",
     "output_type": "stream",
     "text": [
      "Multiple faces detected in /home/guilherme/projects/parai/app/data/images/lfw/Habib_Rizieq/Habib_Rizieq_0001.jpg. Skipping...\n"
     ]
    },
    {
     "name": "stderr",
     "output_type": "stream",
     "text": [
      " 64%|██████▍   | 1072/1680 [00:31<00:17, 34.21it/s]"
     ]
    },
    {
     "name": "stdout",
     "output_type": "stream",
     "text": [
      "Multiple faces detected in /home/guilherme/projects/parai/app/data/images/lfw/James_Butts/James_Butts_0001.jpg. Skipping...\n"
     ]
    },
    {
     "name": "stderr",
     "output_type": "stream",
     "text": [
      " 64%|██████▍   | 1080/1680 [00:31<00:17, 34.27it/s]"
     ]
    },
    {
     "name": "stdout",
     "output_type": "stream",
     "text": [
      "No faces detected in /home/guilherme/projects/parai/app/data/images/lfw/James_McGreevey/James_McGreevey_0002.jpg. Skipping...\n"
     ]
    },
    {
     "name": "stderr",
     "output_type": "stream",
     "text": [
      " 65%|██████▌   | 1096/1680 [00:32<00:17, 34.01it/s]"
     ]
    },
    {
     "name": "stdout",
     "output_type": "stream",
     "text": [
      "Multiple faces detected in /home/guilherme/projects/parai/app/data/images/lfw/Javier_Weber/Javier_Weber_0001.jpg. Skipping...\n"
     ]
    },
    {
     "name": "stderr",
     "output_type": "stream",
     "text": [
      " 66%|██████▌   | 1104/1680 [00:32<00:17, 33.78it/s]"
     ]
    },
    {
     "name": "stdout",
     "output_type": "stream",
     "text": [
      "Multiple faces detected in /home/guilherme/projects/parai/app/data/images/lfw/Jeanne_Moreau/Jeanne_Moreau_0001.jpg. Skipping...\n"
     ]
    },
    {
     "name": "stderr",
     "output_type": "stream",
     "text": [
      " 67%|██████▋   | 1124/1680 [00:32<00:16, 34.12it/s]"
     ]
    },
    {
     "name": "stdout",
     "output_type": "stream",
     "text": [
      "No faces detected in /home/guilherme/projects/parai/app/data/images/lfw/Jessica_Lynch/Jessica_Lynch_0001.jpg. Skipping...\n"
     ]
    },
    {
     "name": "stderr",
     "output_type": "stream",
     "text": [
      " 68%|██████▊   | 1140/1680 [00:33<00:15, 34.67it/s]"
     ]
    },
    {
     "name": "stdout",
     "output_type": "stream",
     "text": [
      "Multiple faces detected in /home/guilherme/projects/parai/app/data/images/lfw/John_Blaney/John_Blaney_0002.jpg. Skipping...\n"
     ]
    },
    {
     "name": "stderr",
     "output_type": "stream",
     "text": [
      " 69%|██████▊   | 1152/1680 [00:33<00:15, 33.67it/s]"
     ]
    },
    {
     "name": "stdout",
     "output_type": "stream",
     "text": [
      "Multiple faces detected in /home/guilherme/projects/parai/app/data/images/lfw/John_McEnroe/John_McEnroe_0002.jpg. Skipping...\n"
     ]
    },
    {
     "name": "stderr",
     "output_type": "stream",
     "text": [
      " 69%|██████▉   | 1164/1680 [00:34<00:15, 33.77it/s]"
     ]
    },
    {
     "name": "stdout",
     "output_type": "stream",
     "text": [
      "Multiple faces detected in /home/guilherme/projects/parai/app/data/images/lfw/John_Warner/John_Warner_0002.jpg. Skipping...\n"
     ]
    },
    {
     "name": "stderr",
     "output_type": "stream",
     "text": [
      " 70%|██████▉   | 1172/1680 [00:34<00:14, 34.37it/s]"
     ]
    },
    {
     "name": "stdout",
     "output_type": "stream",
     "text": [
      "Multiple faces detected in /home/guilherme/projects/parai/app/data/images/lfw/Jong_Thae_Hwa/Jong_Thae_Hwa_0001.jpg. Skipping...\n"
     ]
    },
    {
     "name": "stderr",
     "output_type": "stream",
     "text": [
      " 71%|███████▏  | 1200/1680 [00:35<00:13, 34.71it/s]"
     ]
    },
    {
     "name": "stdout",
     "output_type": "stream",
     "text": [
      "Multiple faces detected in /home/guilherme/projects/parai/app/data/images/lfw/Julianne_Moore/Julianne_Moore_0016.jpg. Skipping...\n",
      "Multiple faces detected in /home/guilherme/projects/parai/app/data/images/lfw/Kate_Capshaw/Kate_Capshaw_0002.jpg. Skipping...\n"
     ]
    },
    {
     "name": "stderr",
     "output_type": "stream",
     "text": [
      " 73%|███████▎  | 1224/1680 [00:35<00:13, 34.49it/s]"
     ]
    },
    {
     "name": "stdout",
     "output_type": "stream",
     "text": [
      "Multiple faces detected in /home/guilherme/projects/parai/app/data/images/lfw/Kimi_Raikkonen/Kimi_Raikkonen_0001.jpg. Skipping...\n",
      "No faces detected in /home/guilherme/projects/parai/app/data/images/lfw/Kobe_Bryant/Kobe_Bryant_0002.jpg. Skipping...\n",
      "Multiple faces detected in /home/guilherme/projects/parai/app/data/images/lfw/Kristanna_Loken/Kristanna_Loken_0003.jpg. Skipping...\n"
     ]
    },
    {
     "name": "stderr",
     "output_type": "stream",
     "text": [
      " 74%|███████▎  | 1236/1680 [00:36<00:12, 34.55it/s]"
     ]
    },
    {
     "name": "stdout",
     "output_type": "stream",
     "text": [
      "Multiple faces detected in /home/guilherme/projects/parai/app/data/images/lfw/Larry_Lucchino/Larry_Lucchino_0001.jpg. Skipping...\n",
      "Multiple faces detected in /home/guilherme/projects/parai/app/data/images/lfw/Lars_Von_Trier/Lars_Von_Trier_0003.jpg. Skipping...\n",
      "Multiple faces detected in /home/guilherme/projects/parai/app/data/images/lfw/Lauren_Killian/Lauren_Killian_0002.jpg. Skipping...\n"
     ]
    },
    {
     "name": "stderr",
     "output_type": "stream",
     "text": [
      " 75%|███████▌  | 1268/1680 [00:37<00:12, 33.09it/s]"
     ]
    },
    {
     "name": "stdout",
     "output_type": "stream",
     "text": [
      "Multiple faces detected in /home/guilherme/projects/parai/app/data/images/lfw/Lino_Oviedo/Lino_Oviedo_0002.jpg. Skipping...\n"
     ]
    },
    {
     "name": "stderr",
     "output_type": "stream",
     "text": [
      " 77%|███████▋  | 1292/1680 [00:37<00:11, 34.12it/s]"
     ]
    },
    {
     "name": "stdout",
     "output_type": "stream",
     "text": [
      "Multiple faces detected in /home/guilherme/projects/parai/app/data/images/lfw/Maria_Luisa_Mendonca/Maria_Luisa_Mendonca_0002.jpg. Skipping...\n"
     ]
    },
    {
     "name": "stderr",
     "output_type": "stream",
     "text": [
      " 78%|███████▊  | 1312/1680 [00:38<00:10, 34.43it/s]"
     ]
    },
    {
     "name": "stdout",
     "output_type": "stream",
     "text": [
      "Multiple faces detected in /home/guilherme/projects/parai/app/data/images/lfw/Martha_Beatriz_Roque/Martha_Beatriz_Roque_0001.jpg. Skipping...\n",
      "Multiple faces detected in /home/guilherme/projects/parai/app/data/images/lfw/Martha_Burk/Martha_Burk_0004.jpg. Skipping...\n",
      "Multiple faces detected in /home/guilherme/projects/parai/app/data/images/lfw/Martha_Lucia_Ramirez/Martha_Lucia_Ramirez_0003.jpg. Skipping...\n"
     ]
    },
    {
     "name": "stderr",
     "output_type": "stream",
     "text": [
      " 80%|████████  | 1352/1680 [00:39<00:09, 35.10it/s]"
     ]
    },
    {
     "name": "stdout",
     "output_type": "stream",
     "text": [
      "Multiple faces detected in /home/guilherme/projects/parai/app/data/images/lfw/Michel_Duclos/Michel_Duclos_0001.jpg. Skipping...\n"
     ]
    },
    {
     "name": "stderr",
     "output_type": "stream",
     "text": [
      " 81%|████████▏ | 1368/1680 [00:40<00:09, 34.52it/s]"
     ]
    },
    {
     "name": "stdout",
     "output_type": "stream",
     "text": [
      "Multiple faces detected in /home/guilherme/projects/parai/app/data/images/lfw/Milo_Djukanovic/Milo_Djukanovic_0002.jpg. Skipping...\n"
     ]
    },
    {
     "name": "stderr",
     "output_type": "stream",
     "text": [
      " 84%|████████▍ | 1408/1680 [00:41<00:08, 33.59it/s]"
     ]
    },
    {
     "name": "stdout",
     "output_type": "stream",
     "text": [
      "Multiple faces detected in /home/guilherme/projects/parai/app/data/images/lfw/Nursultan_Nazarbayev/Nursultan_Nazarbayev_0002.jpg. Skipping...\n"
     ]
    },
    {
     "name": "stderr",
     "output_type": "stream",
     "text": [
      " 85%|████████▍ | 1420/1680 [00:41<00:07, 34.32it/s]"
     ]
    },
    {
     "name": "stdout",
     "output_type": "stream",
     "text": [
      "Multiple faces detected in /home/guilherme/projects/parai/app/data/images/lfw/Ozzy_Osbourne/Ozzy_Osbourne_0002.jpg. Skipping...\n"
     ]
    },
    {
     "name": "stderr",
     "output_type": "stream",
     "text": [
      " 85%|████████▌ | 1428/1680 [00:41<00:07, 34.47it/s]"
     ]
    },
    {
     "name": "stdout",
     "output_type": "stream",
     "text": [
      "Multiple faces detected in /home/guilherme/projects/parai/app/data/images/lfw/Patrick_Leahy/Patrick_Leahy_0001.jpg. Skipping...\n"
     ]
    },
    {
     "name": "stderr",
     "output_type": "stream",
     "text": [
      " 85%|████████▌ | 1436/1680 [00:42<00:07, 34.37it/s]"
     ]
    },
    {
     "name": "stdout",
     "output_type": "stream",
     "text": [
      "Multiple faces detected in /home/guilherme/projects/parai/app/data/images/lfw/Paul_Shanley/Paul_Shanley_0002.jpg. Skipping...\n"
     ]
    },
    {
     "name": "stderr",
     "output_type": "stream",
     "text": [
      " 86%|████████▌ | 1444/1680 [00:42<00:07, 33.47it/s]"
     ]
    },
    {
     "name": "stdout",
     "output_type": "stream",
     "text": [
      "Multiple faces detected in /home/guilherme/projects/parai/app/data/images/lfw/Pervez_Musharraf/Pervez_Musharraf_0013.jpg. Skipping...\n",
      "Multiple faces detected in /home/guilherme/projects/parai/app/data/images/lfw/Peter_Greenaway/Peter_Greenaway_0001.jpg. Skipping...\n",
      "Multiple faces detected in /home/guilherme/projects/parai/app/data/images/lfw/Peter_Hillary/Peter_Hillary_0002.jpg. Skipping...\n"
     ]
    },
    {
     "name": "stderr",
     "output_type": "stream",
     "text": [
      " 87%|████████▋ | 1456/1680 [00:42<00:06, 34.50it/s]"
     ]
    },
    {
     "name": "stdout",
     "output_type": "stream",
     "text": [
      "Multiple faces detected in /home/guilherme/projects/parai/app/data/images/lfw/Phil_Gramm/Phil_Gramm_0001.jpg. Skipping...\n"
     ]
    },
    {
     "name": "stderr",
     "output_type": "stream",
     "text": [
      " 89%|████████▉ | 1496/1680 [00:43<00:05, 34.78it/s]"
     ]
    },
    {
     "name": "stdout",
     "output_type": "stream",
     "text": [
      "Multiple faces detected in /home/guilherme/projects/parai/app/data/images/lfw/Rita_Moreno/Rita_Moreno_0002.jpg. Skipping...\n"
     ]
    },
    {
     "name": "stderr",
     "output_type": "stream",
     "text": [
      " 90%|████████▉ | 1508/1680 [00:44<00:05, 32.39it/s]"
     ]
    },
    {
     "name": "stdout",
     "output_type": "stream",
     "text": [
      "Multiple faces detected in /home/guilherme/projects/parai/app/data/images/lfw/Robert_Evans/Robert_Evans_0003.jpg. Skipping...\n",
      "Multiple faces detected in /home/guilherme/projects/parai/app/data/images/lfw/Robert_Fico/Robert_Fico_0001.jpg. Skipping...\n"
     ]
    },
    {
     "name": "stderr",
     "output_type": "stream",
     "text": [
      " 90%|█████████ | 1516/1680 [00:44<00:04, 33.22it/s]"
     ]
    },
    {
     "name": "stdout",
     "output_type": "stream",
     "text": [
      "Multiple faces detected in /home/guilherme/projects/parai/app/data/images/lfw/Robin_Cook/Robin_Cook_0002.jpg. Skipping...\n"
     ]
    },
    {
     "name": "stderr",
     "output_type": "stream",
     "text": [
      " 91%|█████████ | 1524/1680 [00:44<00:04, 33.64it/s]"
     ]
    },
    {
     "name": "stdout",
     "output_type": "stream",
     "text": [
      "Multiple faces detected in /home/guilherme/projects/parai/app/data/images/lfw/Ron_Howard/Ron_Howard_0001.jpg. Skipping...\n"
     ]
    },
    {
     "name": "stderr",
     "output_type": "stream",
     "text": [
      " 91%|█████████▏| 1536/1680 [00:44<00:04, 34.13it/s]"
     ]
    },
    {
     "name": "stdout",
     "output_type": "stream",
     "text": [
      "Multiple faces detected in /home/guilherme/projects/parai/app/data/images/lfw/Rupert_Grint/Rupert_Grint_0002.jpg. Skipping...\n"
     ]
    },
    {
     "name": "stderr",
     "output_type": "stream",
     "text": [
      " 92%|█████████▏| 1544/1680 [00:45<00:04, 33.25it/s]"
     ]
    },
    {
     "name": "stdout",
     "output_type": "stream",
     "text": [
      "Multiple faces detected in /home/guilherme/projects/parai/app/data/images/lfw/Sarah_Hughes/Sarah_Hughes_0004.jpg. Skipping...\n",
      "Multiple faces detected in /home/guilherme/projects/parai/app/data/images/lfw/Scott_Sullivan/Scott_Sullivan_0001.jpg. Skipping...\n"
     ]
    },
    {
     "name": "stderr",
     "output_type": "stream",
     "text": [
      " 95%|█████████▌| 1596/1680 [00:46<00:02, 34.97it/s]"
     ]
    },
    {
     "name": "stdout",
     "output_type": "stream",
     "text": [
      "Multiple faces detected in /home/guilherme/projects/parai/app/data/images/lfw/Tassos_Papadopoulos/Tassos_Papadopoulos_0001.jpg. Skipping...\n"
     ]
    },
    {
     "name": "stderr",
     "output_type": "stream",
     "text": [
      " 95%|█████████▌| 1604/1680 [00:46<00:02, 34.92it/s]"
     ]
    },
    {
     "name": "stdout",
     "output_type": "stream",
     "text": [
      "No faces detected in /home/guilherme/projects/parai/app/data/images/lfw/Thomas_Birmingham/Thomas_Birmingham_0002.jpg. Skipping...\n"
     ]
    },
    {
     "name": "stderr",
     "output_type": "stream",
     "text": [
      " 97%|█████████▋| 1636/1680 [00:47<00:01, 34.68it/s]"
     ]
    },
    {
     "name": "stdout",
     "output_type": "stream",
     "text": [
      "Multiple faces detected in /home/guilherme/projects/parai/app/data/images/lfw/Uma_Thurman/Uma_Thurman_0002.jpg. Skipping...\n"
     ]
    },
    {
     "name": "stderr",
     "output_type": "stream",
     "text": [
      " 98%|█████████▊| 1652/1680 [00:48<00:00, 35.35it/s]"
     ]
    },
    {
     "name": "stdout",
     "output_type": "stream",
     "text": [
      "Multiple faces detected in /home/guilherme/projects/parai/app/data/images/lfw/Vincent_Gallo/Vincent_Gallo_0003.jpg. Skipping...\n"
     ]
    },
    {
     "name": "stderr",
     "output_type": "stream",
     "text": [
      "100%|█████████▉| 1672/1680 [00:48<00:00, 33.71it/s]"
     ]
    },
    {
     "name": "stdout",
     "output_type": "stream",
     "text": [
      "Multiple faces detected in /home/guilherme/projects/parai/app/data/images/lfw/Woody_Allen/Woody_Allen_0004.jpg. Skipping...\n"
     ]
    },
    {
     "name": "stderr",
     "output_type": "stream",
     "text": [
      "100%|██████████| 1680/1680 [00:49<00:00, 34.13it/s]\n"
     ]
    }
   ],
   "source": [
    "enroll_df = pd.read_csv('../app/data/enroll_imgs_lfw_processed.csv')\n",
    "dest_dir = '../app/data/templates/fr_templates_full'\n",
    "\n",
    "for input_img_path in tqdm(enroll_df['img_path'].values):\n",
    "    enroll_subject(input_img_path, dest_dir)"
   ]
  },
  {
   "cell_type": "code",
   "execution_count": 10,
   "metadata": {},
   "outputs": [
    {
     "name": "stdout",
     "output_type": "stream",
     "text": [
      "Number of extracted templates: 1556\n"
     ]
    }
   ],
   "source": [
    "print(f'Number of extracted templates: {len(os.listdir(dest_dir))}')"
   ]
  },
  {
   "cell_type": "code",
   "execution_count": 11,
   "metadata": {},
   "outputs": [
    {
     "name": "stderr",
     "output_type": "stream",
     "text": [
      "  0%|          | 0/7484 [00:00<?, ?it/s]"
     ]
    },
    {
     "name": "stderr",
     "output_type": "stream",
     "text": [
      "  0%|          | 20/7484 [00:00<03:39, 34.05it/s]"
     ]
    },
    {
     "name": "stdout",
     "output_type": "stream",
     "text": [
      "Multiple faces detected in /home/guilherme/projects/parai/app/data/images/lfw/Yao_Ming/Yao_Ming_0004.jpg. Skipping...\n"
     ]
    },
    {
     "name": "stderr",
     "output_type": "stream",
     "text": [
      "  0%|          | 32/7484 [00:00<03:37, 34.34it/s]"
     ]
    },
    {
     "name": "stdout",
     "output_type": "stream",
     "text": [
      "Multiple faces detected in /home/guilherme/projects/parai/app/data/images/lfw/Hu_Jintao/Hu_Jintao_0011.jpg. Skipping...\n"
     ]
    },
    {
     "name": "stderr",
     "output_type": "stream",
     "text": [
      "  1%|          | 68/7484 [00:01<03:26, 35.85it/s]"
     ]
    },
    {
     "name": "stdout",
     "output_type": "stream",
     "text": [
      "Multiple faces detected in /home/guilherme/projects/parai/app/data/images/lfw/Gray_Davis/Gray_Davis_0007.jpg. Skipping...\n",
      "Multiple faces detected in /home/guilherme/projects/parai/app/data/images/lfw/Hamzah_Haz/Hamzah_Haz_0001.jpg. Skipping...\n",
      "Multiple faces detected in /home/guilherme/projects/parai/app/data/images/lfw/Jack_Straw/Jack_Straw_0009.jpg. Skipping...\n"
     ]
    },
    {
     "name": "stderr",
     "output_type": "stream",
     "text": [
      "  1%|          | 92/7484 [00:02<03:38, 33.89it/s]"
     ]
    },
    {
     "name": "stdout",
     "output_type": "stream",
     "text": [
      "Multiple faces detected in /home/guilherme/projects/parai/app/data/images/lfw/Lance_Bass/Lance_Bass_0002.jpg. Skipping...\n"
     ]
    },
    {
     "name": "stderr",
     "output_type": "stream",
     "text": [
      "  2%|▏         | 116/7484 [00:03<03:32, 34.69it/s]"
     ]
    },
    {
     "name": "stdout",
     "output_type": "stream",
     "text": [
      "Multiple faces detected in /home/guilherme/projects/parai/app/data/images/lfw/Tony_Blair/Tony_Blair_0038.jpg. Skipping...\n"
     ]
    },
    {
     "name": "stderr",
     "output_type": "stream",
     "text": [
      "  2%|▏         | 140/7484 [00:04<03:31, 34.70it/s]"
     ]
    },
    {
     "name": "stdout",
     "output_type": "stream",
     "text": [
      "Multiple faces detected in /home/guilherme/projects/parai/app/data/images/lfw/Trent_Lott/Trent_Lott_0010.jpg. Skipping...\n"
     ]
    },
    {
     "name": "stderr",
     "output_type": "stream",
     "text": [
      "  2%|▏         | 156/7484 [00:04<03:33, 34.29it/s]"
     ]
    },
    {
     "name": "stdout",
     "output_type": "stream",
     "text": [
      "Multiple faces detected in /home/guilherme/projects/parai/app/data/images/lfw/Ann_Veneman/Ann_Veneman_0008.jpg. Skipping...\n"
     ]
    },
    {
     "name": "stderr",
     "output_type": "stream",
     "text": [
      "  2%|▏         | 164/7484 [00:04<03:31, 34.58it/s]"
     ]
    },
    {
     "name": "stdout",
     "output_type": "stream",
     "text": [
      "Multiple faces detected in /home/guilherme/projects/parai/app/data/images/lfw/David_Stern/David_Stern_0003.jpg. Skipping...\n"
     ]
    },
    {
     "name": "stderr",
     "output_type": "stream",
     "text": [
      "  2%|▏         | 180/7484 [00:05<03:29, 34.81it/s]"
     ]
    },
    {
     "name": "stdout",
     "output_type": "stream",
     "text": [
      "Multiple faces detected in /home/guilherme/projects/parai/app/data/images/lfw/Hugo_Chavez/Hugo_Chavez_0032.jpg. Skipping...\n",
      "Multiple faces detected in /home/guilherme/projects/parai/app/data/images/lfw/Hugo_Chavez/Hugo_Chavez_0066.jpg. Skipping...\n"
     ]
    },
    {
     "name": "stderr",
     "output_type": "stream",
     "text": [
      "  3%|▎         | 192/7484 [00:05<03:30, 34.63it/s]"
     ]
    },
    {
     "name": "stdout",
     "output_type": "stream",
     "text": [
      "Multiple faces detected in /home/guilherme/projects/parai/app/data/images/lfw/James_Ivory/James_Ivory_0002.jpg. Skipping...\n"
     ]
    },
    {
     "name": "stderr",
     "output_type": "stream",
     "text": [
      "  3%|▎         | 208/7484 [00:06<03:35, 33.77it/s]"
     ]
    },
    {
     "name": "stdout",
     "output_type": "stream",
     "text": [
      "Multiple faces detected in /home/guilherme/projects/parai/app/data/images/lfw/Li_Zhaoxing/Li_Zhaoxing_0004.jpg. Skipping...\n"
     ]
    },
    {
     "name": "stderr",
     "output_type": "stream",
     "text": [
      "  3%|▎         | 224/7484 [00:06<03:28, 34.74it/s]"
     ]
    },
    {
     "name": "stdout",
     "output_type": "stream",
     "text": [
      "Multiple faces detected in /home/guilherme/projects/parai/app/data/images/lfw/Pedro_Malan/Pedro_Malan_0004.jpg. Skipping...\n"
     ]
    },
    {
     "name": "stderr",
     "output_type": "stream",
     "text": [
      "  3%|▎         | 252/7484 [00:07<03:32, 34.00it/s]"
     ]
    },
    {
     "name": "stdout",
     "output_type": "stream",
     "text": [
      "Multiple faces detected in /home/guilherme/projects/parai/app/data/images/lfw/Woody_Allen/Woody_Allen_0001.jpg. Skipping...\n",
      "Multiple faces detected in /home/guilherme/projects/parai/app/data/images/lfw/Yasar_Yakis/Yasar_Yakis_0003.jpg. Skipping...\n"
     ]
    },
    {
     "name": "stderr",
     "output_type": "stream",
     "text": [
      "  4%|▎         | 264/7484 [00:07<03:30, 34.38it/s]"
     ]
    },
    {
     "name": "stdout",
     "output_type": "stream",
     "text": [
      "Multiple faces detected in /home/guilherme/projects/parai/app/data/images/lfw/Alvaro_Uribe/Alvaro_Uribe_0016.jpg. Skipping...\n"
     ]
    },
    {
     "name": "stderr",
     "output_type": "stream",
     "text": [
      "  4%|▍         | 296/7484 [00:08<03:31, 33.94it/s]"
     ]
    },
    {
     "name": "stdout",
     "output_type": "stream",
     "text": [
      "Multiple faces detected in /home/guilherme/projects/parai/app/data/images/lfw/Carlos_Menem/Carlos_Menem_0003.jpg. Skipping...\n"
     ]
    },
    {
     "name": "stderr",
     "output_type": "stream",
     "text": [
      "  4%|▍         | 304/7484 [00:08<03:42, 32.30it/s]"
     ]
    },
    {
     "name": "stdout",
     "output_type": "stream",
     "text": [
      "Multiple faces detected in /home/guilherme/projects/parai/app/data/images/lfw/Colin_Powell/Colin_Powell_0084.jpg. Skipping...\n",
      "Multiple faces detected in /home/guilherme/projects/parai/app/data/images/lfw/Colin_Powell/Colin_Powell_0157.jpg. Skipping...\n"
     ]
    },
    {
     "name": "stderr",
     "output_type": "stream",
     "text": [
      "  4%|▍         | 320/7484 [00:09<03:32, 33.68it/s]"
     ]
    },
    {
     "name": "stdout",
     "output_type": "stream",
     "text": [
      "Multiple faces detected in /home/guilherme/projects/parai/app/data/images/lfw/Colin_Powell/Colin_Powell_0047.jpg. Skipping...\n",
      "Multiple faces detected in /home/guilherme/projects/parai/app/data/images/lfw/Colin_Powell/Colin_Powell_0046.jpg. Skipping...\n"
     ]
    },
    {
     "name": "stderr",
     "output_type": "stream",
     "text": [
      "  4%|▍         | 336/7484 [00:09<03:28, 34.34it/s]"
     ]
    },
    {
     "name": "stdout",
     "output_type": "stream",
     "text": [
      "Multiple faces detected in /home/guilherme/projects/parai/app/data/images/lfw/Colin_Powell/Colin_Powell_0048.jpg. Skipping...\n",
      "Multiple faces detected in /home/guilherme/projects/parai/app/data/images/lfw/Colin_Powell/Colin_Powell_0171.jpg. Skipping...\n"
     ]
    },
    {
     "name": "stderr",
     "output_type": "stream",
     "text": [
      "  5%|▍         | 348/7484 [00:10<03:31, 33.76it/s]"
     ]
    },
    {
     "name": "stdout",
     "output_type": "stream",
     "text": [
      "Multiple faces detected in /home/guilherme/projects/parai/app/data/images/lfw/Fidel_Castro/Fidel_Castro_0013.jpg. Skipping...\n"
     ]
    },
    {
     "name": "stderr",
     "output_type": "stream",
     "text": [
      "  5%|▍         | 352/7484 [00:10<03:42, 32.11it/s]"
     ]
    },
    {
     "name": "stdout",
     "output_type": "stream",
     "text": [
      "Multiple faces detected in /home/guilherme/projects/parai/app/data/images/lfw/Habib_Rizieq/Habib_Rizieq_0003.jpg. Skipping...\n"
     ]
    },
    {
     "name": "stderr",
     "output_type": "stream",
     "text": [
      "  5%|▌         | 388/7484 [00:11<03:33, 33.19it/s]"
     ]
    },
    {
     "name": "stdout",
     "output_type": "stream",
     "text": [
      "No faces detected in /home/guilherme/projects/parai/app/data/images/lfw/Nabil_Shaath/Nabil_Shaath_0002.jpg. Skipping...\n"
     ]
    },
    {
     "name": "stderr",
     "output_type": "stream",
     "text": [
      "  6%|▌         | 444/7484 [00:13<03:26, 34.13it/s]"
     ]
    },
    {
     "name": "stdout",
     "output_type": "stream",
     "text": [
      "Multiple faces detected in /home/guilherme/projects/parai/app/data/images/lfw/George_W_Bush/George_W_Bush_0296.jpg. Skipping...\n",
      "Multiple faces detected in /home/guilherme/projects/parai/app/data/images/lfw/George_W_Bush/George_W_Bush_0091.jpg. Skipping...\n"
     ]
    },
    {
     "name": "stderr",
     "output_type": "stream",
     "text": [
      "  6%|▌         | 460/7484 [00:13<03:25, 34.12it/s]"
     ]
    },
    {
     "name": "stdout",
     "output_type": "stream",
     "text": [
      "Multiple faces detected in /home/guilherme/projects/parai/app/data/images/lfw/George_W_Bush/George_W_Bush_0527.jpg. Skipping...\n"
     ]
    },
    {
     "name": "stderr",
     "output_type": "stream",
     "text": [
      "  6%|▋         | 468/7484 [00:13<03:22, 34.67it/s]"
     ]
    },
    {
     "name": "stdout",
     "output_type": "stream",
     "text": [
      "Multiple faces detected in /home/guilherme/projects/parai/app/data/images/lfw/George_W_Bush/George_W_Bush_0474.jpg. Skipping...\n",
      "Multiple faces detected in /home/guilherme/projects/parai/app/data/images/lfw/George_W_Bush/George_W_Bush_0108.jpg. Skipping...\n"
     ]
    },
    {
     "name": "stderr",
     "output_type": "stream",
     "text": [
      "  6%|▋         | 476/7484 [00:14<03:31, 33.07it/s]"
     ]
    },
    {
     "name": "stdout",
     "output_type": "stream",
     "text": [
      "Multiple faces detected in /home/guilherme/projects/parai/app/data/images/lfw/George_W_Bush/George_W_Bush_0156.jpg. Skipping...\n",
      "Multiple faces detected in /home/guilherme/projects/parai/app/data/images/lfw/George_W_Bush/George_W_Bush_0223.jpg. Skipping...\n"
     ]
    },
    {
     "name": "stderr",
     "output_type": "stream",
     "text": [
      "  7%|▋         | 512/7484 [00:15<03:22, 34.45it/s]"
     ]
    },
    {
     "name": "stdout",
     "output_type": "stream",
     "text": [
      "Multiple faces detected in /home/guilherme/projects/parai/app/data/images/lfw/George_W_Bush/George_W_Bush_0430.jpg. Skipping...\n"
     ]
    },
    {
     "name": "stderr",
     "output_type": "stream",
     "text": [
      "  7%|▋         | 520/7484 [00:15<03:19, 34.98it/s]"
     ]
    },
    {
     "name": "stdout",
     "output_type": "stream",
     "text": [
      "Multiple faces detected in /home/guilherme/projects/parai/app/data/images/lfw/Hermann_Maier/Hermann_Maier_0001.jpg. Skipping...\n"
     ]
    },
    {
     "name": "stderr",
     "output_type": "stream",
     "text": [
      "  7%|▋         | 544/7484 [00:16<03:20, 34.69it/s]"
     ]
    },
    {
     "name": "stdout",
     "output_type": "stream",
     "text": [
      "Multiple faces detected in /home/guilherme/projects/parai/app/data/images/lfw/John_Ashcroft/John_Ashcroft_0003.jpg. Skipping...\n"
     ]
    },
    {
     "name": "stderr",
     "output_type": "stream",
     "text": [
      "  7%|▋         | 560/7484 [00:16<03:26, 33.60it/s]"
     ]
    },
    {
     "name": "stdout",
     "output_type": "stream",
     "text": [
      "Multiple faces detected in /home/guilherme/projects/parai/app/data/images/lfw/Marc_Grossman/Marc_Grossman_0001.jpg. Skipping...\n"
     ]
    },
    {
     "name": "stderr",
     "output_type": "stream",
     "text": [
      "  8%|▊         | 576/7484 [00:16<03:19, 34.65it/s]"
     ]
    },
    {
     "name": "stdout",
     "output_type": "stream",
     "text": [
      "Multiple faces detected in /home/guilherme/projects/parai/app/data/images/lfw/Ozzy_Osbourne/Ozzy_Osbourne_0003.jpg. Skipping...\n"
     ]
    },
    {
     "name": "stderr",
     "output_type": "stream",
     "text": [
      "  8%|▊         | 584/7484 [00:17<03:22, 34.06it/s]"
     ]
    },
    {
     "name": "stdout",
     "output_type": "stream",
     "text": [
      "Multiple faces detected in /home/guilherme/projects/parai/app/data/images/lfw/Rodrigo_Borja/Rodrigo_Borja_0002.jpg. Skipping...\n"
     ]
    },
    {
     "name": "stderr",
     "output_type": "stream",
     "text": [
      "  9%|▊         | 644/7484 [00:18<03:16, 34.79it/s]"
     ]
    },
    {
     "name": "stdout",
     "output_type": "stream",
     "text": [
      "Multiple faces detected in /home/guilherme/projects/parai/app/data/images/lfw/Jeffrey_Archer/Jeffrey_Archer_0002.jpg. Skipping...\n"
     ]
    },
    {
     "name": "stderr",
     "output_type": "stream",
     "text": [
      "  9%|▉         | 680/7484 [00:20<03:16, 34.63it/s]"
     ]
    },
    {
     "name": "stdout",
     "output_type": "stream",
     "text": [
      "Multiple faces detected in /home/guilherme/projects/parai/app/data/images/lfw/Sandra_Bullock/Sandra_Bullock_0001.jpg. Skipping...\n",
      "Multiple faces detected in /home/guilherme/projects/parai/app/data/images/lfw/Scott_Sullivan/Scott_Sullivan_0002.jpg. Skipping...\n"
     ]
    },
    {
     "name": "stderr",
     "output_type": "stream",
     "text": [
      "  9%|▉         | 696/7484 [00:20<03:19, 34.06it/s]"
     ]
    },
    {
     "name": "stdout",
     "output_type": "stream",
     "text": [
      "Multiple faces detected in /home/guilherme/projects/parai/app/data/images/lfw/Vladimir_Putin/Vladimir_Putin_0028.jpg. Skipping...\n"
     ]
    },
    {
     "name": "stderr",
     "output_type": "stream",
     "text": [
      "  9%|▉         | 704/7484 [00:20<03:20, 33.77it/s]"
     ]
    },
    {
     "name": "stdout",
     "output_type": "stream",
     "text": [
      "Multiple faces detected in /home/guilherme/projects/parai/app/data/images/lfw/Yashwant_Sinha/Yashwant_Sinha_0002.jpg. Skipping...\n",
      "Multiple faces detected in /home/guilherme/projects/parai/app/data/images/lfw/Amelie_Mauresmo/Amelie_Mauresmo_0005.jpg. Skipping...\n"
     ]
    },
    {
     "name": "stderr",
     "output_type": "stream",
     "text": [
      " 10%|▉         | 732/7484 [00:21<03:15, 34.57it/s]"
     ]
    },
    {
     "name": "stdout",
     "output_type": "stream",
     "text": [
      "Multiple faces detected in /home/guilherme/projects/parai/app/data/images/lfw/Ellen_DeGeneres/Ellen_DeGeneres_0001.jpg. Skipping...\n"
     ]
    },
    {
     "name": "stderr",
     "output_type": "stream",
     "text": [
      " 10%|▉         | 748/7484 [00:22<03:20, 33.67it/s]"
     ]
    },
    {
     "name": "stdout",
     "output_type": "stream",
     "text": [
      "Multiple faces detected in /home/guilherme/projects/parai/app/data/images/lfw/Lucio_Gutierrez/Lucio_Gutierrez_0002.jpg. Skipping...\n"
     ]
    },
    {
     "name": "stderr",
     "output_type": "stream",
     "text": [
      " 10%|█         | 780/7484 [00:22<03:08, 35.50it/s]"
     ]
    },
    {
     "name": "stdout",
     "output_type": "stream",
     "text": [
      "Multiple faces detected in /home/guilherme/projects/parai/app/data/images/lfw/Serena_Williams/Serena_Williams_0013.jpg. Skipping...\n",
      "Multiple faces detected in /home/guilherme/projects/parai/app/data/images/lfw/Spencer_Abraham/Spencer_Abraham_0009.jpg. Skipping...\n"
     ]
    },
    {
     "name": "stderr",
     "output_type": "stream",
     "text": [
      " 11%|█         | 788/7484 [00:23<03:13, 34.54it/s]"
     ]
    },
    {
     "name": "stdout",
     "output_type": "stream",
     "text": [
      "Multiple faces detected in /home/guilherme/projects/parai/app/data/images/lfw/Alejandro_Toledo/Alejandro_Toledo_0028.jpg. Skipping...\n",
      "Multiple faces detected in /home/guilherme/projects/parai/app/data/images/lfw/Alejandro_Toledo/Alejandro_Toledo_0021.jpg. Skipping...\n",
      "Multiple faces detected in /home/guilherme/projects/parai/app/data/images/lfw/Antonio_Banderas/Antonio_Banderas_0001.jpg. Skipping...\n"
     ]
    },
    {
     "name": "stderr",
     "output_type": "stream",
     "text": [
      " 11%|█         | 812/7484 [00:23<03:15, 34.18it/s]"
     ]
    },
    {
     "name": "stdout",
     "output_type": "stream",
     "text": [
      "Multiple faces detected in /home/guilherme/projects/parai/app/data/images/lfw/Jose_Maria_Aznar/Jose_Maria_Aznar_0018.jpg. Skipping...\n",
      "Multiple faces detected in /home/guilherme/projects/parai/app/data/images/lfw/Katherine_Harris/Katherine_Harris_0002.jpg. Skipping...\n"
     ]
    },
    {
     "name": "stderr",
     "output_type": "stream",
     "text": [
      " 11%|█         | 824/7484 [00:24<03:10, 34.93it/s]"
     ]
    },
    {
     "name": "stdout",
     "output_type": "stream",
     "text": [
      "Multiple faces detected in /home/guilherme/projects/parai/app/data/images/lfw/Mahathir_Mohamad/Mahathir_Mohamad_0009.jpg. Skipping...\n"
     ]
    },
    {
     "name": "stderr",
     "output_type": "stream",
     "text": [
      " 11%|█         | 840/7484 [00:24<03:12, 34.44it/s]"
     ]
    },
    {
     "name": "stdout",
     "output_type": "stream",
     "text": [
      "No faces detected in /home/guilherme/projects/parai/app/data/images/lfw/Rudolph_Giuliani/Rudolph_Giuliani_0012.jpg. Skipping...\n"
     ]
    },
    {
     "name": "stderr",
     "output_type": "stream",
     "text": [
      " 11%|█▏        | 856/7484 [00:25<03:13, 34.32it/s]"
     ]
    },
    {
     "name": "stdout",
     "output_type": "stream",
     "text": [
      "Multiple faces detected in /home/guilherme/projects/parai/app/data/images/lfw/Gerhard_Schroeder/Gerhard_Schroeder_0093.jpg. Skipping...\n",
      "Multiple faces detected in /home/guilherme/projects/parai/app/data/images/lfw/Gerhard_Schroeder/Gerhard_Schroeder_0076.jpg. Skipping...\n"
     ]
    },
    {
     "name": "stderr",
     "output_type": "stream",
     "text": [
      " 12%|█▏        | 880/7484 [00:25<03:15, 33.76it/s]"
     ]
    },
    {
     "name": "stdout",
     "output_type": "stream",
     "text": [
      "Multiple faces detected in /home/guilherme/projects/parai/app/data/images/lfw/Junichiro_Koizumi/Junichiro_Koizumi_0031.jpg. Skipping...\n"
     ]
    },
    {
     "name": "stderr",
     "output_type": "stream",
     "text": [
      " 12%|█▏        | 904/7484 [00:26<03:15, 33.65it/s]"
     ]
    },
    {
     "name": "stdout",
     "output_type": "stream",
     "text": [
      "Multiple faces detected in /home/guilherme/projects/parai/app/data/images/lfw/Princess_Caroline/Princess_Caroline_0003.jpg. Skipping...\n"
     ]
    },
    {
     "name": "stderr",
     "output_type": "stream",
     "text": [
      " 13%|█▎        | 956/7484 [00:28<03:13, 33.72it/s]"
     ]
    },
    {
     "name": "stdout",
     "output_type": "stream",
     "text": [
      "Multiple faces detected in /home/guilherme/projects/parai/app/data/images/lfw/Catherine_Zeta-Jones/Catherine_Zeta-Jones_0006.jpg. Skipping...\n"
     ]
    },
    {
     "name": "stderr",
     "output_type": "stream",
     "text": [
      " 13%|█▎        | 984/7484 [00:28<03:06, 34.76it/s]"
     ]
    },
    {
     "name": "stdout",
     "output_type": "stream",
     "text": [
      "Multiple faces detected in /home/guilherme/projects/parai/app/data/images/lfw/Megawati_Sukarnoputri/Megawati_Sukarnoputri_0025.jpg. Skipping...\n"
     ]
    },
    {
     "name": "stderr",
     "output_type": "stream",
     "text": [
      " 14%|█▎        | 1012/7484 [00:29<03:04, 35.16it/s]"
     ]
    },
    {
     "name": "stdout",
     "output_type": "stream",
     "text": [
      "Multiple faces detected in /home/guilherme/projects/parai/app/data/images/lfw/Luiz_Inacio_Lula_da_Silva/Luiz_Inacio_Lula_da_Silva_0004.jpg. Skipping...\n"
     ]
    },
    {
     "name": "stderr",
     "output_type": "stream",
     "text": [
      " 14%|█▎        | 1024/7484 [00:30<03:10, 33.95it/s]"
     ]
    },
    {
     "name": "stdout",
     "output_type": "stream",
     "text": [
      "Multiple faces detected in /home/guilherme/projects/parai/app/data/images/lfw/Li_Peng/Li_Peng_0002.jpg. Skipping...\n"
     ]
    },
    {
     "name": "stderr",
     "output_type": "stream",
     "text": [
      " 14%|█▍        | 1032/7484 [00:30<03:08, 34.29it/s]"
     ]
    },
    {
     "name": "stdout",
     "output_type": "stream",
     "text": [
      "Multiple faces detected in /home/guilherme/projects/parai/app/data/images/lfw/Ali_Abbas/Ali_Abbas_0001.jpg. Skipping...\n"
     ]
    },
    {
     "name": "stderr",
     "output_type": "stream",
     "text": [
      " 14%|█▍        | 1044/7484 [00:30<03:03, 35.07it/s]"
     ]
    },
    {
     "name": "stdout",
     "output_type": "stream",
     "text": [
      "Multiple faces detected in /home/guilherme/projects/parai/app/data/images/lfw/Hans_Blix/Hans_Blix_0018.jpg. Skipping...\n",
      "Multiple faces detected in /home/guilherme/projects/parai/app/data/images/lfw/Hans_Blix/Hans_Blix_0039.jpg. Skipping...\n"
     ]
    },
    {
     "name": "stderr",
     "output_type": "stream",
     "text": [
      " 14%|█▍        | 1080/7484 [00:31<03:07, 34.06it/s]"
     ]
    },
    {
     "name": "stdout",
     "output_type": "stream",
     "text": [
      "Multiple faces detected in /home/guilherme/projects/parai/app/data/images/lfw/Demi_Moore/Demi_Moore_0002.jpg. Skipping...\n"
     ]
    },
    {
     "name": "stderr",
     "output_type": "stream",
     "text": [
      " 15%|█▍        | 1088/7484 [00:31<03:12, 33.16it/s]"
     ]
    },
    {
     "name": "stdout",
     "output_type": "stream",
     "text": [
      "Multiple faces detected in /home/guilherme/projects/parai/app/data/images/lfw/Hugh_Grant/Hugh_Grant_0009.jpg. Skipping...\n"
     ]
    },
    {
     "name": "stderr",
     "output_type": "stream",
     "text": [
      " 15%|█▍        | 1120/7484 [00:32<03:06, 34.07it/s]"
     ]
    },
    {
     "name": "stdout",
     "output_type": "stream",
     "text": [
      "Multiple faces detected in /home/guilherme/projects/parai/app/data/images/lfw/Laura_Bush/Laura_Bush_0011.jpg. Skipping...\n",
      "No faces detected in /home/guilherme/projects/parai/app/data/images/lfw/Luis_Horna/Luis_Horna_0002.jpg. Skipping...\n"
     ]
    },
    {
     "name": "stderr",
     "output_type": "stream",
     "text": [
      " 15%|█▌        | 1128/7484 [00:33<03:10, 33.37it/s]"
     ]
    },
    {
     "name": "stdout",
     "output_type": "stream",
     "text": [
      "Multiple faces detected in /home/guilherme/projects/parai/app/data/images/lfw/Mike_Myers/Mike_Myers_0007.jpg. Skipping...\n"
     ]
    },
    {
     "name": "stderr",
     "output_type": "stream",
     "text": [
      " 15%|█▌        | 1156/7484 [00:34<03:05, 34.08it/s]"
     ]
    },
    {
     "name": "stdout",
     "output_type": "stream",
     "text": [
      "Multiple faces detected in /home/guilherme/projects/parai/app/data/images/lfw/Tony_Blair/Tony_Blair_0087.jpg. Skipping...\n"
     ]
    },
    {
     "name": "stderr",
     "output_type": "stream",
     "text": [
      " 16%|█▌        | 1212/7484 [00:35<03:07, 33.50it/s]"
     ]
    },
    {
     "name": "stdout",
     "output_type": "stream",
     "text": [
      "Multiple faces detected in /home/guilherme/projects/parai/app/data/images/lfw/Hitomi_Soga/Hitomi_Soga_0001.jpg. Skipping...\n"
     ]
    },
    {
     "name": "stderr",
     "output_type": "stream",
     "text": [
      " 17%|█▋        | 1244/7484 [00:36<03:01, 34.38it/s]"
     ]
    },
    {
     "name": "stdout",
     "output_type": "stream",
     "text": [
      "Multiple faces detected in /home/guilherme/projects/parai/app/data/images/lfw/John_Bolton/John_Bolton_0003.jpg. Skipping...\n"
     ]
    },
    {
     "name": "stderr",
     "output_type": "stream",
     "text": [
      " 17%|█▋        | 1280/7484 [00:37<02:59, 34.60it/s]"
     ]
    },
    {
     "name": "stdout",
     "output_type": "stream",
     "text": [
      "No faces detected in /home/guilherme/projects/parai/app/data/images/lfw/Saeb_Erekat/Saeb_Erekat_0002.jpg. Skipping...\n"
     ]
    },
    {
     "name": "stderr",
     "output_type": "stream",
     "text": [
      " 18%|█▊        | 1352/7484 [00:39<02:58, 34.32it/s]"
     ]
    },
    {
     "name": "stdout",
     "output_type": "stream",
     "text": [
      "Multiple faces detected in /home/guilherme/projects/parai/app/data/images/lfw/Colin_Powell/Colin_Powell_0220.jpg. Skipping...\n"
     ]
    },
    {
     "name": "stderr",
     "output_type": "stream",
     "text": [
      " 18%|█▊        | 1368/7484 [00:40<03:02, 33.56it/s]"
     ]
    },
    {
     "name": "stdout",
     "output_type": "stream",
     "text": [
      "Multiple faces detected in /home/guilherme/projects/parai/app/data/images/lfw/Colin_Powell/Colin_Powell_0070.jpg. Skipping...\n"
     ]
    },
    {
     "name": "stderr",
     "output_type": "stream",
     "text": [
      " 18%|█▊        | 1380/7484 [00:40<03:00, 33.86it/s]"
     ]
    },
    {
     "name": "stdout",
     "output_type": "stream",
     "text": [
      "Multiple faces detected in /home/guilherme/projects/parai/app/data/images/lfw/Colin_Powell/Colin_Powell_0034.jpg. Skipping...\n"
     ]
    },
    {
     "name": "stderr",
     "output_type": "stream",
     "text": [
      " 19%|█▉        | 1408/7484 [00:41<02:55, 34.62it/s]"
     ]
    },
    {
     "name": "stdout",
     "output_type": "stream",
     "text": [
      "Multiple faces detected in /home/guilherme/projects/parai/app/data/images/lfw/Jerry_Regier/Jerry_Regier_0001.jpg. Skipping...\n"
     ]
    },
    {
     "name": "stderr",
     "output_type": "stream",
     "text": [
      " 19%|█▉        | 1432/7484 [00:42<02:52, 35.14it/s]"
     ]
    },
    {
     "name": "stdout",
     "output_type": "stream",
     "text": [
      "Multiple faces detected in /home/guilherme/projects/parai/app/data/images/lfw/Norm_Coleman/Norm_Coleman_0003.jpg. Skipping...\n"
     ]
    },
    {
     "name": "stderr",
     "output_type": "stream",
     "text": [
      " 19%|█▉        | 1444/7484 [00:42<02:52, 34.98it/s]"
     ]
    },
    {
     "name": "stdout",
     "output_type": "stream",
     "text": [
      "Multiple faces detected in /home/guilherme/projects/parai/app/data/images/lfw/Roh_Moo-hyun/Roh_Moo-hyun_0002.jpg. Skipping...\n"
     ]
    },
    {
     "name": "stderr",
     "output_type": "stream",
     "text": [
      " 19%|█▉        | 1456/7484 [00:42<02:55, 34.41it/s]"
     ]
    },
    {
     "name": "stdout",
     "output_type": "stream",
     "text": [
      "Multiple faces detected in /home/guilherme/projects/parai/app/data/images/lfw/Vaclav_Havel/Vaclav_Havel_0001.jpg. Skipping...\n"
     ]
    },
    {
     "name": "stderr",
     "output_type": "stream",
     "text": [
      " 20%|█▉        | 1464/7484 [00:43<02:59, 33.61it/s]"
     ]
    },
    {
     "name": "stdout",
     "output_type": "stream",
     "text": [
      "Multiple faces detected in /home/guilherme/projects/parai/app/data/images/lfw/Andrew_Bunner/Andrew_Bunner_0001.jpg. Skipping...\n"
     ]
    },
    {
     "name": "stderr",
     "output_type": "stream",
     "text": [
      " 20%|█▉        | 1472/7484 [00:43<02:55, 34.20it/s]"
     ]
    },
    {
     "name": "stdout",
     "output_type": "stream",
     "text": [
      "Multiple faces detected in /home/guilherme/projects/parai/app/data/images/lfw/Charles_Moose/Charles_Moose_0009.jpg. Skipping...\n"
     ]
    },
    {
     "name": "stderr",
     "output_type": "stream",
     "text": [
      " 20%|██        | 1520/7484 [00:44<02:50, 34.90it/s]"
     ]
    },
    {
     "name": "stdout",
     "output_type": "stream",
     "text": [
      "Multiple faces detected in /home/guilherme/projects/parai/app/data/images/lfw/George_W_Bush/George_W_Bush_0497.jpg. Skipping...\n",
      "Multiple faces detected in /home/guilherme/projects/parai/app/data/images/lfw/George_W_Bush/George_W_Bush_0073.jpg. Skipping...\n"
     ]
    },
    {
     "name": "stderr",
     "output_type": "stream",
     "text": [
      " 21%|██        | 1536/7484 [00:45<02:53, 34.29it/s]"
     ]
    },
    {
     "name": "stdout",
     "output_type": "stream",
     "text": [
      "Multiple faces detected in /home/guilherme/projects/parai/app/data/images/lfw/George_W_Bush/George_W_Bush_0064.jpg. Skipping...\n",
      "Multiple faces detected in /home/guilherme/projects/parai/app/data/images/lfw/George_W_Bush/George_W_Bush_0504.jpg. Skipping...\n"
     ]
    },
    {
     "name": "stderr",
     "output_type": "stream",
     "text": [
      " 21%|██        | 1544/7484 [00:45<02:49, 35.08it/s]"
     ]
    },
    {
     "name": "stdout",
     "output_type": "stream",
     "text": [
      "Multiple faces detected in /home/guilherme/projects/parai/app/data/images/lfw/George_W_Bush/George_W_Bush_0276.jpg. Skipping...\n",
      "Multiple faces detected in /home/guilherme/projects/parai/app/data/images/lfw/George_W_Bush/George_W_Bush_0076.jpg. Skipping...\n"
     ]
    },
    {
     "name": "stderr",
     "output_type": "stream",
     "text": [
      " 21%|██        | 1568/7484 [00:46<02:48, 35.01it/s]"
     ]
    },
    {
     "name": "stdout",
     "output_type": "stream",
     "text": [
      "Multiple faces detected in /home/guilherme/projects/parai/app/data/images/lfw/George_W_Bush/George_W_Bush_0179.jpg. Skipping...\n"
     ]
    },
    {
     "name": "stderr",
     "output_type": "stream",
     "text": [
      " 21%|██▏       | 1600/7484 [00:46<02:52, 34.05it/s]"
     ]
    },
    {
     "name": "stdout",
     "output_type": "stream",
     "text": [
      "Multiple faces detected in /home/guilherme/projects/parai/app/data/images/lfw/Jesse_Jackson/Jesse_Jackson_0006.jpg. Skipping...\n",
      "Multiple faces detected in /home/guilherme/projects/parai/app/data/images/lfw/John_Ashcroft/John_Ashcroft_0007.jpg. Skipping...\n"
     ]
    },
    {
     "name": "stderr",
     "output_type": "stream",
     "text": [
      " 22%|██▏       | 1628/7484 [00:47<02:54, 33.64it/s]"
     ]
    },
    {
     "name": "stdout",
     "output_type": "stream",
     "text": [
      "Multiple faces detected in /home/guilherme/projects/parai/app/data/images/lfw/Marc_Grossman/Marc_Grossman_0003.jpg. Skipping...\n"
     ]
    },
    {
     "name": "stderr",
     "output_type": "stream",
     "text": [
      " 22%|██▏       | 1636/7484 [00:48<02:49, 34.51it/s]"
     ]
    },
    {
     "name": "stdout",
     "output_type": "stream",
     "text": [
      "Multiple faces detected in /home/guilherme/projects/parai/app/data/images/lfw/Orlando_Bloom/Orlando_Bloom_0001.jpg. Skipping...\n"
     ]
    },
    {
     "name": "stderr",
     "output_type": "stream",
     "text": [
      " 22%|██▏       | 1652/7484 [00:48<02:48, 34.56it/s]"
     ]
    },
    {
     "name": "stdout",
     "output_type": "stream",
     "text": [
      "Multiple faces detected in /home/guilherme/projects/parai/app/data/images/lfw/Russell_Crowe/Russell_Crowe_0001.jpg. Skipping...\n",
      "Multiple faces detected in /home/guilherme/projects/parai/app/data/images/lfw/Silvan_Shalom/Silvan_Shalom_0003.jpg. Skipping...\n"
     ]
    },
    {
     "name": "stderr",
     "output_type": "stream",
     "text": [
      " 22%|██▏       | 1664/7484 [00:48<02:45, 35.18it/s]"
     ]
    },
    {
     "name": "stdout",
     "output_type": "stream",
     "text": [
      "No faces detected in /home/guilherme/projects/parai/app/data/images/lfw/Abdoulaye_Wade/Abdoulaye_Wade_0003.jpg. Skipping...\n"
     ]
    },
    {
     "name": "stderr",
     "output_type": "stream",
     "text": [
      " 22%|██▏       | 1680/7484 [00:49<02:48, 34.52it/s]"
     ]
    },
    {
     "name": "stdout",
     "output_type": "stream",
     "text": [
      "Multiple faces detected in /home/guilherme/projects/parai/app/data/images/lfw/Chen_Shui-bian/Chen_Shui-bian_0005.jpg. Skipping...\n"
     ]
    },
    {
     "name": "stderr",
     "output_type": "stream",
     "text": [
      " 23%|██▎       | 1688/7484 [00:49<02:48, 34.47it/s]"
     ]
    },
    {
     "name": "stdout",
     "output_type": "stream",
     "text": [
      "Multiple faces detected in /home/guilherme/projects/parai/app/data/images/lfw/Elizabeth_Shue/Elizabeth_Shue_0002.jpg. Skipping...\n",
      "No faces detected in /home/guilherme/projects/parai/app/data/images/lfw/George_HW_Bush/George_HW_Bush_0002.jpg. Skipping...\n"
     ]
    },
    {
     "name": "stderr",
     "output_type": "stream",
     "text": [
      " 23%|██▎       | 1700/7484 [00:49<02:52, 33.55it/s]"
     ]
    },
    {
     "name": "stdout",
     "output_type": "stream",
     "text": [
      "Multiple faces detected in /home/guilherme/projects/parai/app/data/images/lfw/Intisar_Ajouri/Intisar_Ajouri_0002.jpg. Skipping...\n"
     ]
    },
    {
     "name": "stderr",
     "output_type": "stream",
     "text": [
      " 24%|██▎       | 1768/7484 [00:51<02:47, 34.09it/s]"
     ]
    },
    {
     "name": "stdout",
     "output_type": "stream",
     "text": [
      "Multiple faces detected in /home/guilherme/projects/parai/app/data/images/lfw/Walter_Mondale/Walter_Mondale_0002.jpg. Skipping...\n"
     ]
    },
    {
     "name": "stderr",
     "output_type": "stream",
     "text": [
      " 24%|██▍       | 1792/7484 [00:52<02:42, 35.10it/s]"
     ]
    },
    {
     "name": "stdout",
     "output_type": "stream",
     "text": [
      "Multiple faces detected in /home/guilherme/projects/parai/app/data/images/lfw/Donald_Rumsfeld/Donald_Rumsfeld_0074.jpg. Skipping...\n",
      "Multiple faces detected in /home/guilherme/projects/parai/app/data/images/lfw/Donald_Rumsfeld/Donald_Rumsfeld_0083.jpg. Skipping...\n"
     ]
    },
    {
     "name": "stderr",
     "output_type": "stream",
     "text": [
      " 24%|██▍       | 1800/7484 [00:52<02:43, 34.87it/s]"
     ]
    },
    {
     "name": "stdout",
     "output_type": "stream",
     "text": [
      "Multiple faces detected in /home/guilherme/projects/parai/app/data/images/lfw/Eduardo_Duhalde/Eduardo_Duhalde_0008.jpg. Skipping...\n"
     ]
    },
    {
     "name": "stderr",
     "output_type": "stream",
     "text": [
      " 25%|██▍       | 1848/7484 [00:54<02:43, 34.54it/s]"
     ]
    },
    {
     "name": "stdout",
     "output_type": "stream",
     "text": [
      "Multiple faces detected in /home/guilherme/projects/parai/app/data/images/lfw/Nestor_Kirchner/Nestor_Kirchner_0005.jpg. Skipping...\n"
     ]
    },
    {
     "name": "stderr",
     "output_type": "stream",
     "text": [
      " 25%|██▍       | 1856/7484 [00:54<02:45, 33.96it/s]"
     ]
    },
    {
     "name": "stdout",
     "output_type": "stream",
     "text": [
      "Multiple faces detected in /home/guilherme/projects/parai/app/data/images/lfw/Ralf_Schumacher/Ralf_Schumacher_0008.jpg. Skipping...\n"
     ]
    },
    {
     "name": "stderr",
     "output_type": "stream",
     "text": [
      " 25%|██▌       | 1872/7484 [00:54<02:38, 35.44it/s]"
     ]
    },
    {
     "name": "stdout",
     "output_type": "stream",
     "text": [
      "Multiple faces detected in /home/guilherme/projects/parai/app/data/images/lfw/Serena_Williams/Serena_Williams_0047.jpg. Skipping...\n",
      "Multiple faces detected in /home/guilherme/projects/parai/app/data/images/lfw/Sharon_Osbourne/Sharon_Osbourne_0001.jpg. Skipping...\n"
     ]
    },
    {
     "name": "stderr",
     "output_type": "stream",
     "text": [
      " 25%|██▌       | 1888/7484 [00:55<02:36, 35.76it/s]"
     ]
    },
    {
     "name": "stdout",
     "output_type": "stream",
     "text": [
      "Multiple faces detected in /home/guilherme/projects/parai/app/data/images/lfw/Andrew_Weissmann/Andrew_Weissmann_0001.jpg. Skipping...\n",
      "Multiple faces detected in /home/guilherme/projects/parai/app/data/images/lfw/Carrie-Anne_Moss/Carrie-Anne_Moss_0003.jpg. Skipping...\n"
     ]
    },
    {
     "name": "stderr",
     "output_type": "stream",
     "text": [
      " 25%|██▌       | 1896/7484 [00:55<02:35, 35.82it/s]"
     ]
    },
    {
     "name": "stdout",
     "output_type": "stream",
     "text": [
      "Multiple faces detected in /home/guilherme/projects/parai/app/data/images/lfw/Condoleezza_Rice/Condoleezza_Rice_0005.jpg. Skipping...\n"
     ]
    },
    {
     "name": "stderr",
     "output_type": "stream",
     "text": [
      " 26%|██▌       | 1928/7484 [00:56<02:37, 35.18it/s]"
     ]
    },
    {
     "name": "stdout",
     "output_type": "stream",
     "text": [
      "Multiple faces detected in /home/guilherme/projects/parai/app/data/images/lfw/Pierre_Pettigrew/Pierre_Pettigrew_0002.jpg. Skipping...\n",
      "Multiple faces detected in /home/guilherme/projects/parai/app/data/images/lfw/Rudolph_Giuliani/Rudolph_Giuliani_0018.jpg. Skipping...\n"
     ]
    },
    {
     "name": "stderr",
     "output_type": "stream",
     "text": [
      " 26%|██▌       | 1960/7484 [00:57<02:35, 35.50it/s]"
     ]
    },
    {
     "name": "stdout",
     "output_type": "stream",
     "text": [
      "Multiple faces detected in /home/guilherme/projects/parai/app/data/images/lfw/Gerhard_Schroeder/Gerhard_Schroeder_0077.jpg. Skipping...\n"
     ]
    },
    {
     "name": "stderr",
     "output_type": "stream",
     "text": [
      " 26%|██▋       | 1972/7484 [00:57<02:33, 35.92it/s]"
     ]
    },
    {
     "name": "stdout",
     "output_type": "stream",
     "text": [
      "Multiple faces detected in /home/guilherme/projects/parai/app/data/images/lfw/Iain_Duncan_Smith/Iain_Duncan_Smith_0001.jpg. Skipping...\n",
      "Multiple faces detected in /home/guilherme/projects/parai/app/data/images/lfw/Jeremy_Greenstock/Jeremy_Greenstock_0005.jpg. Skipping...\n"
     ]
    },
    {
     "name": "stderr",
     "output_type": "stream",
     "text": [
      " 27%|██▋       | 2000/7484 [00:58<02:35, 35.30it/s]"
     ]
    },
    {
     "name": "stdout",
     "output_type": "stream",
     "text": [
      "Multiple faces detected in /home/guilherme/projects/parai/app/data/images/lfw/Melissa_Etheridge/Melissa_Etheridge_0001.jpg. Skipping...\n"
     ]
    },
    {
     "name": "stderr",
     "output_type": "stream",
     "text": [
      " 27%|██▋       | 2016/7484 [00:59<02:31, 36.12it/s]"
     ]
    },
    {
     "name": "stdout",
     "output_type": "stream",
     "text": [
      "Multiple faces detected in /home/guilherme/projects/parai/app/data/images/lfw/Felipe_Perez_Roque/Felipe_Perez_Roque_0001.jpg. Skipping...\n",
      "Multiple faces detected in /home/guilherme/projects/parai/app/data/images/lfw/Jean-David_Levitte/Jean-David_Levitte_0007.jpg. Skipping...\n"
     ]
    },
    {
     "name": "stderr",
     "output_type": "stream",
     "text": [
      " 27%|██▋       | 2024/7484 [00:59<02:31, 36.02it/s]"
     ]
    },
    {
     "name": "stdout",
     "output_type": "stream",
     "text": [
      "Multiple faces detected in /home/guilherme/projects/parai/app/data/images/lfw/Mark_Philippoussis/Mark_Philippoussis_0003.jpg. Skipping...\n",
      "Multiple faces detected in /home/guilherme/projects/parai/app/data/images/lfw/Paul-Henri_Mathieu/Paul-Henri_Mathieu_0003.jpg. Skipping...\n",
      "Multiple faces detected in /home/guilherme/projects/parai/app/data/images/lfw/Slobodan_Milosevic/Slobodan_Milosevic_0002.jpg. Skipping...\n"
     ]
    },
    {
     "name": "stderr",
     "output_type": "stream",
     "text": [
      " 27%|██▋       | 2044/7484 [00:59<02:34, 35.21it/s]"
     ]
    },
    {
     "name": "stdout",
     "output_type": "stream",
     "text": [
      "Multiple faces detected in /home/guilherme/projects/parai/app/data/images/lfw/Taha_Yassin_Ramadan/Taha_Yassin_Ramadan_0003.jpg. Skipping...\n"
     ]
    },
    {
     "name": "stderr",
     "output_type": "stream",
     "text": [
      " 28%|██▊       | 2060/7484 [01:00<02:33, 35.28it/s]"
     ]
    },
    {
     "name": "stdout",
     "output_type": "stream",
     "text": [
      "Multiple faces detected in /home/guilherme/projects/parai/app/data/images/lfw/Recep_Tayyip_Erdogan/Recep_Tayyip_Erdogan_0023.jpg. Skipping...\n",
      "Multiple faces detected in /home/guilherme/projects/parai/app/data/images/lfw/Recep_Tayyip_Erdogan/Recep_Tayyip_Erdogan_0012.jpg. Skipping...\n",
      "Multiple faces detected in /home/guilherme/projects/parai/app/data/images/lfw/Vladimiro_Montesinos/Vladimiro_Montesinos_0003.jpg. Skipping...\n"
     ]
    },
    {
     "name": "stderr",
     "output_type": "stream",
     "text": [
      " 28%|██▊       | 2072/7484 [01:00<02:39, 33.86it/s]"
     ]
    },
    {
     "name": "stdout",
     "output_type": "stream",
     "text": [
      "Multiple faces detected in /home/guilherme/projects/parai/app/data/images/lfw/Arnold_Schwarzenegger/Arnold_Schwarzenegger_0038.jpg. Skipping...\n"
     ]
    },
    {
     "name": "stderr",
     "output_type": "stream",
     "text": [
      " 28%|██▊       | 2080/7484 [01:00<02:37, 34.26it/s]"
     ]
    },
    {
     "name": "stdout",
     "output_type": "stream",
     "text": [
      "Multiple faces detected in /home/guilherme/projects/parai/app/data/images/lfw/Marissa_Jaret_Winokur/Marissa_Jaret_Winokur_0001.jpg. Skipping...\n"
     ]
    },
    {
     "name": "stderr",
     "output_type": "stream",
     "text": [
      " 28%|██▊       | 2096/7484 [01:01<02:41, 33.33it/s]"
     ]
    },
    {
     "name": "stdout",
     "output_type": "stream",
     "text": [
      "Multiple faces detected in /home/guilherme/projects/parai/app/data/images/lfw/Bridgette_Wilson-Sampras/Bridgette_Wilson-Sampras_0003.jpg. Skipping...\n"
     ]
    },
    {
     "name": "stderr",
     "output_type": "stream",
     "text": [
      " 28%|██▊       | 2112/7484 [01:01<02:38, 33.90it/s]"
     ]
    },
    {
     "name": "stdout",
     "output_type": "stream",
     "text": [
      "Multiple faces detected in /home/guilherme/projects/parai/app/data/images/lfw/Luiz_Inacio_Lula_da_Silva/Luiz_Inacio_Lula_da_Silva_0044.jpg. Skipping...\n"
     ]
    },
    {
     "name": "stderr",
     "output_type": "stream",
     "text": [
      " 28%|██▊       | 2124/7484 [01:02<02:38, 33.92it/s]"
     ]
    },
    {
     "name": "stdout",
     "output_type": "stream",
     "text": [
      "Multiple faces detected in /home/guilherme/projects/parai/app/data/images/lfw/Hun_Sen/Hun_Sen_0001.jpg. Skipping...\n"
     ]
    },
    {
     "name": "stderr",
     "output_type": "stream",
     "text": [
      " 29%|██▊       | 2144/7484 [01:02<02:35, 34.41it/s]"
     ]
    },
    {
     "name": "stdout",
     "output_type": "stream",
     "text": [
      "Multiple faces detected in /home/guilherme/projects/parai/app/data/images/lfw/Bob_Dole/Bob_Dole_0001.jpg. Skipping...\n",
      "Multiple faces detected in /home/guilherme/projects/parai/app/data/images/lfw/Bob_Hope/Bob_Hope_0002.jpg. Skipping...\n"
     ]
    },
    {
     "name": "stderr",
     "output_type": "stream",
     "text": [
      " 29%|██▉       | 2188/7484 [01:04<02:30, 35.22it/s]"
     ]
    },
    {
     "name": "stdout",
     "output_type": "stream",
     "text": [
      "Multiple faces detected in /home/guilherme/projects/parai/app/data/images/lfw/Al_Pacino/Al_Pacino_0002.jpg. Skipping...\n",
      "Multiple faces detected in /home/guilherme/projects/parai/app/data/images/lfw/Ali_Naimi/Ali_Naimi_0008.jpg. Skipping...\n"
     ]
    },
    {
     "name": "stderr",
     "output_type": "stream",
     "text": [
      " 30%|██▉       | 2216/7484 [01:04<02:31, 34.77it/s]"
     ]
    },
    {
     "name": "stdout",
     "output_type": "stream",
     "text": [
      "Multiple faces detected in /home/guilherme/projects/parai/app/data/images/lfw/Hans_Blix/Hans_Blix_0011.jpg. Skipping...\n",
      "Multiple faces detected in /home/guilherme/projects/parai/app/data/images/lfw/Hans_Blix/Hans_Blix_0026.jpg. Skipping...\n"
     ]
    },
    {
     "name": "stderr",
     "output_type": "stream",
     "text": [
      " 30%|██▉       | 2224/7484 [01:05<02:26, 35.97it/s]"
     ]
    },
    {
     "name": "stdout",
     "output_type": "stream",
     "text": [
      "Multiple faces detected in /home/guilherme/projects/parai/app/data/images/lfw/Hans_Blix/Hans_Blix_0012.jpg. Skipping...\n",
      "Multiple faces detected in /home/guilherme/projects/parai/app/data/images/lfw/Hans_Blix/Hans_Blix_0034.jpg. Skipping...\n",
      "Multiple faces detected in /home/guilherme/projects/parai/app/data/images/lfw/Hans_Blix/Hans_Blix_0003.jpg. Skipping...\n"
     ]
    },
    {
     "name": "stderr",
     "output_type": "stream",
     "text": [
      " 30%|███       | 2248/7484 [01:05<02:27, 35.54it/s]"
     ]
    },
    {
     "name": "stdout",
     "output_type": "stream",
     "text": [
      "Multiple faces detected in /home/guilherme/projects/parai/app/data/images/lfw/JJ_Redick/JJ_Redick_0002.jpg. Skipping...\n",
      "Multiple faces detected in /home/guilherme/projects/parai/app/data/images/lfw/Job_Cohen/Job_Cohen_0002.jpg. Skipping...\n"
     ]
    },
    {
     "name": "stderr",
     "output_type": "stream",
     "text": [
      " 30%|███       | 2276/7484 [01:06<02:26, 35.49it/s]"
     ]
    },
    {
     "name": "stdout",
     "output_type": "stream",
     "text": [
      "No faces detected in /home/guilherme/projects/parai/app/data/images/lfw/Ken_Macha/Ken_Macha_0003.jpg. Skipping...\n",
      "Multiple faces detected in /home/guilherme/projects/parai/app/data/images/lfw/LK_Advani/LK_Advani_0001.jpg. Skipping...\n"
     ]
    },
    {
     "name": "stderr",
     "output_type": "stream",
     "text": [
      " 31%|███       | 2284/7484 [01:06<02:31, 34.35it/s]"
     ]
    },
    {
     "name": "stdout",
     "output_type": "stream",
     "text": [
      "Multiple faces detected in /home/guilherme/projects/parai/app/data/images/lfw/Mike_Weir/Mike_Weir_0006.jpg. Skipping...\n"
     ]
    },
    {
     "name": "stderr",
     "output_type": "stream",
     "text": [
      " 31%|███       | 2296/7484 [01:07<02:31, 34.26it/s]"
     ]
    },
    {
     "name": "stdout",
     "output_type": "stream",
     "text": [
      "Multiple faces detected in /home/guilherme/projects/parai/app/data/images/lfw/Roy_Moore/Roy_Moore_0005.jpg. Skipping...\n"
     ]
    },
    {
     "name": "stderr",
     "output_type": "stream",
     "text": [
      " 31%|███       | 2332/7484 [01:08<02:33, 33.64it/s]"
     ]
    },
    {
     "name": "stdout",
     "output_type": "stream",
     "text": [
      "Multiple faces detected in /home/guilherme/projects/parai/app/data/images/lfw/Tom_Ridge/Tom_Ridge_0018.jpg. Skipping...\n"
     ]
    },
    {
     "name": "stderr",
     "output_type": "stream",
     "text": [
      " 31%|███▏      | 2348/7484 [01:08<02:32, 33.68it/s]"
     ]
    },
    {
     "name": "stdout",
     "output_type": "stream",
     "text": [
      "Multiple faces detected in /home/guilherme/projects/parai/app/data/images/lfw/Ben_Glisan/Ben_Glisan_0001.jpg. Skipping...\n"
     ]
    },
    {
     "name": "stderr",
     "output_type": "stream",
     "text": [
      " 32%|███▏      | 2372/7484 [01:09<02:26, 34.96it/s]"
     ]
    },
    {
     "name": "stdout",
     "output_type": "stream",
     "text": [
      "Multiple faces detected in /home/guilherme/projects/parai/app/data/images/lfw/Bill_Simon/Bill_Simon_0015.jpg. Skipping...\n"
     ]
    },
    {
     "name": "stderr",
     "output_type": "stream",
     "text": [
      " 32%|███▏      | 2384/7484 [01:09<02:29, 34.10it/s]"
     ]
    },
    {
     "name": "stdout",
     "output_type": "stream",
     "text": [
      "Multiple faces detected in /home/guilherme/projects/parai/app/data/images/lfw/Chris_Byrd/Chris_Byrd_0002.jpg. Skipping...\n"
     ]
    },
    {
     "name": "stderr",
     "output_type": "stream",
     "text": [
      " 32%|███▏      | 2392/7484 [01:09<02:28, 34.29it/s]"
     ]
    },
    {
     "name": "stdout",
     "output_type": "stream",
     "text": [
      "Multiple faces detected in /home/guilherme/projects/parai/app/data/images/lfw/Dalai_Lama/Dalai_Lama_0002.jpg. Skipping...\n"
     ]
    },
    {
     "name": "stderr",
     "output_type": "stream",
     "text": [
      " 32%|███▏      | 2420/7484 [01:10<02:25, 34.74it/s]"
     ]
    },
    {
     "name": "stdout",
     "output_type": "stream",
     "text": [
      "Multiple faces detected in /home/guilherme/projects/parai/app/data/images/lfw/Gray_Davis/Gray_Davis_0020.jpg. Skipping...\n",
      "Multiple faces detected in /home/guilherme/projects/parai/app/data/images/lfw/Gray_Davis/Gray_Davis_0006.jpg. Skipping...\n",
      "Multiple faces detected in /home/guilherme/projects/parai/app/data/images/lfw/Gray_Davis/Gray_Davis_0018.jpg. Skipping...\n"
     ]
    },
    {
     "name": "stderr",
     "output_type": "stream",
     "text": [
      " 33%|███▎      | 2444/7484 [01:11<02:24, 34.98it/s]"
     ]
    },
    {
     "name": "stdout",
     "output_type": "stream",
     "text": [
      "Multiple faces detected in /home/guilherme/projects/parai/app/data/images/lfw/Hugh_Grant/Hugh_Grant_0008.jpg. Skipping...\n"
     ]
    },
    {
     "name": "stderr",
     "output_type": "stream",
     "text": [
      " 33%|███▎      | 2480/7484 [01:12<02:23, 34.94it/s]"
     ]
    },
    {
     "name": "stdout",
     "output_type": "stream",
     "text": [
      "No faces detected in /home/guilherme/projects/parai/app/data/images/lfw/Jane_Fonda/Jane_Fonda_0002.jpg. Skipping...\n",
      "Multiple faces detected in /home/guilherme/projects/parai/app/data/images/lfw/Jason_Kidd/Jason_Kidd_0009.jpg. Skipping...\n"
     ]
    },
    {
     "name": "stderr",
     "output_type": "stream",
     "text": [
      " 34%|███▎      | 2520/7484 [01:13<02:24, 34.28it/s]"
     ]
    },
    {
     "name": "stdout",
     "output_type": "stream",
     "text": [
      "Multiple faces detected in /home/guilherme/projects/parai/app/data/images/lfw/John_Rigas/John_Rigas_0002.jpg. Skipping...\n"
     ]
    },
    {
     "name": "stderr",
     "output_type": "stream",
     "text": [
      " 34%|███▍      | 2536/7484 [01:14<02:21, 35.01it/s]"
     ]
    },
    {
     "name": "stdout",
     "output_type": "stream",
     "text": [
      "Multiple faces detected in /home/guilherme/projects/parai/app/data/images/lfw/Kofi_Annan/Kofi_Annan_0007.jpg. Skipping...\n"
     ]
    },
    {
     "name": "stderr",
     "output_type": "stream",
     "text": [
      " 34%|███▍      | 2544/7484 [01:14<02:19, 35.33it/s]"
     ]
    },
    {
     "name": "stdout",
     "output_type": "stream",
     "text": [
      "Multiple faces detected in /home/guilherme/projects/parai/app/data/images/lfw/Kofi_Annan/Kofi_Annan_0010.jpg. Skipping...\n"
     ]
    },
    {
     "name": "stderr",
     "output_type": "stream",
     "text": [
      " 34%|███▍      | 2576/7484 [01:15<02:19, 35.18it/s]"
     ]
    },
    {
     "name": "stdout",
     "output_type": "stream",
     "text": [
      "Multiple faces detected in /home/guilherme/projects/parai/app/data/images/lfw/Laura_Bush/Laura_Bush_0030.jpg. Skipping...\n"
     ]
    },
    {
     "name": "stderr",
     "output_type": "stream",
     "text": [
      " 35%|███▍      | 2604/7484 [01:16<02:22, 34.19it/s]"
     ]
    },
    {
     "name": "stdout",
     "output_type": "stream",
     "text": [
      "Multiple faces detected in /home/guilherme/projects/parai/app/data/images/lfw/Mike_Tyson/Mike_Tyson_0002.jpg. Skipping...\n",
      "Multiple faces detected in /home/guilherme/projects/parai/app/data/images/lfw/Naji_Sabri/Naji_Sabri_0003.jpg. Skipping...\n",
      "Multiple faces detected in /home/guilherme/projects/parai/app/data/images/lfw/Naji_Sabri/Naji_Sabri_0005.jpg. Skipping...\n",
      "Multiple faces detected in /home/guilherme/projects/parai/app/data/images/lfw/Naji_Sabri/Naji_Sabri_0006.jpg. Skipping...\n",
      "Multiple faces detected in /home/guilherme/projects/parai/app/data/images/lfw/Naji_Sabri/Naji_Sabri_0002.jpg. Skipping...\n"
     ]
    },
    {
     "name": "stderr",
     "output_type": "stream",
     "text": [
      " 35%|███▌      | 2624/7484 [01:16<02:21, 34.41it/s]"
     ]
    },
    {
     "name": "stdout",
     "output_type": "stream",
     "text": [
      "Multiple faces detected in /home/guilherme/projects/parai/app/data/images/lfw/Pupi_Avati/Pupi_Avati_0001.jpg. Skipping...\n",
      "Multiple faces detected in /home/guilherme/projects/parai/app/data/images/lfw/Raoul_Ruiz/Raoul_Ruiz_0004.jpg. Skipping...\n"
     ]
    },
    {
     "name": "stderr",
     "output_type": "stream",
     "text": [
      " 35%|███▌      | 2640/7484 [01:17<02:18, 34.86it/s]"
     ]
    },
    {
     "name": "stdout",
     "output_type": "stream",
     "text": [
      "Multiple faces detected in /home/guilherme/projects/parai/app/data/images/lfw/Rick_Perry/Rick_Perry_0006.jpg. Skipping...\n",
      "Multiple faces detected in /home/guilherme/projects/parai/app/data/images/lfw/Sean_Astin/Sean_Astin_0003.jpg. Skipping...\n"
     ]
    },
    {
     "name": "stderr",
     "output_type": "stream",
     "text": [
      " 35%|███▌      | 2656/7484 [01:17<02:17, 35.11it/s]"
     ]
    },
    {
     "name": "stdout",
     "output_type": "stream",
     "text": [
      "Multiple faces detected in /home/guilherme/projects/parai/app/data/images/lfw/Tariq_Aziz/Tariq_Aziz_0001.jpg. Skipping...\n"
     ]
    },
    {
     "name": "stderr",
     "output_type": "stream",
     "text": [
      " 36%|███▌      | 2680/7484 [01:18<02:24, 33.15it/s]"
     ]
    },
    {
     "name": "stdout",
     "output_type": "stream",
     "text": [
      "Multiple faces detected in /home/guilherme/projects/parai/app/data/images/lfw/Tom_Harkin/Tom_Harkin_0001.jpg. Skipping...\n"
     ]
    },
    {
     "name": "stderr",
     "output_type": "stream",
     "text": [
      " 36%|███▌      | 2692/7484 [01:18<02:19, 34.42it/s]"
     ]
    },
    {
     "name": "stdout",
     "output_type": "stream",
     "text": [
      "Multiple faces detected in /home/guilherme/projects/parai/app/data/images/lfw/Tony_Blair/Tony_Blair_0143.jpg. Skipping...\n"
     ]
    },
    {
     "name": "stderr",
     "output_type": "stream",
     "text": [
      " 36%|███▋      | 2724/7484 [01:19<02:19, 34.11it/s]"
     ]
    },
    {
     "name": "stdout",
     "output_type": "stream",
     "text": [
      "Multiple faces detected in /home/guilherme/projects/parai/app/data/images/lfw/Tony_Blair/Tony_Blair_0027.jpg. Skipping...\n",
      "Multiple faces detected in /home/guilherme/projects/parai/app/data/images/lfw/Tony_Blair/Tony_Blair_0060.jpg. Skipping...\n"
     ]
    },
    {
     "name": "stderr",
     "output_type": "stream",
     "text": [
      " 37%|███▋      | 2764/7484 [01:20<02:17, 34.34it/s]"
     ]
    },
    {
     "name": "stdout",
     "output_type": "stream",
     "text": [
      "Multiple faces detected in /home/guilherme/projects/parai/app/data/images/lfw/Tony_Blair/Tony_Blair_0096.jpg. Skipping...\n"
     ]
    },
    {
     "name": "stderr",
     "output_type": "stream",
     "text": [
      " 37%|███▋      | 2776/7484 [01:21<02:16, 34.37it/s]"
     ]
    },
    {
     "name": "stdout",
     "output_type": "stream",
     "text": [
      "Multiple faces detected in /home/guilherme/projects/parai/app/data/images/lfw/Trent_Lott/Trent_Lott_0006.jpg. Skipping...\n"
     ]
    },
    {
     "name": "stderr",
     "output_type": "stream",
     "text": [
      " 37%|███▋      | 2788/7484 [01:21<02:13, 35.24it/s]"
     ]
    },
    {
     "name": "stdout",
     "output_type": "stream",
     "text": [
      "Multiple faces detected in /home/guilherme/projects/parai/app/data/images/lfw/Tyra_Banks/Tyra_Banks_0002.jpg. Skipping...\n",
      "Multiple faces detected in /home/guilherme/projects/parai/app/data/images/lfw/Wen_Jiabao/Wen_Jiabao_0012.jpg. Skipping...\n"
     ]
    },
    {
     "name": "stderr",
     "output_type": "stream",
     "text": [
      " 38%|███▊      | 2824/7484 [01:22<02:28, 31.28it/s]"
     ]
    },
    {
     "name": "stdout",
     "output_type": "stream",
     "text": [
      "Multiple faces detected in /home/guilherme/projects/parai/app/data/images/lfw/Ana_Palacio/Ana_Palacio_0007.jpg. Skipping...\n"
     ]
    },
    {
     "name": "stderr",
     "output_type": "stream",
     "text": [
      " 38%|███▊      | 2840/7484 [01:23<02:26, 31.75it/s]"
     ]
    },
    {
     "name": "stdout",
     "output_type": "stream",
     "text": [
      "Multiple faces detected in /home/guilherme/projects/parai/app/data/images/lfw/Ben_Affleck/Ben_Affleck_0003.jpg. Skipping...\n"
     ]
    },
    {
     "name": "stderr",
     "output_type": "stream",
     "text": [
      " 39%|███▉      | 2912/7484 [01:25<02:11, 34.78it/s]"
     ]
    },
    {
     "name": "stdout",
     "output_type": "stream",
     "text": [
      "Multiple faces detected in /home/guilherme/projects/parai/app/data/images/lfw/Diane_Green/Diane_Green_0002.jpg. Skipping...\n"
     ]
    },
    {
     "name": "stderr",
     "output_type": "stream",
     "text": [
      " 39%|███▉      | 2932/7484 [01:25<02:12, 34.36it/s]"
     ]
    },
    {
     "name": "stdout",
     "output_type": "stream",
     "text": [
      "Multiple faces detected in /home/guilherme/projects/parai/app/data/images/lfw/Ethan_Hawke/Ethan_Hawke_0004.jpg. Skipping...\n",
      "Multiple faces detected in /home/guilherme/projects/parai/app/data/images/lfw/Ethan_Hawke/Ethan_Hawke_0003.jpg. Skipping...\n"
     ]
    },
    {
     "name": "stderr",
     "output_type": "stream",
     "text": [
      " 39%|███▉      | 2948/7484 [01:26<02:07, 35.53it/s]"
     ]
    },
    {
     "name": "stdout",
     "output_type": "stream",
     "text": [
      "Multiple faces detected in /home/guilherme/projects/parai/app/data/images/lfw/Gerry_Adams/Gerry_Adams_0005.jpg. Skipping...\n",
      "Multiple faces detected in /home/guilherme/projects/parai/app/data/images/lfw/Goldie_Hawn/Goldie_Hawn_0003.jpg. Skipping...\n",
      "Multiple faces detected in /home/guilherme/projects/parai/app/data/images/lfw/Goldie_Hawn/Goldie_Hawn_0002.jpg. Skipping...\n"
     ]
    },
    {
     "name": "stderr",
     "output_type": "stream",
     "text": [
      " 40%|███▉      | 2968/7484 [01:26<02:14, 33.65it/s]"
     ]
    },
    {
     "name": "stdout",
     "output_type": "stream",
     "text": [
      "Multiple faces detected in /home/guilherme/projects/parai/app/data/images/lfw/Herb_Sendek/Herb_Sendek_0004.jpg. Skipping...\n"
     ]
    },
    {
     "name": "stderr",
     "output_type": "stream",
     "text": [
      " 40%|███▉      | 2976/7484 [01:27<02:16, 32.97it/s]"
     ]
    },
    {
     "name": "stdout",
     "output_type": "stream",
     "text": [
      "Multiple faces detected in /home/guilherme/projects/parai/app/data/images/lfw/Howard_Dean/Howard_Dean_0005.jpg. Skipping...\n"
     ]
    },
    {
     "name": "stderr",
     "output_type": "stream",
     "text": [
      " 40%|███▉      | 2984/7484 [01:27<02:17, 32.61it/s]"
     ]
    },
    {
     "name": "stdout",
     "output_type": "stream",
     "text": [
      "Multiple faces detected in /home/guilherme/projects/parai/app/data/images/lfw/Hugo_Chavez/Hugo_Chavez_0051.jpg. Skipping...\n",
      "Multiple faces detected in /home/guilherme/projects/parai/app/data/images/lfw/Hugo_Chavez/Hugo_Chavez_0049.jpg. Skipping...\n"
     ]
    },
    {
     "name": "stderr",
     "output_type": "stream",
     "text": [
      " 40%|███▉      | 2992/7484 [01:27<02:12, 33.86it/s]"
     ]
    },
    {
     "name": "stdout",
     "output_type": "stream",
     "text": [
      "Multiple faces detected in /home/guilherme/projects/parai/app/data/images/lfw/Hugo_Chavez/Hugo_Chavez_0067.jpg. Skipping...\n"
     ]
    },
    {
     "name": "stderr",
     "output_type": "stream",
     "text": [
      " 40%|████      | 3004/7484 [01:27<02:09, 34.67it/s]"
     ]
    },
    {
     "name": "stdout",
     "output_type": "stream",
     "text": [
      "Multiple faces detected in /home/guilherme/projects/parai/app/data/images/lfw/Hugo_Chavez/Hugo_Chavez_0037.jpg. Skipping...\n",
      "Multiple faces detected in /home/guilherme/projects/parai/app/data/images/lfw/Hugo_Chavez/Hugo_Chavez_0057.jpg. Skipping...\n"
     ]
    },
    {
     "name": "stderr",
     "output_type": "stream",
     "text": [
      " 41%|████      | 3032/7484 [01:28<02:13, 33.45it/s]"
     ]
    },
    {
     "name": "stdout",
     "output_type": "stream",
     "text": [
      "Multiple faces detected in /home/guilherme/projects/parai/app/data/images/lfw/Hugo_Chavez/Hugo_Chavez_0033.jpg. Skipping...\n"
     ]
    },
    {
     "name": "stderr",
     "output_type": "stream",
     "text": [
      " 41%|████      | 3044/7484 [01:29<02:08, 34.58it/s]"
     ]
    },
    {
     "name": "stdout",
     "output_type": "stream",
     "text": [
      "Multiple faces detected in /home/guilherme/projects/parai/app/data/images/lfw/Igor_Ivanov/Igor_Ivanov_0001.jpg. Skipping...\n",
      "Multiple faces detected in /home/guilherme/projects/parai/app/data/images/lfw/Igor_Ivanov/Igor_Ivanov_0014.jpg. Skipping...\n"
     ]
    },
    {
     "name": "stderr",
     "output_type": "stream",
     "text": [
      " 41%|████      | 3076/7484 [01:30<02:16, 32.37it/s]"
     ]
    },
    {
     "name": "stdout",
     "output_type": "stream",
     "text": [
      "Multiple faces detected in /home/guilherme/projects/parai/app/data/images/lfw/Jan_Ullrich/Jan_Ullrich_0003.jpg. Skipping...\n"
     ]
    },
    {
     "name": "stderr",
     "output_type": "stream",
     "text": [
      " 41%|████      | 3084/7484 [01:30<02:11, 33.47it/s]"
     ]
    },
    {
     "name": "stdout",
     "output_type": "stream",
     "text": [
      "Multiple faces detected in /home/guilherme/projects/parai/app/data/images/lfw/Jiang_Zemin/Jiang_Zemin_0005.jpg. Skipping...\n"
     ]
    },
    {
     "name": "stderr",
     "output_type": "stream",
     "text": [
      " 41%|████▏     | 3096/7484 [01:30<02:06, 34.57it/s]"
     ]
    },
    {
     "name": "stdout",
     "output_type": "stream",
     "text": [
      "Multiple faces detected in /home/guilherme/projects/parai/app/data/images/lfw/Jim_Harrick/Jim_Harrick_0002.jpg. Skipping...\n"
     ]
    },
    {
     "name": "stderr",
     "output_type": "stream",
     "text": [
      " 42%|████▏     | 3120/7484 [01:31<02:13, 32.77it/s]"
     ]
    },
    {
     "name": "stdout",
     "output_type": "stream",
     "text": [
      "Multiple faces detected in /home/guilherme/projects/parai/app/data/images/lfw/John_Howard/John_Howard_0018.jpg. Skipping...\n"
     ]
    },
    {
     "name": "stderr",
     "output_type": "stream",
     "text": [
      " 42%|████▏     | 3132/7484 [01:31<02:07, 34.03it/s]"
     ]
    },
    {
     "name": "stdout",
     "output_type": "stream",
     "text": [
      "Multiple faces detected in /home/guilherme/projects/parai/app/data/images/lfw/John_Taylor/John_Taylor_0001.jpg. Skipping...\n",
      "Multiple faces detected in /home/guilherme/projects/parai/app/data/images/lfw/Jose_Sarney/Jose_Sarney_0003.jpg. Skipping...\n"
     ]
    },
    {
     "name": "stderr",
     "output_type": "stream",
     "text": [
      " 42%|████▏     | 3164/7484 [01:32<02:06, 34.17it/s]"
     ]
    },
    {
     "name": "stdout",
     "output_type": "stream",
     "text": [
      "Multiple faces detected in /home/guilherme/projects/parai/app/data/images/lfw/Lech_Walesa/Lech_Walesa_0002.jpg. Skipping...\n",
      "Multiple faces detected in /home/guilherme/projects/parai/app/data/images/lfw/Li_Zhaoxing/Li_Zhaoxing_0007.jpg. Skipping...\n"
     ]
    },
    {
     "name": "stderr",
     "output_type": "stream",
     "text": [
      " 42%|████▏     | 3176/7484 [01:33<02:05, 34.32it/s]"
     ]
    },
    {
     "name": "stdout",
     "output_type": "stream",
     "text": [
      "Multiple faces detected in /home/guilherme/projects/parai/app/data/images/lfw/Lino_Oviedo/Lino_Oviedo_0001.jpg. Skipping...\n",
      "No faces detected in /home/guilherme/projects/parai/app/data/images/lfw/Mark_Heller/Mark_Heller_0002.jpg. Skipping...\n"
     ]
    },
    {
     "name": "stderr",
     "output_type": "stream",
     "text": [
      " 43%|████▎     | 3200/7484 [01:33<02:06, 33.79it/s]"
     ]
    },
    {
     "name": "stdout",
     "output_type": "stream",
     "text": [
      "Multiple faces detected in /home/guilherme/projects/parai/app/data/images/lfw/Naomi_Watts/Naomi_Watts_0010.jpg. Skipping...\n"
     ]
    },
    {
     "name": "stderr",
     "output_type": "stream",
     "text": [
      " 43%|████▎     | 3252/7484 [01:35<02:02, 34.54it/s]"
     ]
    },
    {
     "name": "stdout",
     "output_type": "stream",
     "text": [
      "Multiple faces detected in /home/guilherme/projects/parai/app/data/images/lfw/Phil_Vassar/Phil_Vassar_0002.jpg. Skipping...\n"
     ]
    },
    {
     "name": "stderr",
     "output_type": "stream",
     "text": [
      " 44%|████▎     | 3264/7484 [01:35<01:58, 35.62it/s]"
     ]
    },
    {
     "name": "stdout",
     "output_type": "stream",
     "text": [
      "Multiple faces detected in /home/guilherme/projects/parai/app/data/images/lfw/Rick_Pitino/Rick_Pitino_0004.jpg. Skipping...\n"
     ]
    },
    {
     "name": "stderr",
     "output_type": "stream",
     "text": [
      " 44%|████▍     | 3304/7484 [01:36<01:57, 35.60it/s]"
     ]
    },
    {
     "name": "stdout",
     "output_type": "stream",
     "text": [
      "Multiple faces detected in /home/guilherme/projects/parai/app/data/images/lfw/Steve_Lavin/Steve_Lavin_0006.jpg. Skipping...\n",
      "Multiple faces detected in /home/guilherme/projects/parai/app/data/images/lfw/Steve_Waugh/Steve_Waugh_0002.jpg. Skipping...\n",
      "Multiple faces detected in /home/guilherme/projects/parai/app/data/images/lfw/Theresa_May/Theresa_May_0001.jpg. Skipping...\n"
     ]
    },
    {
     "name": "stderr",
     "output_type": "stream",
     "text": [
      " 44%|████▍     | 3312/7484 [01:36<01:57, 35.51it/s]"
     ]
    },
    {
     "name": "stdout",
     "output_type": "stream",
     "text": [
      "Multiple faces detected in /home/guilherme/projects/parai/app/data/images/lfw/Tiger_Woods/Tiger_Woods_0020.jpg. Skipping...\n"
     ]
    },
    {
     "name": "stderr",
     "output_type": "stream",
     "text": [
      " 45%|████▍     | 3332/7484 [01:37<01:59, 34.71it/s]"
     ]
    },
    {
     "name": "stdout",
     "output_type": "stream",
     "text": [
      "Multiple faces detected in /home/guilherme/projects/parai/app/data/images/lfw/Todd_Haynes/Todd_Haynes_0001.jpg. Skipping...\n"
     ]
    },
    {
     "name": "stderr",
     "output_type": "stream",
     "text": [
      " 45%|████▍     | 3340/7484 [01:37<02:08, 32.13it/s]"
     ]
    },
    {
     "name": "stdout",
     "output_type": "stream",
     "text": [
      "Multiple faces detected in /home/guilherme/projects/parai/app/data/images/lfw/Tom_Daschle/Tom_Daschle_0009.jpg. Skipping...\n"
     ]
    },
    {
     "name": "stderr",
     "output_type": "stream",
     "text": [
      " 45%|████▍     | 3356/7484 [01:38<02:04, 33.07it/s]"
     ]
    },
    {
     "name": "stdout",
     "output_type": "stream",
     "text": [
      "Multiple faces detected in /home/guilherme/projects/parai/app/data/images/lfw/Vicente_Fox/Vicente_Fox_0011.jpg. Skipping...\n",
      "Multiple faces detected in /home/guilherme/projects/parai/app/data/images/lfw/Vicente_Fox/Vicente_Fox_0017.jpg. Skipping...\n"
     ]
    },
    {
     "name": "stderr",
     "output_type": "stream",
     "text": [
      " 45%|████▍     | 3364/7484 [01:38<02:01, 34.02it/s]"
     ]
    },
    {
     "name": "stdout",
     "output_type": "stream",
     "text": [
      "Multiple faces detected in /home/guilherme/projects/parai/app/data/images/lfw/Vicente_Fox/Vicente_Fox_0002.jpg. Skipping...\n",
      "Multiple faces detected in /home/guilherme/projects/parai/app/data/images/lfw/Vicente_Fox/Vicente_Fox_0028.jpg. Skipping...\n"
     ]
    },
    {
     "name": "stderr",
     "output_type": "stream",
     "text": [
      " 45%|████▌     | 3388/7484 [01:39<02:00, 34.10it/s]"
     ]
    },
    {
     "name": "stdout",
     "output_type": "stream",
     "text": [
      "Multiple faces detected in /home/guilherme/projects/parai/app/data/images/lfw/Abdullah_Gul/Abdullah_Gul_0016.jpg. Skipping...\n",
      "Multiple faces detected in /home/guilherme/projects/parai/app/data/images/lfw/Abdullah_Gul/Abdullah_Gul_0009.jpg. Skipping...\n",
      "Multiple faces detected in /home/guilherme/projects/parai/app/data/images/lfw/Abdullah_Gul/Abdullah_Gul_0008.jpg. Skipping...\n"
     ]
    },
    {
     "name": "stderr",
     "output_type": "stream",
     "text": [
      " 46%|████▌     | 3412/7484 [01:39<01:57, 34.70it/s]"
     ]
    },
    {
     "name": "stdout",
     "output_type": "stream",
     "text": [
      "Multiple faces detected in /home/guilherme/projects/parai/app/data/images/lfw/Aldo_Paredes/Aldo_Paredes_0002.jpg. Skipping...\n"
     ]
    },
    {
     "name": "stderr",
     "output_type": "stream",
     "text": [
      " 46%|████▌     | 3432/7484 [01:40<01:57, 34.61it/s]"
     ]
    },
    {
     "name": "stdout",
     "output_type": "stream",
     "text": [
      "Multiple faces detected in /home/guilherme/projects/parai/app/data/images/lfw/Alvaro_Uribe/Alvaro_Uribe_0035.jpg. Skipping...\n"
     ]
    },
    {
     "name": "stderr",
     "output_type": "stream",
     "text": [
      " 46%|████▌     | 3444/7484 [01:40<01:56, 34.78it/s]"
     ]
    },
    {
     "name": "stdout",
     "output_type": "stream",
     "text": [
      "Multiple faces detected in /home/guilherme/projects/parai/app/data/images/lfw/Amanda_Beard/Amanda_Beard_0001.jpg. Skipping...\n",
      "Multiple faces detected in /home/guilherme/projects/parai/app/data/images/lfw/Amanda_Bynes/Amanda_Bynes_0002.jpg. Skipping...\n"
     ]
    },
    {
     "name": "stderr",
     "output_type": "stream",
     "text": [
      " 46%|████▋     | 3468/7484 [01:41<01:54, 35.12it/s]"
     ]
    },
    {
     "name": "stdout",
     "output_type": "stream",
     "text": [
      "Multiple faces detected in /home/guilherme/projects/parai/app/data/images/lfw/Andre_Agassi/Andre_Agassi_0001.jpg. Skipping...\n"
     ]
    },
    {
     "name": "stderr",
     "output_type": "stream",
     "text": [
      " 47%|████▋     | 3492/7484 [01:42<01:51, 35.71it/s]"
     ]
    },
    {
     "name": "stdout",
     "output_type": "stream",
     "text": [
      "Multiple faces detected in /home/guilherme/projects/parai/app/data/images/lfw/Ariel_Sharon/Ariel_Sharon_0034.jpg. Skipping...\n",
      "Multiple faces detected in /home/guilherme/projects/parai/app/data/images/lfw/Ariel_Sharon/Ariel_Sharon_0004.jpg. Skipping...\n"
     ]
    },
    {
     "name": "stderr",
     "output_type": "stream",
     "text": [
      " 47%|████▋     | 3504/7484 [01:42<01:51, 35.67it/s]"
     ]
    },
    {
     "name": "stdout",
     "output_type": "stream",
     "text": [
      "Multiple faces detected in /home/guilherme/projects/parai/app/data/images/lfw/Ariel_Sharon/Ariel_Sharon_0047.jpg. Skipping...\n"
     ]
    },
    {
     "name": "stderr",
     "output_type": "stream",
     "text": [
      " 47%|████▋     | 3540/7484 [01:43<01:56, 33.92it/s]"
     ]
    },
    {
     "name": "stdout",
     "output_type": "stream",
     "text": [
      "Multiple faces detected in /home/guilherme/projects/parai/app/data/images/lfw/Ariel_Sharon/Ariel_Sharon_0064.jpg. Skipping...\n"
     ]
    },
    {
     "name": "stderr",
     "output_type": "stream",
     "text": [
      " 47%|████▋     | 3548/7484 [01:43<01:55, 34.08it/s]"
     ]
    },
    {
     "name": "stdout",
     "output_type": "stream",
     "text": [
      "Multiple faces detected in /home/guilherme/projects/parai/app/data/images/lfw/Aron_Ralston/Aron_Ralston_0002.jpg. Skipping...\n",
      "Multiple faces detected in /home/guilherme/projects/parai/app/data/images/lfw/Arturo_Gatti/Arturo_Gatti_0002.jpg. Skipping...\n",
      "Multiple faces detected in /home/guilherme/projects/parai/app/data/images/lfw/Bashar_Assad/Bashar_Assad_0002.jpg. Skipping...\n"
     ]
    },
    {
     "name": "stderr",
     "output_type": "stream",
     "text": [
      " 48%|████▊     | 3576/7484 [01:44<01:59, 32.79it/s]"
     ]
    },
    {
     "name": "stdout",
     "output_type": "stream",
     "text": [
      "Multiple faces detected in /home/guilherme/projects/parai/app/data/images/lfw/Bill_Clinton/Bill_Clinton_0025.jpg. Skipping...\n"
     ]
    },
    {
     "name": "stderr",
     "output_type": "stream",
     "text": [
      " 48%|████▊     | 3616/7484 [01:45<01:52, 34.46it/s]"
     ]
    },
    {
     "name": "stdout",
     "output_type": "stream",
     "text": [
      "Multiple faces detected in /home/guilherme/projects/parai/app/data/images/lfw/Carlos_Vives/Carlos_Vives_0001.jpg. Skipping...\n"
     ]
    },
    {
     "name": "stderr",
     "output_type": "stream",
     "text": [
      " 49%|████▊     | 3640/7484 [01:46<01:48, 35.51it/s]"
     ]
    },
    {
     "name": "stdout",
     "output_type": "stream",
     "text": [
      "Multiple faces detected in /home/guilherme/projects/parai/app/data/images/lfw/Colin_Powell/Colin_Powell_0068.jpg. Skipping...\n",
      "Multiple faces detected in /home/guilherme/projects/parai/app/data/images/lfw/Colin_Powell/Colin_Powell_0042.jpg. Skipping...\n"
     ]
    },
    {
     "name": "stderr",
     "output_type": "stream",
     "text": [
      " 49%|████▉     | 3692/7484 [01:48<01:50, 34.31it/s]"
     ]
    },
    {
     "name": "stdout",
     "output_type": "stream",
     "text": [
      "Multiple faces detected in /home/guilherme/projects/parai/app/data/images/lfw/Colin_Powell/Colin_Powell_0103.jpg. Skipping...\n"
     ]
    },
    {
     "name": "stderr",
     "output_type": "stream",
     "text": [
      " 50%|████▉     | 3732/7484 [01:49<01:57, 31.80it/s]"
     ]
    },
    {
     "name": "stdout",
     "output_type": "stream",
     "text": [
      "Multiple faces detected in /home/guilherme/projects/parai/app/data/images/lfw/Colin_Powell/Colin_Powell_0175.jpg. Skipping...\n"
     ]
    },
    {
     "name": "stderr",
     "output_type": "stream",
     "text": [
      " 50%|█████     | 3772/7484 [01:50<01:49, 34.03it/s]"
     ]
    },
    {
     "name": "stdout",
     "output_type": "stream",
     "text": [
      "Multiple faces detected in /home/guilherme/projects/parai/app/data/images/lfw/Colin_Powell/Colin_Powell_0036.jpg. Skipping...\n"
     ]
    },
    {
     "name": "stderr",
     "output_type": "stream",
     "text": [
      " 51%|█████▏    | 3848/7484 [01:52<01:47, 33.85it/s]"
     ]
    },
    {
     "name": "stdout",
     "output_type": "stream",
     "text": [
      "Multiple faces detected in /home/guilherme/projects/parai/app/data/images/lfw/Habib_Rizieq/Habib_Rizieq_0004.jpg. Skipping...\n"
     ]
    },
    {
     "name": "stderr",
     "output_type": "stream",
     "text": [
      " 52%|█████▏    | 3860/7484 [01:53<01:51, 32.58it/s]"
     ]
    },
    {
     "name": "stdout",
     "output_type": "stream",
     "text": [
      "Multiple faces detected in /home/guilherme/projects/parai/app/data/images/lfw/Hamid_Karzai/Hamid_Karzai_0019.jpg. Skipping...\n",
      "Multiple faces detected in /home/guilherme/projects/parai/app/data/images/lfw/Heath_Ledger/Heath_Ledger_0002.jpg. Skipping...\n"
     ]
    },
    {
     "name": "stderr",
     "output_type": "stream",
     "text": [
      " 52%|█████▏    | 3884/7484 [01:53<01:45, 34.02it/s]"
     ]
    },
    {
     "name": "stdout",
     "output_type": "stream",
     "text": [
      "Multiple faces detected in /home/guilherme/projects/parai/app/data/images/lfw/Jean_Charest/Jean_Charest_0004.jpg. Skipping...\n"
     ]
    },
    {
     "name": "stderr",
     "output_type": "stream",
     "text": [
      " 52%|█████▏    | 3896/7484 [01:54<01:46, 33.78it/s]"
     ]
    },
    {
     "name": "stdout",
     "output_type": "stream",
     "text": [
      "Multiple faces detected in /home/guilherme/projects/parai/app/data/images/lfw/Jean_Charest/Jean_Charest_0005.jpg. Skipping...\n"
     ]
    },
    {
     "name": "stderr",
     "output_type": "stream",
     "text": [
      " 52%|█████▏    | 3912/7484 [01:54<01:43, 34.62it/s]"
     ]
    },
    {
     "name": "stdout",
     "output_type": "stream",
     "text": [
      "Multiple faces detected in /home/guilherme/projects/parai/app/data/images/lfw/Jimmy_Carter/Jimmy_Carter_0001.jpg. Skipping...\n"
     ]
    },
    {
     "name": "stderr",
     "output_type": "stream",
     "text": [
      " 52%|█████▏    | 3920/7484 [01:55<01:51, 32.00it/s]"
     ]
    },
    {
     "name": "stdout",
     "output_type": "stream",
     "text": [
      "Multiple faces detected in /home/guilherme/projects/parai/app/data/images/lfw/Joerg_Haider/Joerg_Haider_0001.jpg. Skipping...\n"
     ]
    },
    {
     "name": "stderr",
     "output_type": "stream",
     "text": [
      " 53%|█████▎    | 3956/7484 [01:56<01:43, 34.16it/s]"
     ]
    },
    {
     "name": "stdout",
     "output_type": "stream",
     "text": [
      "Multiple faces detected in /home/guilherme/projects/parai/app/data/images/lfw/Katie_Harman/Katie_Harman_0002.jpg. Skipping...\n",
      "Multiple faces detected in /home/guilherme/projects/parai/app/data/images/lfw/Keanu_Reeves/Keanu_Reeves_0005.jpg. Skipping...\n"
     ]
    },
    {
     "name": "stderr",
     "output_type": "stream",
     "text": [
      " 53%|█████▎    | 3984/7484 [01:56<01:43, 33.82it/s]"
     ]
    },
    {
     "name": "stdout",
     "output_type": "stream",
     "text": [
      "Multiple faces detected in /home/guilherme/projects/parai/app/data/images/lfw/LeBron_James/LeBron_James_0005.jpg. Skipping...\n"
     ]
    },
    {
     "name": "stderr",
     "output_type": "stream",
     "text": [
      " 53%|█████▎    | 3992/7484 [01:57<01:42, 34.03it/s]"
     ]
    },
    {
     "name": "stdout",
     "output_type": "stream",
     "text": [
      "Multiple faces detected in /home/guilherme/projects/parai/app/data/images/lfw/Lynn_Abraham/Lynn_Abraham_0002.jpg. Skipping...\n"
     ]
    },
    {
     "name": "stderr",
     "output_type": "stream",
     "text": [
      " 54%|█████▎    | 4004/7484 [01:57<01:44, 33.40it/s]"
     ]
    },
    {
     "name": "stdout",
     "output_type": "stream",
     "text": [
      "Multiple faces detected in /home/guilherme/projects/parai/app/data/images/lfw/Mario_Dumont/Mario_Dumont_0001.jpg. Skipping...\n",
      "Multiple faces detected in /home/guilherme/projects/parai/app/data/images/lfw/Mark_Geragos/Mark_Geragos_0001.jpg. Skipping...\n"
     ]
    },
    {
     "name": "stderr",
     "output_type": "stream",
     "text": [
      " 54%|█████▎    | 4012/7484 [01:57<01:42, 33.85it/s]"
     ]
    },
    {
     "name": "stdout",
     "output_type": "stream",
     "text": [
      "Multiple faces detected in /home/guilherme/projects/parai/app/data/images/lfw/Meryl_Streep/Meryl_Streep_0003.jpg. Skipping...\n"
     ]
    },
    {
     "name": "stderr",
     "output_type": "stream",
     "text": [
      " 54%|█████▍    | 4032/7484 [01:58<01:41, 34.01it/s]"
     ]
    },
    {
     "name": "stdout",
     "output_type": "stream",
     "text": [
      "Multiple faces detected in /home/guilherme/projects/parai/app/data/images/lfw/Moshe_Katsav/Moshe_Katsav_0003.jpg. Skipping...\n"
     ]
    },
    {
     "name": "stderr",
     "output_type": "stream",
     "text": [
      " 54%|█████▍    | 4052/7484 [01:58<01:39, 34.46it/s]"
     ]
    },
    {
     "name": "stdout",
     "output_type": "stream",
     "text": [
      "Multiple faces detected in /home/guilherme/projects/parai/app/data/images/lfw/Nancy_Pelosi/Nancy_Pelosi_0010.jpg. Skipping...\n",
      "Multiple faces detected in /home/guilherme/projects/parai/app/data/images/lfw/Neri_Marcore/Neri_Marcore_0002.jpg. Skipping...\n"
     ]
    },
    {
     "name": "stderr",
     "output_type": "stream",
     "text": [
      " 54%|█████▍    | 4068/7484 [01:59<01:38, 34.52it/s]"
     ]
    },
    {
     "name": "stdout",
     "output_type": "stream",
     "text": [
      "Multiple faces detected in /home/guilherme/projects/parai/app/data/images/lfw/Oswaldo_Paya/Oswaldo_Paya_0005.jpg. Skipping...\n",
      "Multiple faces detected in /home/guilherme/projects/parai/app/data/images/lfw/Paul_Burrell/Paul_Burrell_0009.jpg. Skipping...\n"
     ]
    },
    {
     "name": "stderr",
     "output_type": "stream",
     "text": [
      " 54%|█████▍    | 4076/7484 [01:59<01:39, 34.29it/s]"
     ]
    },
    {
     "name": "stdout",
     "output_type": "stream",
     "text": [
      "Multiple faces detected in /home/guilherme/projects/parai/app/data/images/lfw/Paul_Burrell/Paul_Burrell_0008.jpg. Skipping...\n",
      "Multiple faces detected in /home/guilherme/projects/parai/app/data/images/lfw/Paul_Shanley/Paul_Shanley_0001.jpg. Skipping...\n"
     ]
    },
    {
     "name": "stderr",
     "output_type": "stream",
     "text": [
      " 55%|█████▍    | 4092/7484 [02:00<01:36, 35.13it/s]"
     ]
    },
    {
     "name": "stdout",
     "output_type": "stream",
     "text": [
      "Multiple faces detected in /home/guilherme/projects/parai/app/data/images/lfw/Pete_Sampras/Pete_Sampras_0008.jpg. Skipping...\n"
     ]
    },
    {
     "name": "stderr",
     "output_type": "stream",
     "text": [
      " 55%|█████▌    | 4128/7484 [02:01<01:45, 31.73it/s]"
     ]
    },
    {
     "name": "stdout",
     "output_type": "stream",
     "text": [
      "Multiple faces detected in /home/guilherme/projects/parai/app/data/images/lfw/Robert_Evans/Robert_Evans_0002.jpg. Skipping...\n"
     ]
    },
    {
     "name": "stderr",
     "output_type": "stream",
     "text": [
      " 55%|█████▌    | 4136/7484 [02:01<01:43, 32.40it/s]"
     ]
    },
    {
     "name": "stdout",
     "output_type": "stream",
     "text": [
      "Multiple faces detected in /home/guilherme/projects/parai/app/data/images/lfw/Roh_Moo-hyun/Roh_Moo-hyun_0004.jpg. Skipping...\n"
     ]
    },
    {
     "name": "stderr",
     "output_type": "stream",
     "text": [
      " 55%|█████▌    | 4144/7484 [02:01<01:38, 33.87it/s]"
     ]
    },
    {
     "name": "stdout",
     "output_type": "stream",
     "text": [
      "Multiple faces detected in /home/guilherme/projects/parai/app/data/images/lfw/Roh_Moo-hyun/Roh_Moo-hyun_0032.jpg. Skipping...\n"
     ]
    },
    {
     "name": "stderr",
     "output_type": "stream",
     "text": [
      " 56%|█████▌    | 4156/7484 [02:02<01:41, 32.72it/s]"
     ]
    },
    {
     "name": "stdout",
     "output_type": "stream",
     "text": [
      "Multiple faces detected in /home/guilherme/projects/parai/app/data/images/lfw/Romano_Prodi/Romano_Prodi_0001.jpg. Skipping...\n"
     ]
    },
    {
     "name": "stderr",
     "output_type": "stream",
     "text": [
      " 56%|█████▌    | 4164/7484 [02:02<01:42, 32.46it/s]"
     ]
    },
    {
     "name": "stdout",
     "output_type": "stream",
     "text": [
      "Multiple faces detected in /home/guilherme/projects/parai/app/data/images/lfw/Rupert_Grint/Rupert_Grint_0001.jpg. Skipping...\n"
     ]
    },
    {
     "name": "stderr",
     "output_type": "stream",
     "text": [
      " 56%|█████▌    | 4180/7484 [02:02<01:38, 33.47it/s]"
     ]
    },
    {
     "name": "stdout",
     "output_type": "stream",
     "text": [
      "Multiple faces detected in /home/guilherme/projects/parai/app/data/images/lfw/Shaukat_Aziz/Shaukat_Aziz_0001.jpg. Skipping...\n"
     ]
    },
    {
     "name": "stderr",
     "output_type": "stream",
     "text": [
      " 56%|█████▌    | 4196/7484 [02:03<01:36, 34.16it/s]"
     ]
    },
    {
     "name": "stdout",
     "output_type": "stream",
     "text": [
      "Multiple faces detected in /home/guilherme/projects/parai/app/data/images/lfw/Sophia_Loren/Sophia_Loren_0005.jpg. Skipping...\n"
     ]
    },
    {
     "name": "stderr",
     "output_type": "stream",
     "text": [
      " 56%|█████▋    | 4212/7484 [02:03<01:35, 34.39it/s]"
     ]
    },
    {
     "name": "stdout",
     "output_type": "stream",
     "text": [
      "Multiple faces detected in /home/guilherme/projects/parai/app/data/images/lfw/Tom_Craddick/Tom_Craddick_0001.jpg. Skipping...\n"
     ]
    },
    {
     "name": "stderr",
     "output_type": "stream",
     "text": [
      " 57%|█████▋    | 4240/7484 [02:04<01:33, 34.51it/s]"
     ]
    },
    {
     "name": "stdout",
     "output_type": "stream",
     "text": [
      "Multiple faces detected in /home/guilherme/projects/parai/app/data/images/lfw/Vaclav_Klaus/Vaclav_Klaus_0002.jpg. Skipping...\n"
     ]
    },
    {
     "name": "stderr",
     "output_type": "stream",
     "text": [
      " 57%|█████▋    | 4252/7484 [02:04<01:34, 34.25it/s]"
     ]
    },
    {
     "name": "stdout",
     "output_type": "stream",
     "text": [
      "Multiple faces detected in /home/guilherme/projects/parai/app/data/images/lfw/Winona_Ryder/Winona_Ryder_0016.jpg. Skipping...\n"
     ]
    },
    {
     "name": "stderr",
     "output_type": "stream",
     "text": [
      " 57%|█████▋    | 4260/7484 [02:05<01:34, 34.12it/s]"
     ]
    },
    {
     "name": "stdout",
     "output_type": "stream",
     "text": [
      "Multiple faces detected in /home/guilherme/projects/parai/app/data/images/lfw/Winona_Ryder/Winona_Ryder_0015.jpg. Skipping...\n"
     ]
    },
    {
     "name": "stderr",
     "output_type": "stream",
     "text": [
      " 57%|█████▋    | 4268/7484 [02:05<01:37, 32.93it/s]"
     ]
    },
    {
     "name": "stdout",
     "output_type": "stream",
     "text": [
      "Multiple faces detected in /home/guilherme/projects/parai/app/data/images/lfw/Zarai_Toledo/Zarai_Toledo_0001.jpg. Skipping...\n"
     ]
    },
    {
     "name": "stderr",
     "output_type": "stream",
     "text": [
      " 57%|█████▋    | 4300/7484 [02:06<01:33, 34.22it/s]"
     ]
    },
    {
     "name": "stdout",
     "output_type": "stream",
     "text": [
      "No faces detected in /home/guilherme/projects/parai/app/data/images/lfw/Arlen_Specter/Arlen_Specter_0003.jpg. Skipping...\n",
      "Multiple faces detected in /home/guilherme/projects/parai/app/data/images/lfw/Arminio_Fraga/Arminio_Fraga_0001.jpg. Skipping...\n"
     ]
    },
    {
     "name": "stderr",
     "output_type": "stream",
     "text": [
      " 58%|█████▊    | 4316/7484 [02:06<01:34, 33.37it/s]"
     ]
    },
    {
     "name": "stdout",
     "output_type": "stream",
     "text": [
      "Multiple faces detected in /home/guilherme/projects/parai/app/data/images/lfw/Billy_Crystal/Billy_Crystal_0005.jpg. Skipping...\n"
     ]
    },
    {
     "name": "stderr",
     "output_type": "stream",
     "text": [
      " 58%|█████▊    | 4324/7484 [02:07<01:33, 33.96it/s]"
     ]
    },
    {
     "name": "stdout",
     "output_type": "stream",
     "text": [
      "Multiple faces detected in /home/guilherme/projects/parai/app/data/images/lfw/Bulent_Ecevit/Bulent_Ecevit_0003.jpg. Skipping...\n"
     ]
    },
    {
     "name": "stderr",
     "output_type": "stream",
     "text": [
      " 58%|█████▊    | 4340/7484 [02:07<01:33, 33.74it/s]"
     ]
    },
    {
     "name": "stdout",
     "output_type": "stream",
     "text": [
      "Multiple faces detected in /home/guilherme/projects/parai/app/data/images/lfw/Charles_Moose/Charles_Moose_0010.jpg. Skipping...\n",
      "Multiple faces detected in /home/guilherme/projects/parai/app/data/images/lfw/Charles_Moose/Charles_Moose_0007.jpg. Skipping...\n"
     ]
    },
    {
     "name": "stderr",
     "output_type": "stream",
     "text": [
      " 58%|█████▊    | 4348/7484 [02:07<01:35, 32.75it/s]"
     ]
    },
    {
     "name": "stdout",
     "output_type": "stream",
     "text": [
      "Multiple faces detected in /home/guilherme/projects/parai/app/data/images/lfw/Chok_Tong_Goh/Chok_Tong_Goh_0001.jpg. Skipping...\n",
      "Multiple faces detected in /home/guilherme/projects/parai/app/data/images/lfw/Colin_Farrell/Colin_Farrell_0003.jpg. Skipping...\n"
     ]
    },
    {
     "name": "stderr",
     "output_type": "stream",
     "text": [
      " 59%|█████▊    | 4392/7484 [02:09<01:28, 35.11it/s]"
     ]
    },
    {
     "name": "stdout",
     "output_type": "stream",
     "text": [
      "Multiple faces detected in /home/guilherme/projects/parai/app/data/images/lfw/Dennis_Powell/Dennis_Powell_0001.jpg. Skipping...\n"
     ]
    },
    {
     "name": "stderr",
     "output_type": "stream",
     "text": [
      " 59%|█████▉    | 4404/7484 [02:09<01:27, 35.30it/s]"
     ]
    },
    {
     "name": "stdout",
     "output_type": "stream",
     "text": [
      "Multiple faces detected in /home/guilherme/projects/parai/app/data/images/lfw/Edwin_Edwards/Edwin_Edwards_0003.jpg. Skipping...\n"
     ]
    },
    {
     "name": "stderr",
     "output_type": "stream",
     "text": [
      " 59%|█████▉    | 4416/7484 [02:09<01:28, 34.84it/s]"
     ]
    },
    {
     "name": "stdout",
     "output_type": "stream",
     "text": [
      "Multiple faces detected in /home/guilherme/projects/parai/app/data/images/lfw/Gary_Bergeron/Gary_Bergeron_0001.jpg. Skipping...\n"
     ]
    },
    {
     "name": "stderr",
     "output_type": "stream",
     "text": [
      " 59%|█████▉    | 4424/7484 [02:10<01:28, 34.62it/s]"
     ]
    },
    {
     "name": "stdout",
     "output_type": "stream",
     "text": [
      "Multiple faces detected in /home/guilherme/projects/parai/app/data/images/lfw/George_W_Bush/George_W_Bush_0184.jpg. Skipping...\n"
     ]
    },
    {
     "name": "stderr",
     "output_type": "stream",
     "text": [
      " 59%|█████▉    | 4436/7484 [02:10<01:26, 35.39it/s]"
     ]
    },
    {
     "name": "stdout",
     "output_type": "stream",
     "text": [
      "Multiple faces detected in /home/guilherme/projects/parai/app/data/images/lfw/George_W_Bush/George_W_Bush_0022.jpg. Skipping...\n",
      "Multiple faces detected in /home/guilherme/projects/parai/app/data/images/lfw/George_W_Bush/George_W_Bush_0100.jpg. Skipping...\n"
     ]
    },
    {
     "name": "stderr",
     "output_type": "stream",
     "text": [
      " 59%|█████▉    | 4440/7484 [02:10<01:26, 35.00it/s]"
     ]
    },
    {
     "name": "stdout",
     "output_type": "stream",
     "text": [
      "Multiple faces detected in /home/guilherme/projects/parai/app/data/images/lfw/George_W_Bush/George_W_Bush_0069.jpg. Skipping...\n"
     ]
    },
    {
     "name": "stderr",
     "output_type": "stream",
     "text": [
      " 59%|█████▉    | 4452/7484 [02:10<01:30, 33.36it/s]"
     ]
    },
    {
     "name": "stdout",
     "output_type": "stream",
     "text": [
      "Multiple faces detected in /home/guilherme/projects/parai/app/data/images/lfw/George_W_Bush/George_W_Bush_0185.jpg. Skipping...\n"
     ]
    },
    {
     "name": "stderr",
     "output_type": "stream",
     "text": [
      " 60%|█████▉    | 4472/7484 [02:11<01:28, 34.07it/s]"
     ]
    },
    {
     "name": "stdout",
     "output_type": "stream",
     "text": [
      "Multiple faces detected in /home/guilherme/projects/parai/app/data/images/lfw/George_W_Bush/George_W_Bush_0477.jpg. Skipping...\n"
     ]
    },
    {
     "name": "stderr",
     "output_type": "stream",
     "text": [
      " 60%|██████    | 4492/7484 [02:12<01:26, 34.56it/s]"
     ]
    },
    {
     "name": "stdout",
     "output_type": "stream",
     "text": [
      "Multiple faces detected in /home/guilherme/projects/parai/app/data/images/lfw/George_W_Bush/George_W_Bush_0050.jpg. Skipping...\n",
      "Multiple faces detected in /home/guilherme/projects/parai/app/data/images/lfw/George_W_Bush/George_W_Bush_0307.jpg. Skipping...\n",
      "Multiple faces detected in /home/guilherme/projects/parai/app/data/images/lfw/George_W_Bush/George_W_Bush_0115.jpg. Skipping...\n"
     ]
    },
    {
     "name": "stderr",
     "output_type": "stream",
     "text": [
      " 60%|██████    | 4504/7484 [02:12<01:24, 35.16it/s]"
     ]
    },
    {
     "name": "stdout",
     "output_type": "stream",
     "text": [
      "Multiple faces detected in /home/guilherme/projects/parai/app/data/images/lfw/George_W_Bush/George_W_Bush_0103.jpg. Skipping...\n",
      "Multiple faces detected in /home/guilherme/projects/parai/app/data/images/lfw/George_W_Bush/George_W_Bush_0024.jpg. Skipping...\n"
     ]
    },
    {
     "name": "stderr",
     "output_type": "stream",
     "text": [
      " 60%|██████    | 4516/7484 [02:12<01:26, 34.38it/s]"
     ]
    },
    {
     "name": "stdout",
     "output_type": "stream",
     "text": [
      "Multiple faces detected in /home/guilherme/projects/parai/app/data/images/lfw/George_W_Bush/George_W_Bush_0261.jpg. Skipping...\n",
      "Multiple faces detected in /home/guilherme/projects/parai/app/data/images/lfw/George_W_Bush/George_W_Bush_0116.jpg. Skipping...\n"
     ]
    },
    {
     "name": "stderr",
     "output_type": "stream",
     "text": [
      " 61%|██████    | 4540/7484 [02:13<01:28, 33.37it/s]"
     ]
    },
    {
     "name": "stdout",
     "output_type": "stream",
     "text": [
      "No faces detected in /home/guilherme/projects/parai/app/data/images/lfw/George_W_Bush/George_W_Bush_0448.jpg. Skipping...\n"
     ]
    },
    {
     "name": "stderr",
     "output_type": "stream",
     "text": [
      " 61%|██████    | 4548/7484 [02:13<01:26, 33.86it/s]"
     ]
    },
    {
     "name": "stdout",
     "output_type": "stream",
     "text": [
      "Multiple faces detected in /home/guilherme/projects/parai/app/data/images/lfw/George_W_Bush/George_W_Bush_0147.jpg. Skipping...\n"
     ]
    },
    {
     "name": "stderr",
     "output_type": "stream",
     "text": [
      " 61%|██████    | 4556/7484 [02:13<01:30, 32.45it/s]"
     ]
    },
    {
     "name": "stdout",
     "output_type": "stream",
     "text": [
      "Multiple faces detected in /home/guilherme/projects/parai/app/data/images/lfw/George_W_Bush/George_W_Bush_0473.jpg. Skipping...\n",
      "Multiple faces detected in /home/guilherme/projects/parai/app/data/images/lfw/George_W_Bush/George_W_Bush_0082.jpg. Skipping...\n",
      "Multiple faces detected in /home/guilherme/projects/parai/app/data/images/lfw/George_W_Bush/George_W_Bush_0501.jpg. Skipping...\n"
     ]
    },
    {
     "name": "stderr",
     "output_type": "stream",
     "text": [
      " 61%|██████    | 4572/7484 [02:14<01:24, 34.50it/s]"
     ]
    },
    {
     "name": "stdout",
     "output_type": "stream",
     "text": [
      "Multiple faces detected in /home/guilherme/projects/parai/app/data/images/lfw/George_W_Bush/George_W_Bush_0059.jpg. Skipping...\n"
     ]
    },
    {
     "name": "stderr",
     "output_type": "stream",
     "text": [
      " 61%|██████▏   | 4592/7484 [02:14<01:25, 33.84it/s]"
     ]
    },
    {
     "name": "stdout",
     "output_type": "stream",
     "text": [
      "Multiple faces detected in /home/guilherme/projects/parai/app/data/images/lfw/George_W_Bush/George_W_Bush_0151.jpg. Skipping...\n"
     ]
    },
    {
     "name": "stderr",
     "output_type": "stream",
     "text": [
      " 62%|██████▏   | 4620/7484 [02:15<01:25, 33.30it/s]"
     ]
    },
    {
     "name": "stdout",
     "output_type": "stream",
     "text": [
      "Multiple faces detected in /home/guilherme/projects/parai/app/data/images/lfw/George_W_Bush/George_W_Bush_0265.jpg. Skipping...\n"
     ]
    },
    {
     "name": "stderr",
     "output_type": "stream",
     "text": [
      " 62%|██████▏   | 4672/7484 [02:17<01:20, 35.06it/s]"
     ]
    },
    {
     "name": "stdout",
     "output_type": "stream",
     "text": [
      "Multiple faces detected in /home/guilherme/projects/parai/app/data/images/lfw/George_W_Bush/George_W_Bush_0287.jpg. Skipping...\n"
     ]
    },
    {
     "name": "stderr",
     "output_type": "stream",
     "text": [
      " 63%|██████▎   | 4688/7484 [02:17<01:22, 34.07it/s]"
     ]
    },
    {
     "name": "stdout",
     "output_type": "stream",
     "text": [
      "Multiple faces detected in /home/guilherme/projects/parai/app/data/images/lfw/George_W_Bush/George_W_Bush_0020.jpg. Skipping...\n",
      "Multiple faces detected in /home/guilherme/projects/parai/app/data/images/lfw/George_W_Bush/George_W_Bush_0021.jpg. Skipping...\n",
      "Multiple faces detected in /home/guilherme/projects/parai/app/data/images/lfw/George_W_Bush/George_W_Bush_0253.jpg. Skipping...\n"
     ]
    },
    {
     "name": "stderr",
     "output_type": "stream",
     "text": [
      " 63%|██████▎   | 4696/7484 [02:18<01:23, 33.35it/s]"
     ]
    },
    {
     "name": "stdout",
     "output_type": "stream",
     "text": [
      "Multiple faces detected in /home/guilherme/projects/parai/app/data/images/lfw/George_W_Bush/George_W_Bush_0112.jpg. Skipping...\n",
      "Multiple faces detected in /home/guilherme/projects/parai/app/data/images/lfw/George_W_Bush/George_W_Bush_0530.jpg. Skipping...\n",
      "Multiple faces detected in /home/guilherme/projects/parai/app/data/images/lfw/George_W_Bush/George_W_Bush_0018.jpg. Skipping...\n"
     ]
    },
    {
     "name": "stderr",
     "output_type": "stream",
     "text": [
      " 63%|██████▎   | 4712/7484 [02:18<01:22, 33.72it/s]"
     ]
    },
    {
     "name": "stdout",
     "output_type": "stream",
     "text": [
      "Multiple faces detected in /home/guilherme/projects/parai/app/data/images/lfw/George_W_Bush/George_W_Bush_0453.jpg. Skipping...\n"
     ]
    },
    {
     "name": "stderr",
     "output_type": "stream",
     "text": [
      " 63%|██████▎   | 4720/7484 [02:18<01:23, 32.98it/s]"
     ]
    },
    {
     "name": "stdout",
     "output_type": "stream",
     "text": [
      "Multiple faces detected in /home/guilherme/projects/parai/app/data/images/lfw/George_W_Bush/George_W_Bush_0339.jpg. Skipping...\n"
     ]
    },
    {
     "name": "stderr",
     "output_type": "stream",
     "text": [
      " 63%|██████▎   | 4728/7484 [02:19<01:21, 33.87it/s]"
     ]
    },
    {
     "name": "stdout",
     "output_type": "stream",
     "text": [
      "Multiple faces detected in /home/guilherme/projects/parai/app/data/images/lfw/George_W_Bush/George_W_Bush_0442.jpg. Skipping...\n"
     ]
    },
    {
     "name": "stderr",
     "output_type": "stream",
     "text": [
      " 63%|██████▎   | 4736/7484 [02:19<01:19, 34.46it/s]"
     ]
    },
    {
     "name": "stdout",
     "output_type": "stream",
     "text": [
      "Multiple faces detected in /home/guilherme/projects/parai/app/data/images/lfw/George_W_Bush/George_W_Bush_0326.jpg. Skipping...\n",
      "Multiple faces detected in /home/guilherme/projects/parai/app/data/images/lfw/George_W_Bush/George_W_Bush_0235.jpg. Skipping...\n"
     ]
    },
    {
     "name": "stderr",
     "output_type": "stream",
     "text": [
      " 63%|██████▎   | 4744/7484 [02:19<01:18, 34.98it/s]"
     ]
    },
    {
     "name": "stdout",
     "output_type": "stream",
     "text": [
      "Multiple faces detected in /home/guilherme/projects/parai/app/data/images/lfw/George_W_Bush/George_W_Bush_0085.jpg. Skipping...\n",
      "Multiple faces detected in /home/guilherme/projects/parai/app/data/images/lfw/George_W_Bush/George_W_Bush_0175.jpg. Skipping...\n"
     ]
    },
    {
     "name": "stderr",
     "output_type": "stream",
     "text": [
      " 63%|██████▎   | 4752/7484 [02:19<01:16, 35.58it/s]"
     ]
    },
    {
     "name": "stdout",
     "output_type": "stream",
     "text": [
      "Multiple faces detected in /home/guilherme/projects/parai/app/data/images/lfw/George_W_Bush/George_W_Bush_0075.jpg. Skipping...\n",
      "Multiple faces detected in /home/guilherme/projects/parai/app/data/images/lfw/George_W_Bush/George_W_Bush_0488.jpg. Skipping...\n"
     ]
    },
    {
     "name": "stderr",
     "output_type": "stream",
     "text": [
      " 64%|██████▎   | 4760/7484 [02:19<01:19, 34.26it/s]"
     ]
    },
    {
     "name": "stdout",
     "output_type": "stream",
     "text": [
      "Multiple faces detected in /home/guilherme/projects/parai/app/data/images/lfw/George_W_Bush/George_W_Bush_0053.jpg. Skipping...\n"
     ]
    },
    {
     "name": "stderr",
     "output_type": "stream",
     "text": [
      " 64%|██████▍   | 4800/7484 [02:21<01:17, 34.61it/s]"
     ]
    },
    {
     "name": "stdout",
     "output_type": "stream",
     "text": [
      "Multiple faces detected in /home/guilherme/projects/parai/app/data/images/lfw/Greg_Ostertag/Greg_Ostertag_0001.jpg. Skipping...\n"
     ]
    },
    {
     "name": "stderr",
     "output_type": "stream",
     "text": [
      " 64%|██████▍   | 4808/7484 [02:21<01:17, 34.53it/s]"
     ]
    },
    {
     "name": "stdout",
     "output_type": "stream",
     "text": [
      "Multiple faces detected in /home/guilherme/projects/parai/app/data/images/lfw/Harrison_Ford/Harrison_Ford_0003.jpg. Skipping...\n"
     ]
    },
    {
     "name": "stderr",
     "output_type": "stream",
     "text": [
      " 64%|██████▍   | 4816/7484 [02:21<01:18, 34.14it/s]"
     ]
    },
    {
     "name": "stdout",
     "output_type": "stream",
     "text": [
      "Multiple faces detected in /home/guilherme/projects/parai/app/data/images/lfw/Heather_Mills/Heather_Mills_0002.jpg. Skipping...\n"
     ]
    },
    {
     "name": "stderr",
     "output_type": "stream",
     "text": [
      " 64%|██████▍   | 4824/7484 [02:21<01:21, 32.61it/s]"
     ]
    },
    {
     "name": "stdout",
     "output_type": "stream",
     "text": [
      "Multiple faces detected in /home/guilherme/projects/parai/app/data/images/lfw/Hosni_Mubarak/Hosni_Mubarak_0006.jpg. Skipping...\n"
     ]
    },
    {
     "name": "stderr",
     "output_type": "stream",
     "text": [
      " 65%|██████▍   | 4840/7484 [02:22<01:17, 34.00it/s]"
     ]
    },
    {
     "name": "stdout",
     "output_type": "stream",
     "text": [
      "Multiple faces detected in /home/guilherme/projects/parai/app/data/images/lfw/Jean_Chretien/Jean_Chretien_0055.jpg. Skipping...\n",
      "Multiple faces detected in /home/guilherme/projects/parai/app/data/images/lfw/Jean_Chretien/Jean_Chretien_0013.jpg. Skipping...\n"
     ]
    },
    {
     "name": "stderr",
     "output_type": "stream",
     "text": [
      " 65%|██████▍   | 4848/7484 [02:22<01:21, 32.49it/s]"
     ]
    },
    {
     "name": "stdout",
     "output_type": "stream",
     "text": [
      "Multiple faces detected in /home/guilherme/projects/parai/app/data/images/lfw/Jean_Chretien/Jean_Chretien_0005.jpg. Skipping...\n"
     ]
    },
    {
     "name": "stderr",
     "output_type": "stream",
     "text": [
      " 65%|██████▍   | 4856/7484 [02:22<01:19, 33.08it/s]"
     ]
    },
    {
     "name": "stdout",
     "output_type": "stream",
     "text": [
      "Multiple faces detected in /home/guilherme/projects/parai/app/data/images/lfw/Jean_Chretien/Jean_Chretien_0016.jpg. Skipping...\n"
     ]
    },
    {
     "name": "stderr",
     "output_type": "stream",
     "text": [
      " 65%|██████▌   | 4880/7484 [02:23<01:15, 34.41it/s]"
     ]
    },
    {
     "name": "stdout",
     "output_type": "stream",
     "text": [
      "Multiple faces detected in /home/guilherme/projects/parai/app/data/images/lfw/Jeong_Se-hyun/Jeong_Se-hyun_0004.jpg. Skipping...\n",
      "Multiple faces detected in /home/guilherme/projects/parai/app/data/images/lfw/Jesse_Jackson/Jesse_Jackson_0003.jpg. Skipping...\n",
      "Multiple faces detected in /home/guilherme/projects/parai/app/data/images/lfw/Jesse_Jackson/Jesse_Jackson_0001.jpg. Skipping...\n"
     ]
    },
    {
     "name": "stderr",
     "output_type": "stream",
     "text": [
      " 65%|██████▌   | 4892/7484 [02:23<01:12, 35.81it/s]"
     ]
    },
    {
     "name": "stdout",
     "output_type": "stream",
     "text": [
      "Multiple faces detected in /home/guilherme/projects/parai/app/data/images/lfw/Jessica_Lange/Jessica_Lange_0001.jpg. Skipping...\n",
      "Multiple faces detected in /home/guilherme/projects/parai/app/data/images/lfw/Joe_Lieberman/Joe_Lieberman_0004.jpg. Skipping...\n"
     ]
    },
    {
     "name": "stderr",
     "output_type": "stream",
     "text": [
      " 66%|██████▌   | 4904/7484 [02:24<01:23, 30.91it/s]"
     ]
    },
    {
     "name": "stdout",
     "output_type": "stream",
     "text": [
      "Multiple faces detected in /home/guilherme/projects/parai/app/data/images/lfw/John_Ashcroft/John_Ashcroft_0008.jpg. Skipping...\n"
     ]
    },
    {
     "name": "stderr",
     "output_type": "stream",
     "text": [
      " 66%|██████▌   | 4912/7484 [02:24<01:22, 31.26it/s]"
     ]
    },
    {
     "name": "stdout",
     "output_type": "stream",
     "text": [
      "Multiple faces detected in /home/guilherme/projects/parai/app/data/images/lfw/John_Ashcroft/John_Ashcroft_0040.jpg. Skipping...\n"
     ]
    },
    {
     "name": "stderr",
     "output_type": "stream",
     "text": [
      " 66%|██████▌   | 4928/7484 [02:24<01:14, 34.23it/s]"
     ]
    },
    {
     "name": "stdout",
     "output_type": "stream",
     "text": [
      "Multiple faces detected in /home/guilherme/projects/parai/app/data/images/lfw/John_Ashcroft/John_Ashcroft_0027.jpg. Skipping...\n",
      "Multiple faces detected in /home/guilherme/projects/parai/app/data/images/lfw/John_Ashcroft/John_Ashcroft_0002.jpg. Skipping...\n",
      "Multiple faces detected in /home/guilherme/projects/parai/app/data/images/lfw/John_Ashcroft/John_Ashcroft_0020.jpg. Skipping...\n"
     ]
    },
    {
     "name": "stderr",
     "output_type": "stream",
     "text": [
      " 66%|██████▌   | 4936/7484 [02:25<01:15, 33.85it/s]"
     ]
    },
    {
     "name": "stdout",
     "output_type": "stream",
     "text": [
      "Multiple faces detected in /home/guilherme/projects/parai/app/data/images/lfw/John_Ashcroft/John_Ashcroft_0052.jpg. Skipping...\n",
      "Multiple faces detected in /home/guilherme/projects/parai/app/data/images/lfw/John_Stockton/John_Stockton_0002.jpg. Skipping...\n"
     ]
    },
    {
     "name": "stderr",
     "output_type": "stream",
     "text": [
      " 66%|██████▌   | 4948/7484 [02:25<01:13, 34.71it/s]"
     ]
    },
    {
     "name": "stdout",
     "output_type": "stream",
     "text": [
      "Multiple faces detected in /home/guilherme/projects/parai/app/data/images/lfw/John_Travolta/John_Travolta_0005.jpg. Skipping...\n"
     ]
    },
    {
     "name": "stderr",
     "output_type": "stream",
     "text": [
      " 66%|██████▋   | 4964/7484 [02:25<01:12, 34.75it/s]"
     ]
    },
    {
     "name": "stdout",
     "output_type": "stream",
     "text": [
      "Multiple faces detected in /home/guilherme/projects/parai/app/data/images/lfw/Kenneth_Evans/Kenneth_Evans_0001.jpg. Skipping...\n",
      "Multiple faces detected in /home/guilherme/projects/parai/app/data/images/lfw/Kevin_Costner/Kevin_Costner_0002.jpg. Skipping...\n"
     ]
    },
    {
     "name": "stderr",
     "output_type": "stream",
     "text": [
      " 67%|██████▋   | 4980/7484 [02:26<01:12, 34.70it/s]"
     ]
    },
    {
     "name": "stdout",
     "output_type": "stream",
     "text": [
      "Multiple faces detected in /home/guilherme/projects/parai/app/data/images/lfw/Kristin_Davis/Kristin_Davis_0002.jpg. Skipping...\n"
     ]
    },
    {
     "name": "stderr",
     "output_type": "stream",
     "text": [
      " 67%|██████▋   | 4988/7484 [02:26<01:11, 34.85it/s]"
     ]
    },
    {
     "name": "stdout",
     "output_type": "stream",
     "text": [
      "Multiple faces detected in /home/guilherme/projects/parai/app/data/images/lfw/Lee_Soo-hyuck/Lee_Soo-hyuck_0002.jpg. Skipping...\n"
     ]
    },
    {
     "name": "stderr",
     "output_type": "stream",
     "text": [
      " 67%|██████▋   | 4996/7484 [02:26<01:12, 34.53it/s]"
     ]
    },
    {
     "name": "stdout",
     "output_type": "stream",
     "text": [
      "Multiple faces detected in /home/guilherme/projects/parai/app/data/images/lfw/Leszek_Miller/Leszek_Miller_0001.jpg. Skipping...\n"
     ]
    },
    {
     "name": "stderr",
     "output_type": "stream",
     "text": [
      " 67%|██████▋   | 5008/7484 [02:27<01:11, 34.45it/s]"
     ]
    },
    {
     "name": "stdout",
     "output_type": "stream",
     "text": [
      "Multiple faces detected in /home/guilherme/projects/parai/app/data/images/lfw/Mahmoud_Abbas/Mahmoud_Abbas_0028.jpg. Skipping...\n",
      "Multiple faces detected in /home/guilherme/projects/parai/app/data/images/lfw/Mahmoud_Abbas/Mahmoud_Abbas_0029.jpg. Skipping...\n"
     ]
    },
    {
     "name": "stderr",
     "output_type": "stream",
     "text": [
      " 67%|██████▋   | 5032/7484 [02:27<01:07, 36.39it/s]"
     ]
    },
    {
     "name": "stdout",
     "output_type": "stream",
     "text": [
      "Multiple faces detected in /home/guilherme/projects/parai/app/data/images/lfw/Maria_Shriver/Maria_Shriver_0003.jpg. Skipping...\n",
      "Multiple faces detected in /home/guilherme/projects/parai/app/data/images/lfw/Mark_Hurlbert/Mark_Hurlbert_0004.jpg. Skipping...\n"
     ]
    },
    {
     "name": "stderr",
     "output_type": "stream",
     "text": [
      " 67%|██████▋   | 5044/7484 [02:28<01:08, 35.65it/s]"
     ]
    },
    {
     "name": "stdout",
     "output_type": "stream",
     "text": [
      "Multiple faces detected in /home/guilherme/projects/parai/app/data/images/lfw/Matthew_Perry/Matthew_Perry_0003.jpg. Skipping...\n"
     ]
    },
    {
     "name": "stderr",
     "output_type": "stream",
     "text": [
      " 68%|██████▊   | 5092/7484 [02:29<01:17, 30.80it/s]"
     ]
    },
    {
     "name": "stdout",
     "output_type": "stream",
     "text": [
      "Multiple faces detected in /home/guilherme/projects/parai/app/data/images/lfw/Oprah_Winfrey/Oprah_Winfrey_0001.jpg. Skipping...\n"
     ]
    },
    {
     "name": "stderr",
     "output_type": "stream",
     "text": [
      " 68%|██████▊   | 5104/7484 [02:30<01:11, 33.26it/s]"
     ]
    },
    {
     "name": "stdout",
     "output_type": "stream",
     "text": [
      "Multiple faces detected in /home/guilherme/projects/parai/app/data/images/lfw/Phan_Van_Khai/Phan_Van_Khai_0002.jpg. Skipping...\n",
      "Multiple faces detected in /home/guilherme/projects/parai/app/data/images/lfw/Queen_Latifah/Queen_Latifah_0003.jpg. Skipping...\n"
     ]
    },
    {
     "name": "stderr",
     "output_type": "stream",
     "text": [
      " 68%|██████▊   | 5112/7484 [02:30<01:11, 33.16it/s]"
     ]
    },
    {
     "name": "stdout",
     "output_type": "stream",
     "text": [
      "Multiple faces detected in /home/guilherme/projects/parai/app/data/images/lfw/Queen_Latifah/Queen_Latifah_0004.jpg. Skipping...\n"
     ]
    },
    {
     "name": "stderr",
     "output_type": "stream",
     "text": [
      " 69%|██████▊   | 5132/7484 [02:30<01:07, 34.64it/s]"
     ]
    },
    {
     "name": "stdout",
     "output_type": "stream",
     "text": [
      "No faces detected in /home/guilherme/projects/parai/app/data/images/lfw/Ricardo_Lagos/Ricardo_Lagos_0004.jpg. Skipping...\n"
     ]
    },
    {
     "name": "stderr",
     "output_type": "stream",
     "text": [
      " 69%|██████▉   | 5148/7484 [02:31<01:06, 35.15it/s]"
     ]
    },
    {
     "name": "stdout",
     "output_type": "stream",
     "text": [
      "Multiple faces detected in /home/guilherme/projects/parai/app/data/images/lfw/Rob_Schneider/Rob_Schneider_0001.jpg. Skipping...\n"
     ]
    },
    {
     "name": "stderr",
     "output_type": "stream",
     "text": [
      " 70%|███████   | 5240/7484 [02:34<01:02, 35.95it/s]"
     ]
    },
    {
     "name": "stdout",
     "output_type": "stream",
     "text": [
      "Multiple faces detected in /home/guilherme/projects/parai/app/data/images/lfw/Xanana_Gusmao/Xanana_Gusmao_0005.jpg. Skipping...\n",
      "Multiple faces detected in /home/guilherme/projects/parai/app/data/images/lfw/Xanana_Gusmao/Xanana_Gusmao_0002.jpg. Skipping...\n",
      "Multiple faces detected in /home/guilherme/projects/parai/app/data/images/lfw/Xanana_Gusmao/Xanana_Gusmao_0003.jpg. Skipping...\n",
      "Multiple faces detected in /home/guilherme/projects/parai/app/data/images/lfw/Yasser_Arafat/Yasser_Arafat_0008.jpg. Skipping...\n",
      "Multiple faces detected in /home/guilherme/projects/parai/app/data/images/lfw/Yasser_Arafat/Yasser_Arafat_0003.jpg. Skipping...\n",
      "Multiple faces detected in /home/guilherme/projects/parai/app/data/images/lfw/Yasser_Arafat/Yasser_Arafat_0001.jpg. Skipping...\n"
     ]
    },
    {
     "name": "stderr",
     "output_type": "stream",
     "text": [
      " 70%|███████   | 5260/7484 [02:34<01:03, 34.89it/s]"
     ]
    },
    {
     "name": "stdout",
     "output_type": "stream",
     "text": [
      "Multiple faces detected in /home/guilherme/projects/parai/app/data/images/lfw/Angela_Bassett/Angela_Bassett_0003.jpg. Skipping...\n"
     ]
    },
    {
     "name": "stderr",
     "output_type": "stream",
     "text": [
      " 70%|███████   | 5272/7484 [02:34<01:02, 35.42it/s]"
     ]
    },
    {
     "name": "stdout",
     "output_type": "stream",
     "text": [
      "Multiple faces detected in /home/guilherme/projects/parai/app/data/images/lfw/Angelina_Jolie/Angelina_Jolie_0004.jpg. Skipping...\n",
      "Multiple faces detected in /home/guilherme/projects/parai/app/data/images/lfw/Arnoldo_Aleman/Arnoldo_Aleman_0001.jpg. Skipping...\n"
     ]
    },
    {
     "name": "stderr",
     "output_type": "stream",
     "text": [
      " 71%|███████   | 5284/7484 [02:35<01:04, 34.04it/s]"
     ]
    },
    {
     "name": "stdout",
     "output_type": "stream",
     "text": [
      "Multiple faces detected in /home/guilherme/projects/parai/app/data/images/lfw/Bernard_Landry/Bernard_Landry_0002.jpg. Skipping...\n"
     ]
    },
    {
     "name": "stderr",
     "output_type": "stream",
     "text": [
      " 71%|███████   | 5300/7484 [02:35<01:03, 34.18it/s]"
     ]
    },
    {
     "name": "stdout",
     "output_type": "stream",
     "text": [
      "Multiple faces detected in /home/guilherme/projects/parai/app/data/images/lfw/Carmen_Electra/Carmen_Electra_0005.jpg. Skipping...\n"
     ]
    },
    {
     "name": "stderr",
     "output_type": "stream",
     "text": [
      " 71%|███████   | 5308/7484 [02:36<01:03, 34.09it/s]"
     ]
    },
    {
     "name": "stdout",
     "output_type": "stream",
     "text": [
      "Multiple faces detected in /home/guilherme/projects/parai/app/data/images/lfw/Chang_Dae-whan/Chang_Dae-whan_0002.jpg. Skipping...\n",
      "Multiple faces detected in /home/guilherme/projects/parai/app/data/images/lfw/Charles_Taylor/Charles_Taylor_0004.jpg. Skipping...\n"
     ]
    },
    {
     "name": "stderr",
     "output_type": "stream",
     "text": [
      " 71%|███████   | 5320/7484 [02:36<01:01, 34.97it/s]"
     ]
    },
    {
     "name": "stdout",
     "output_type": "stream",
     "text": [
      "Multiple faces detected in /home/guilherme/projects/parai/app/data/images/lfw/Chung_Mong-hun/Chung_Mong-hun_0002.jpg. Skipping...\n",
      "Multiple faces detected in /home/guilherme/projects/parai/app/data/images/lfw/Clint_Eastwood/Clint_Eastwood_0001.jpg. Skipping...\n"
     ]
    },
    {
     "name": "stderr",
     "output_type": "stream",
     "text": [
      " 71%|███████   | 5328/7484 [02:36<01:01, 35.26it/s]"
     ]
    },
    {
     "name": "stdout",
     "output_type": "stream",
     "text": [
      "Multiple faces detected in /home/guilherme/projects/parai/app/data/images/lfw/Costas_Simitis/Costas_Simitis_0004.jpg. Skipping...\n",
      "Multiple faces detected in /home/guilherme/projects/parai/app/data/images/lfw/Costas_Simitis/Costas_Simitis_0001.jpg. Skipping...\n"
     ]
    },
    {
     "name": "stderr",
     "output_type": "stream",
     "text": [
      " 71%|███████▏  | 5344/7484 [02:37<01:01, 34.84it/s]"
     ]
    },
    {
     "name": "stdout",
     "output_type": "stream",
     "text": [
      "Multiple faces detected in /home/guilherme/projects/parai/app/data/images/lfw/Edmund_Stoiber/Edmund_Stoiber_0013.jpg. Skipping...\n"
     ]
    },
    {
     "name": "stderr",
     "output_type": "stream",
     "text": [
      " 72%|███████▏  | 5360/7484 [02:37<01:02, 34.22it/s]"
     ]
    },
    {
     "name": "stdout",
     "output_type": "stream",
     "text": [
      "Multiple faces detected in /home/guilherme/projects/parai/app/data/images/lfw/Franco_Dragone/Franco_Dragone_0002.jpg. Skipping...\n"
     ]
    },
    {
     "name": "stderr",
     "output_type": "stream",
     "text": [
      " 72%|███████▏  | 5400/7484 [02:38<01:01, 34.08it/s]"
     ]
    },
    {
     "name": "stdout",
     "output_type": "stream",
     "text": [
      "Multiple faces detected in /home/guilherme/projects/parai/app/data/images/lfw/Ishaq_Shahryar/Ishaq_Shahryar_0001.jpg. Skipping...\n",
      "No faces detected in /home/guilherme/projects/parai/app/data/images/lfw/Jacques_Chirac/Jacques_Chirac_0006.jpg. Skipping...\n"
     ]
    },
    {
     "name": "stderr",
     "output_type": "stream",
     "text": [
      " 72%|███████▏  | 5408/7484 [02:38<01:01, 33.80it/s]"
     ]
    },
    {
     "name": "stdout",
     "output_type": "stream",
     "text": [
      "Multiple faces detected in /home/guilherme/projects/parai/app/data/images/lfw/Jacques_Chirac/Jacques_Chirac_0042.jpg. Skipping...\n"
     ]
    },
    {
     "name": "stderr",
     "output_type": "stream",
     "text": [
      " 72%|███████▏  | 5416/7484 [02:39<01:00, 34.38it/s]"
     ]
    },
    {
     "name": "stdout",
     "output_type": "stream",
     "text": [
      "Multiple faces detected in /home/guilherme/projects/parai/app/data/images/lfw/Jacques_Chirac/Jacques_Chirac_0046.jpg. Skipping...\n"
     ]
    },
    {
     "name": "stderr",
     "output_type": "stream",
     "text": [
      " 72%|███████▏  | 5424/7484 [02:39<00:59, 34.61it/s]"
     ]
    },
    {
     "name": "stdout",
     "output_type": "stream",
     "text": [
      "No faces detected in /home/guilherme/projects/parai/app/data/images/lfw/Jacques_Chirac/Jacques_Chirac_0010.jpg. Skipping...\n",
      "Multiple faces detected in /home/guilherme/projects/parai/app/data/images/lfw/Jacques_Chirac/Jacques_Chirac_0023.jpg. Skipping...\n"
     ]
    },
    {
     "name": "stderr",
     "output_type": "stream",
     "text": [
      " 73%|███████▎  | 5436/7484 [02:39<00:59, 34.62it/s]"
     ]
    },
    {
     "name": "stdout",
     "output_type": "stream",
     "text": [
      "Multiple faces detected in /home/guilherme/projects/parai/app/data/images/lfw/Jamling_Norgay/Jamling_Norgay_0002.jpg. Skipping...\n"
     ]
    },
    {
     "name": "stderr",
     "output_type": "stream",
     "text": [
      " 73%|███████▎  | 5472/7484 [02:40<00:58, 34.40it/s]"
     ]
    },
    {
     "name": "stdout",
     "output_type": "stream",
     "text": [
      "Multiple faces detected in /home/guilherme/projects/parai/app/data/images/lfw/Julianne_Moore/Julianne_Moore_0001.jpg. Skipping...\n",
      "Multiple faces detected in /home/guilherme/projects/parai/app/data/images/lfw/Julianne_Moore/Julianne_Moore_0008.jpg. Skipping...\n"
     ]
    },
    {
     "name": "stderr",
     "output_type": "stream",
     "text": [
      " 73%|███████▎  | 5496/7484 [02:41<00:56, 35.43it/s]"
     ]
    },
    {
     "name": "stdout",
     "output_type": "stream",
     "text": [
      "Multiple faces detected in /home/guilherme/projects/parai/app/data/images/lfw/Kamal_Kharrazi/Kamal_Kharrazi_0002.jpg. Skipping...\n",
      "Multiple faces detected in /home/guilherme/projects/parai/app/data/images/lfw/Kim_Ryong-sung/Kim_Ryong-sung_0003.jpg. Skipping...\n"
     ]
    },
    {
     "name": "stderr",
     "output_type": "stream",
     "text": [
      " 74%|███████▎  | 5512/7484 [02:41<00:56, 34.95it/s]"
     ]
    },
    {
     "name": "stdout",
     "output_type": "stream",
     "text": [
      "Multiple faces detected in /home/guilherme/projects/parai/app/data/images/lfw/Lars_Von_Trier/Lars_Von_Trier_0002.jpg. Skipping...\n"
     ]
    },
    {
     "name": "stderr",
     "output_type": "stream",
     "text": [
      " 75%|███████▍  | 5580/7484 [02:44<00:54, 35.03it/s]"
     ]
    },
    {
     "name": "stdout",
     "output_type": "stream",
     "text": [
      "Multiple faces detected in /home/guilherme/projects/parai/app/data/images/lfw/Nelson_Mandela/Nelson_Mandela_0001.jpg. Skipping...\n"
     ]
    },
    {
     "name": "stderr",
     "output_type": "stream",
     "text": [
      " 75%|███████▍  | 5592/7484 [02:44<00:55, 34.11it/s]"
     ]
    },
    {
     "name": "stdout",
     "output_type": "stream",
     "text": [
      "Multiple faces detected in /home/guilherme/projects/parai/app/data/images/lfw/Paul_Gascoigne/Paul_Gascoigne_0003.jpg. Skipping...\n",
      "Multiple faces detected in /home/guilherme/projects/parai/app/data/images/lfw/Paul_McCartney/Paul_McCartney_0003.jpg. Skipping...\n"
     ]
    },
    {
     "name": "stderr",
     "output_type": "stream",
     "text": [
      " 75%|███████▍  | 5600/7484 [02:44<00:55, 34.20it/s]"
     ]
    },
    {
     "name": "stdout",
     "output_type": "stream",
     "text": [
      "Multiple faces detected in /home/guilherme/projects/parai/app/data/images/lfw/Paul_Wellstone/Paul_Wellstone_0002.jpg. Skipping...\n"
     ]
    },
    {
     "name": "stderr",
     "output_type": "stream",
     "text": [
      " 75%|███████▍  | 5612/7484 [02:45<00:58, 32.23it/s]"
     ]
    },
    {
     "name": "stdout",
     "output_type": "stream",
     "text": [
      "Multiple faces detected in /home/guilherme/projects/parai/app/data/images/lfw/Pierce_Brosnan/Pierce_Brosnan_0012.jpg. Skipping...\n"
     ]
    },
    {
     "name": "stderr",
     "output_type": "stream",
     "text": [
      " 75%|███████▌  | 5648/7484 [02:46<00:54, 33.94it/s]"
     ]
    },
    {
     "name": "stdout",
     "output_type": "stream",
     "text": [
      "Multiple faces detected in /home/guilherme/projects/parai/app/data/images/lfw/Roman_Polanski/Roman_Polanski_0001.jpg. Skipping...\n"
     ]
    },
    {
     "name": "stderr",
     "output_type": "stream",
     "text": [
      " 76%|███████▌  | 5684/7484 [02:47<00:51, 35.27it/s]"
     ]
    },
    {
     "name": "stdout",
     "output_type": "stream",
     "text": [
      "Multiple faces detected in /home/guilherme/projects/parai/app/data/images/lfw/Sebastian_Saja/Sebastian_Saja_0003.jpg. Skipping...\n"
     ]
    },
    {
     "name": "stderr",
     "output_type": "stream",
     "text": [
      " 77%|███████▋  | 5736/7484 [02:48<00:50, 34.45it/s]"
     ]
    },
    {
     "name": "stdout",
     "output_type": "stream",
     "text": [
      "Multiple faces detected in /home/guilherme/projects/parai/app/data/images/lfw/Vladimir_Putin/Vladimir_Putin_0030.jpg. Skipping...\n"
     ]
    },
    {
     "name": "stderr",
     "output_type": "stream",
     "text": [
      " 77%|███████▋  | 5748/7484 [02:48<00:49, 34.77it/s]"
     ]
    },
    {
     "name": "stdout",
     "output_type": "stream",
     "text": [
      "Multiple faces detected in /home/guilherme/projects/parai/app/data/images/lfw/Vladimir_Putin/Vladimir_Putin_0043.jpg. Skipping...\n"
     ]
    },
    {
     "name": "stderr",
     "output_type": "stream",
     "text": [
      " 77%|███████▋  | 5768/7484 [02:49<00:48, 35.29it/s]"
     ]
    },
    {
     "name": "stdout",
     "output_type": "stream",
     "text": [
      "Multiple faces detected in /home/guilherme/projects/parai/app/data/images/lfw/William_Bulger/William_Bulger_0001.jpg. Skipping...\n"
     ]
    },
    {
     "name": "stderr",
     "output_type": "stream",
     "text": [
      " 77%|███████▋  | 5780/7484 [02:49<00:47, 35.82it/s]"
     ]
    },
    {
     "name": "stdout",
     "output_type": "stream",
     "text": [
      "Multiple faces detected in /home/guilherme/projects/parai/app/data/images/lfw/Alejandro_Avila/Alejandro_Avila_0003.jpg. Skipping...\n"
     ]
    },
    {
     "name": "stderr",
     "output_type": "stream",
     "text": [
      " 77%|███████▋  | 5792/7484 [02:50<00:48, 35.19it/s]"
     ]
    },
    {
     "name": "stdout",
     "output_type": "stream",
     "text": [
      "No faces detected in /home/guilherme/projects/parai/app/data/images/lfw/Anna_Kournikova/Anna_Kournikova_0005.jpg. Skipping...\n"
     ]
    },
    {
     "name": "stderr",
     "output_type": "stream",
     "text": [
      " 79%|███████▊  | 5892/7484 [02:53<00:49, 32.33it/s]"
     ]
    },
    {
     "name": "stdout",
     "output_type": "stream",
     "text": [
      "No faces detected in /home/guilherme/projects/parai/app/data/images/lfw/Donald_Rumsfeld/Donald_Rumsfeld_0115.jpg. Skipping...\n",
      "Multiple faces detected in /home/guilherme/projects/parai/app/data/images/lfw/Donald_Rumsfeld/Donald_Rumsfeld_0060.jpg. Skipping...\n"
     ]
    },
    {
     "name": "stderr",
     "output_type": "stream",
     "text": [
      " 79%|███████▉  | 5924/7484 [02:54<00:46, 33.79it/s]"
     ]
    },
    {
     "name": "stdout",
     "output_type": "stream",
     "text": [
      "Multiple faces detected in /home/guilherme/projects/parai/app/data/images/lfw/Donald_Rumsfeld/Donald_Rumsfeld_0080.jpg. Skipping...\n"
     ]
    },
    {
     "name": "stderr",
     "output_type": "stream",
     "text": [
      " 79%|███████▉  | 5936/7484 [02:54<00:45, 34.33it/s]"
     ]
    },
    {
     "name": "stdout",
     "output_type": "stream",
     "text": [
      "Multiple faces detected in /home/guilherme/projects/parai/app/data/images/lfw/Donald_Rumsfeld/Donald_Rumsfeld_0041.jpg. Skipping...\n"
     ]
    },
    {
     "name": "stderr",
     "output_type": "stream",
     "text": [
      " 79%|███████▉  | 5944/7484 [02:54<00:45, 34.17it/s]"
     ]
    },
    {
     "name": "stdout",
     "output_type": "stream",
     "text": [
      "Multiple faces detected in /home/guilherme/projects/parai/app/data/images/lfw/Eduardo_Duhalde/Eduardo_Duhalde_0002.jpg. Skipping...\n"
     ]
    },
    {
     "name": "stderr",
     "output_type": "stream",
     "text": [
      " 80%|████████  | 5996/7484 [02:56<00:42, 35.07it/s]"
     ]
    },
    {
     "name": "stdout",
     "output_type": "stream",
     "text": [
      "Multiple faces detected in /home/guilherme/projects/parai/app/data/images/lfw/Gwyneth_Paltrow/Gwyneth_Paltrow_0005.jpg. Skipping...\n"
     ]
    },
    {
     "name": "stderr",
     "output_type": "stream",
     "text": [
      " 80%|████████  | 6012/7484 [02:56<00:41, 35.27it/s]"
     ]
    },
    {
     "name": "stdout",
     "output_type": "stream",
     "text": [
      "Multiple faces detected in /home/guilherme/projects/parai/app/data/images/lfw/Ibrahim_Jaafari/Ibrahim_Jaafari_0001.jpg. Skipping...\n"
     ]
    },
    {
     "name": "stderr",
     "output_type": "stream",
     "text": [
      " 81%|████████  | 6028/7484 [02:57<00:41, 34.71it/s]"
     ]
    },
    {
     "name": "stdout",
     "output_type": "stream",
     "text": [
      "Multiple faces detected in /home/guilherme/projects/parai/app/data/images/lfw/Jennifer_Garner/Jennifer_Garner_0012.jpg. Skipping...\n"
     ]
    },
    {
     "name": "stderr",
     "output_type": "stream",
     "text": [
      " 81%|████████  | 6036/7484 [02:57<00:41, 35.22it/s]"
     ]
    },
    {
     "name": "stdout",
     "output_type": "stream",
     "text": [
      "Multiple faces detected in /home/guilherme/projects/parai/app/data/images/lfw/John_Negroponte/John_Negroponte_0002.jpg. Skipping...\n"
     ]
    },
    {
     "name": "stderr",
     "output_type": "stream",
     "text": [
      " 81%|████████  | 6056/7484 [02:58<00:43, 32.85it/s]"
     ]
    },
    {
     "name": "stdout",
     "output_type": "stream",
     "text": [
      "Multiple faces detected in /home/guilherme/projects/parai/app/data/images/lfw/John_Negroponte/John_Negroponte_0004.jpg. Skipping...\n"
     ]
    },
    {
     "name": "stderr",
     "output_type": "stream",
     "text": [
      " 81%|████████  | 6068/7484 [02:58<00:40, 34.59it/s]"
     ]
    },
    {
     "name": "stdout",
     "output_type": "stream",
     "text": [
      "Multiple faces detected in /home/guilherme/projects/parai/app/data/images/lfw/Joschka_Fischer/Joschka_Fischer_0015.jpg. Skipping...\n",
      "Multiple faces detected in /home/guilherme/projects/parai/app/data/images/lfw/Joschka_Fischer/Joschka_Fischer_0017.jpg. Skipping...\n",
      "Multiple faces detected in /home/guilherme/projects/parai/app/data/images/lfw/Joschka_Fischer/Joschka_Fischer_0003.jpg. Skipping...\n",
      "Multiple faces detected in /home/guilherme/projects/parai/app/data/images/lfw/Joschka_Fischer/Joschka_Fischer_0005.jpg. Skipping...\n"
     ]
    },
    {
     "name": "stderr",
     "output_type": "stream",
     "text": [
      " 82%|████████▏ | 6104/7484 [02:59<00:39, 35.20it/s]"
     ]
    },
    {
     "name": "stdout",
     "output_type": "stream",
     "text": [
      "Multiple faces detected in /home/guilherme/projects/parai/app/data/images/lfw/Lucio_Gutierrez/Lucio_Gutierrez_0013.jpg. Skipping...\n"
     ]
    },
    {
     "name": "stderr",
     "output_type": "stream",
     "text": [
      " 82%|████████▏ | 6112/7484 [02:59<00:39, 34.67it/s]"
     ]
    },
    {
     "name": "stdout",
     "output_type": "stream",
     "text": [
      "Multiple faces detected in /home/guilherme/projects/parai/app/data/images/lfw/Marina_Anissina/Marina_Anissina_0002.jpg. Skipping...\n",
      "Multiple faces detected in /home/guilherme/projects/parai/app/data/images/lfw/Martin_Scorsese/Martin_Scorsese_0002.jpg. Skipping...\n"
     ]
    },
    {
     "name": "stderr",
     "output_type": "stream",
     "text": [
      " 82%|████████▏ | 6160/7484 [03:01<00:38, 34.01it/s]"
     ]
    },
    {
     "name": "stdout",
     "output_type": "stream",
     "text": [
      "Multiple faces detected in /home/guilherme/projects/parai/app/data/images/lfw/Nestor_Kirchner/Nestor_Kirchner_0023.jpg. Skipping...\n",
      "Multiple faces detected in /home/guilherme/projects/parai/app/data/images/lfw/Nestor_Kirchner/Nestor_Kirchner_0034.jpg. Skipping...\n"
     ]
    },
    {
     "name": "stderr",
     "output_type": "stream",
     "text": [
      " 82%|████████▏ | 6168/7484 [03:01<00:38, 34.01it/s]"
     ]
    },
    {
     "name": "stdout",
     "output_type": "stream",
     "text": [
      "Multiple faces detected in /home/guilherme/projects/parai/app/data/images/lfw/Nestor_Kirchner/Nestor_Kirchner_0032.jpg. Skipping...\n"
     ]
    },
    {
     "name": "stderr",
     "output_type": "stream",
     "text": [
      " 83%|████████▎ | 6180/7484 [03:01<00:38, 33.72it/s]"
     ]
    },
    {
     "name": "stdout",
     "output_type": "stream",
     "text": [
      "Multiple faces detected in /home/guilherme/projects/parai/app/data/images/lfw/Nestor_Kirchner/Nestor_Kirchner_0002.jpg. Skipping...\n"
     ]
    },
    {
     "name": "stderr",
     "output_type": "stream",
     "text": [
      " 83%|████████▎ | 6188/7484 [03:01<00:38, 33.58it/s]"
     ]
    },
    {
     "name": "stdout",
     "output_type": "stream",
     "text": [
      "Multiple faces detected in /home/guilherme/projects/parai/app/data/images/lfw/Pamela_Anderson/Pamela_Anderson_0005.jpg. Skipping...\n"
     ]
    },
    {
     "name": "stderr",
     "output_type": "stream",
     "text": [
      " 83%|████████▎ | 6200/7484 [03:02<00:38, 33.00it/s]"
     ]
    },
    {
     "name": "stdout",
     "output_type": "stream",
     "text": [
      "Multiple faces detected in /home/guilherme/projects/parai/app/data/images/lfw/Pedro_Almodovar/Pedro_Almodovar_0003.jpg. Skipping...\n",
      "Multiple faces detected in /home/guilherme/projects/parai/app/data/images/lfw/Petro_Symonenko/Petro_Symonenko_0002.jpg. Skipping...\n",
      "No faces detected in /home/guilherme/projects/parai/app/data/images/lfw/Philippe_Noiret/Philippe_Noiret_0002.jpg. Skipping...\n",
      "Multiple faces detected in /home/guilherme/projects/parai/app/data/images/lfw/Prince_Naruhito/Prince_Naruhito_0001.jpg. Skipping...\n"
     ]
    },
    {
     "name": "stderr",
     "output_type": "stream",
     "text": [
      " 83%|████████▎ | 6220/7484 [03:02<00:40, 30.94it/s]"
     ]
    },
    {
     "name": "stdout",
     "output_type": "stream",
     "text": [
      "Multiple faces detected in /home/guilherme/projects/parai/app/data/images/lfw/Renee_Zellweger/Renee_Zellweger_0015.jpg. Skipping...\n"
     ]
    },
    {
     "name": "stderr",
     "output_type": "stream",
     "text": [
      " 83%|████████▎ | 6228/7484 [03:03<00:38, 32.68it/s]"
     ]
    },
    {
     "name": "stdout",
     "output_type": "stream",
     "text": [
      "No faces detected in /home/guilherme/projects/parai/app/data/images/lfw/Robert_Zoellick/Robert_Zoellick_0005.jpg. Skipping...\n",
      "Multiple faces detected in /home/guilherme/projects/parai/app/data/images/lfw/Rod_Blagojevich/Rod_Blagojevich_0001.jpg. Skipping...\n"
     ]
    },
    {
     "name": "stderr",
     "output_type": "stream",
     "text": [
      " 83%|████████▎ | 6236/7484 [03:03<00:35, 34.85it/s]"
     ]
    },
    {
     "name": "stdout",
     "output_type": "stream",
     "text": [
      "Multiple faces detected in /home/guilherme/projects/parai/app/data/images/lfw/Russell_Simmons/Russell_Simmons_0005.jpg. Skipping...\n",
      "Multiple faces detected in /home/guilherme/projects/parai/app/data/images/lfw/Russell_Simmons/Russell_Simmons_0003.jpg. Skipping...\n"
     ]
    },
    {
     "name": "stderr",
     "output_type": "stream",
     "text": [
      " 84%|████████▍ | 6268/7484 [03:04<00:37, 32.22it/s]"
     ]
    },
    {
     "name": "stdout",
     "output_type": "stream",
     "text": [
      "Multiple faces detected in /home/guilherme/projects/parai/app/data/images/lfw/Serena_Williams/Serena_Williams_0042.jpg. Skipping...\n"
     ]
    },
    {
     "name": "stderr",
     "output_type": "stream",
     "text": [
      " 84%|████████▍ | 6308/7484 [03:05<00:34, 33.93it/s]"
     ]
    },
    {
     "name": "stdout",
     "output_type": "stream",
     "text": [
      "Multiple faces detected in /home/guilherme/projects/parai/app/data/images/lfw/William_Ford_Jr/William_Ford_Jr_0006.jpg. Skipping...\n"
     ]
    },
    {
     "name": "stderr",
     "output_type": "stream",
     "text": [
      " 85%|████████▍ | 6328/7484 [03:06<00:33, 34.50it/s]"
     ]
    },
    {
     "name": "stdout",
     "output_type": "stream",
     "text": [
      "Multiple faces detected in /home/guilherme/projects/parai/app/data/images/lfw/Alejandro_Toledo/Alejandro_Toledo_0003.jpg. Skipping...\n",
      "Multiple faces detected in /home/guilherme/projects/parai/app/data/images/lfw/Alejandro_Toledo/Alejandro_Toledo_0039.jpg. Skipping...\n"
     ]
    },
    {
     "name": "stderr",
     "output_type": "stream",
     "text": [
      " 85%|████████▍ | 6344/7484 [03:06<00:32, 34.56it/s]"
     ]
    },
    {
     "name": "stdout",
     "output_type": "stream",
     "text": [
      "Multiple faces detected in /home/guilherme/projects/parai/app/data/images/lfw/Andrew_Weissmann/Andrew_Weissmann_0003.jpg. Skipping...\n",
      "Multiple faces detected in /home/guilherme/projects/parai/app/data/images/lfw/Antonio_Banderas/Antonio_Banderas_0005.jpg. Skipping...\n"
     ]
    },
    {
     "name": "stderr",
     "output_type": "stream",
     "text": [
      " 85%|████████▌ | 6368/7484 [03:07<00:32, 34.33it/s]"
     ]
    },
    {
     "name": "stdout",
     "output_type": "stream",
     "text": [
      "Multiple faces detected in /home/guilherme/projects/parai/app/data/images/lfw/Condoleezza_Rice/Condoleezza_Rice_0004.jpg. Skipping...\n"
     ]
    },
    {
     "name": "stderr",
     "output_type": "stream",
     "text": [
      " 85%|████████▌ | 6384/7484 [03:07<00:33, 33.20it/s]"
     ]
    },
    {
     "name": "stdout",
     "output_type": "stream",
     "text": [
      "Multiple faces detected in /home/guilherme/projects/parai/app/data/images/lfw/Dianne_Feinstein/Dianne_Feinstein_0001.jpg. Skipping...\n",
      "Multiple faces detected in /home/guilherme/projects/parai/app/data/images/lfw/Elsa_Zylberstein/Elsa_Zylberstein_0005.jpg. Skipping...\n"
     ]
    },
    {
     "name": "stderr",
     "output_type": "stream",
     "text": [
      " 86%|████████▌ | 6408/7484 [03:08<00:30, 34.98it/s]"
     ]
    },
    {
     "name": "stdout",
     "output_type": "stream",
     "text": [
      "Multiple faces detected in /home/guilherme/projects/parai/app/data/images/lfw/George_Robertson/George_Robertson_0003.jpg. Skipping...\n",
      "Multiple faces detected in /home/guilherme/projects/parai/app/data/images/lfw/George_Robertson/George_Robertson_0018.jpg. Skipping...\n"
     ]
    },
    {
     "name": "stderr",
     "output_type": "stream",
     "text": [
      " 86%|████████▌ | 6428/7484 [03:09<00:31, 33.12it/s]"
     ]
    },
    {
     "name": "stdout",
     "output_type": "stream",
     "text": [
      "Multiple faces detected in /home/guilherme/projects/parai/app/data/images/lfw/Harvey_Weinstein/Harvey_Weinstein_0002.jpg. Skipping...\n"
     ]
    },
    {
     "name": "stderr",
     "output_type": "stream",
     "text": [
      " 87%|████████▋ | 6480/7484 [03:10<00:30, 33.42it/s]"
     ]
    },
    {
     "name": "stdout",
     "output_type": "stream",
     "text": [
      "Multiple faces detected in /home/guilherme/projects/parai/app/data/images/lfw/Jose_Maria_Aznar/Jose_Maria_Aznar_0012.jpg. Skipping...\n"
     ]
    },
    {
     "name": "stderr",
     "output_type": "stream",
     "text": [
      " 87%|████████▋ | 6500/7484 [03:11<00:28, 34.03it/s]"
     ]
    },
    {
     "name": "stdout",
     "output_type": "stream",
     "text": [
      "Multiple faces detected in /home/guilherme/projects/parai/app/data/images/lfw/Ludivine_Sagnier/Ludivine_Sagnier_0004.jpg. Skipping...\n",
      "Multiple faces detected in /home/guilherme/projects/parai/app/data/images/lfw/Mahathir_Mohamad/Mahathir_Mohamad_0002.jpg. Skipping...\n"
     ]
    },
    {
     "name": "stderr",
     "output_type": "stream",
     "text": [
      " 87%|████████▋ | 6528/7484 [03:12<00:27, 35.24it/s]"
     ]
    },
    {
     "name": "stdout",
     "output_type": "stream",
     "text": [
      "Multiple faces detected in /home/guilherme/projects/parai/app/data/images/lfw/Mohammad_Khatami/Mohammad_Khatami_0008.jpg. Skipping...\n",
      "Multiple faces detected in /home/guilherme/projects/parai/app/data/images/lfw/Mohammad_Khatami/Mohammad_Khatami_0003.jpg. Skipping...\n"
     ]
    },
    {
     "name": "stderr",
     "output_type": "stream",
     "text": [
      " 88%|████████▊ | 6592/7484 [03:13<00:25, 34.61it/s]"
     ]
    },
    {
     "name": "stdout",
     "output_type": "stream",
     "text": [
      "Multiple faces detected in /home/guilherme/projects/parai/app/data/images/lfw/Robert_Kocharian/Robert_Kocharian_0004.jpg. Skipping...\n"
     ]
    },
    {
     "name": "stderr",
     "output_type": "stream",
     "text": [
      " 88%|████████▊ | 6600/7484 [03:14<00:25, 35.29it/s]"
     ]
    },
    {
     "name": "stdout",
     "output_type": "stream",
     "text": [
      "Multiple faces detected in /home/guilherme/projects/parai/app/data/images/lfw/Rudolph_Giuliani/Rudolph_Giuliani_0025.jpg. Skipping...\n",
      "No faces detected in /home/guilherme/projects/parai/app/data/images/lfw/Rudolph_Giuliani/Rudolph_Giuliani_0007.jpg. Skipping...\n"
     ]
    },
    {
     "name": "stderr",
     "output_type": "stream",
     "text": [
      " 88%|████████▊ | 6612/7484 [03:14<00:28, 30.48it/s]"
     ]
    },
    {
     "name": "stdout",
     "output_type": "stream",
     "text": [
      "Multiple faces detected in /home/guilherme/projects/parai/app/data/images/lfw/Steven_Spielberg/Steven_Spielberg_0002.jpg. Skipping...\n"
     ]
    },
    {
     "name": "stderr",
     "output_type": "stream",
     "text": [
      " 89%|████████▊ | 6628/7484 [03:15<00:25, 33.17it/s]"
     ]
    },
    {
     "name": "stdout",
     "output_type": "stream",
     "text": [
      "Multiple faces detected in /home/guilherme/projects/parai/app/data/images/lfw/Yoriko_Kawaguchi/Yoriko_Kawaguchi_0009.jpg. Skipping...\n"
     ]
    },
    {
     "name": "stderr",
     "output_type": "stream",
     "text": [
      " 89%|████████▉ | 6660/7484 [03:16<00:24, 33.85it/s]"
     ]
    },
    {
     "name": "stdout",
     "output_type": "stream",
     "text": [
      "No faces detected in /home/guilherme/projects/parai/app/data/images/lfw/Dale_Earnhardt_Jr/Dale_Earnhardt_Jr_0003.jpg. Skipping...\n",
      "Multiple faces detected in /home/guilherme/projects/parai/app/data/images/lfw/David_Hyde_Pierce/David_Hyde_Pierce_0002.jpg. Skipping...\n"
     ]
    },
    {
     "name": "stderr",
     "output_type": "stream",
     "text": [
      " 89%|████████▉ | 6684/7484 [03:16<00:23, 34.03it/s]"
     ]
    },
    {
     "name": "stdout",
     "output_type": "stream",
     "text": [
      "Multiple faces detected in /home/guilherme/projects/parai/app/data/images/lfw/Geraldine_Chaplin/Geraldine_Chaplin_0002.jpg. Skipping...\n",
      "Multiple faces detected in /home/guilherme/projects/parai/app/data/images/lfw/Gerhard_Schroeder/Gerhard_Schroeder_0029.jpg. Skipping...\n"
     ]
    },
    {
     "name": "stderr",
     "output_type": "stream",
     "text": [
      " 90%|████████▉ | 6732/7484 [03:18<00:22, 33.99it/s]"
     ]
    },
    {
     "name": "stdout",
     "output_type": "stream",
     "text": [
      "Multiple faces detected in /home/guilherme/projects/parai/app/data/images/lfw/Gerhard_Schroeder/Gerhard_Schroeder_0046.jpg. Skipping...\n"
     ]
    },
    {
     "name": "stderr",
     "output_type": "stream",
     "text": [
      " 90%|█████████ | 6748/7484 [03:18<00:21, 34.44it/s]"
     ]
    },
    {
     "name": "stdout",
     "output_type": "stream",
     "text": [
      "Multiple faces detected in /home/guilherme/projects/parai/app/data/images/lfw/Gerhard_Schroeder/Gerhard_Schroeder_0073.jpg. Skipping...\n"
     ]
    },
    {
     "name": "stderr",
     "output_type": "stream",
     "text": [
      " 91%|█████████ | 6780/7484 [03:19<00:20, 34.12it/s]"
     ]
    },
    {
     "name": "stdout",
     "output_type": "stream",
     "text": [
      "No faces detected in /home/guilherme/projects/parai/app/data/images/lfw/Jennifer_Capriati/Jennifer_Capriati_0031.jpg. Skipping...\n"
     ]
    },
    {
     "name": "stderr",
     "output_type": "stream",
     "text": [
      " 91%|█████████ | 6796/7484 [03:20<00:20, 34.28it/s]"
     ]
    },
    {
     "name": "stdout",
     "output_type": "stream",
     "text": [
      "Multiple faces detected in /home/guilherme/projects/parai/app/data/images/lfw/Jeremy_Greenstock/Jeremy_Greenstock_0001.jpg. Skipping...\n"
     ]
    },
    {
     "name": "stderr",
     "output_type": "stream",
     "text": [
      " 91%|█████████ | 6804/7484 [03:20<00:19, 34.71it/s]"
     ]
    },
    {
     "name": "stdout",
     "output_type": "stream",
     "text": [
      "Multiple faces detected in /home/guilherme/projects/parai/app/data/images/lfw/Jeremy_Greenstock/Jeremy_Greenstock_0003.jpg. Skipping...\n",
      "Multiple faces detected in /home/guilherme/projects/parai/app/data/images/lfw/Jesse_James_Leija/Jesse_James_Leija_0002.jpg. Skipping...\n",
      "Multiple faces detected in /home/guilherme/projects/parai/app/data/images/lfw/Jose_Viegas_Filho/Jose_Viegas_Filho_0002.jpg. Skipping...\n"
     ]
    },
    {
     "name": "stderr",
     "output_type": "stream",
     "text": [
      " 91%|█████████ | 6812/7484 [03:20<00:19, 34.45it/s]"
     ]
    },
    {
     "name": "stdout",
     "output_type": "stream",
     "text": [
      "Multiple faces detected in /home/guilherme/projects/parai/app/data/images/lfw/Junichiro_Koizumi/Junichiro_Koizumi_0018.jpg. Skipping...\n"
     ]
    },
    {
     "name": "stderr",
     "output_type": "stream",
     "text": [
      " 91%|█████████ | 6828/7484 [03:20<00:19, 33.97it/s]"
     ]
    },
    {
     "name": "stdout",
     "output_type": "stream",
     "text": [
      "Multiple faces detected in /home/guilherme/projects/parai/app/data/images/lfw/Junichiro_Koizumi/Junichiro_Koizumi_0017.jpg. Skipping...\n"
     ]
    },
    {
     "name": "stderr",
     "output_type": "stream",
     "text": [
      " 92%|█████████▏| 6848/7484 [03:21<00:18, 34.24it/s]"
     ]
    },
    {
     "name": "stdout",
     "output_type": "stream",
     "text": [
      "Multiple faces detected in /home/guilherme/projects/parai/app/data/images/lfw/Junichiro_Koizumi/Junichiro_Koizumi_0001.jpg. Skipping...\n"
     ]
    },
    {
     "name": "stderr",
     "output_type": "stream",
     "text": [
      " 92%|█████████▏| 6900/7484 [03:23<00:16, 34.45it/s]"
     ]
    },
    {
     "name": "stdout",
     "output_type": "stream",
     "text": [
      "Multiple faces detected in /home/guilherme/projects/parai/app/data/images/lfw/Michael_Bloomberg/Michael_Bloomberg_0012.jpg. Skipping...\n"
     ]
    },
    {
     "name": "stderr",
     "output_type": "stream",
     "text": [
      " 92%|█████████▏| 6908/7484 [03:23<00:16, 34.70it/s]"
     ]
    },
    {
     "name": "stdout",
     "output_type": "stream",
     "text": [
      "Multiple faces detected in /home/guilherme/projects/parai/app/data/images/lfw/Michelle_Pfeiffer/Michelle_Pfeiffer_0002.jpg. Skipping...\n"
     ]
    },
    {
     "name": "stderr",
     "output_type": "stream",
     "text": [
      " 92%|█████████▏| 6920/7484 [03:23<00:16, 34.96it/s]"
     ]
    },
    {
     "name": "stdout",
     "output_type": "stream",
     "text": [
      "Multiple faces detected in /home/guilherme/projects/parai/app/data/images/lfw/Mohammed_Al-Douri/Mohammed_Al-Douri_0001.jpg. Skipping...\n"
     ]
    },
    {
     "name": "stderr",
     "output_type": "stream",
     "text": [
      " 93%|█████████▎| 6928/7484 [03:23<00:16, 34.75it/s]"
     ]
    },
    {
     "name": "stdout",
     "output_type": "stream",
     "text": [
      "Multiple faces detected in /home/guilherme/projects/parai/app/data/images/lfw/Mohammed_Al-Douri/Mohammed_Al-Douri_0006.jpg. Skipping...\n"
     ]
    },
    {
     "name": "stderr",
     "output_type": "stream",
     "text": [
      " 93%|█████████▎| 6960/7484 [03:24<00:15, 34.93it/s]"
     ]
    },
    {
     "name": "stdout",
     "output_type": "stream",
     "text": [
      "Multiple faces detected in /home/guilherme/projects/parai/app/data/images/lfw/Silvio_Berlusconi/Silvio_Berlusconi_0005.jpg. Skipping...\n",
      "Multiple faces detected in /home/guilherme/projects/parai/app/data/images/lfw/Silvio_Berlusconi/Silvio_Berlusconi_0030.jpg. Skipping...\n"
     ]
    },
    {
     "name": "stderr",
     "output_type": "stream",
     "text": [
      " 93%|█████████▎| 6972/7484 [03:25<00:14, 35.83it/s]"
     ]
    },
    {
     "name": "stdout",
     "output_type": "stream",
     "text": [
      "Multiple faces detected in /home/guilherme/projects/parai/app/data/images/lfw/Thomas_Birmingham/Thomas_Birmingham_0001.jpg. Skipping...\n",
      "Multiple faces detected in /home/guilherme/projects/parai/app/data/images/lfw/Vicente_Fernandez/Vicente_Fernandez_0002.jpg. Skipping...\n"
     ]
    },
    {
     "name": "stderr",
     "output_type": "stream",
     "text": [
      " 93%|█████████▎| 6992/7484 [03:25<00:14, 34.99it/s]"
     ]
    },
    {
     "name": "stdout",
     "output_type": "stream",
     "text": [
      "Multiple faces detected in /home/guilherme/projects/parai/app/data/images/lfw/Charlotte_Rampling/Charlotte_Rampling_0002.jpg. Skipping...\n"
     ]
    },
    {
     "name": "stderr",
     "output_type": "stream",
     "text": [
      " 94%|█████████▎| 7008/7484 [03:26<00:13, 34.59it/s]"
     ]
    },
    {
     "name": "stdout",
     "output_type": "stream",
     "text": [
      "No faces detected in /home/guilherme/projects/parai/app/data/images/lfw/Franz_Muentefering/Franz_Muentefering_0003.jpg. Skipping...\n"
     ]
    },
    {
     "name": "stderr",
     "output_type": "stream",
     "text": [
      " 94%|█████████▍| 7040/7484 [03:27<00:12, 34.94it/s]"
     ]
    },
    {
     "name": "stdout",
     "output_type": "stream",
     "text": [
      "No faces detected in /home/guilherme/projects/parai/app/data/images/lfw/Michael_Schumacher/Michael_Schumacher_0015.jpg. Skipping...\n"
     ]
    },
    {
     "name": "stderr",
     "output_type": "stream",
     "text": [
      " 94%|█████████▍| 7068/7484 [03:27<00:12, 34.47it/s]"
     ]
    },
    {
     "name": "stdout",
     "output_type": "stream",
     "text": [
      "Multiple faces detected in /home/guilherme/projects/parai/app/data/images/lfw/Queen_Elizabeth_II/Queen_Elizabeth_II_0005.jpg. Skipping...\n"
     ]
    },
    {
     "name": "stderr",
     "output_type": "stream",
     "text": [
      " 95%|█████████▍| 7088/7484 [03:28<00:11, 34.72it/s]"
     ]
    },
    {
     "name": "stdout",
     "output_type": "stream",
     "text": [
      "Multiple faces detected in /home/guilherme/projects/parai/app/data/images/lfw/Sylvester_Stallone/Sylvester_Stallone_0005.jpg. Skipping...\n",
      "Multiple faces detected in /home/guilherme/projects/parai/app/data/images/lfw/Thaksin_Shinawatra/Thaksin_Shinawatra_0005.jpg. Skipping...\n"
     ]
    },
    {
     "name": "stderr",
     "output_type": "stream",
     "text": [
      " 95%|█████████▍| 7096/7484 [03:28<00:10, 35.73it/s]"
     ]
    },
    {
     "name": "stdout",
     "output_type": "stream",
     "text": [
      "Multiple faces detected in /home/guilherme/projects/parai/app/data/images/lfw/Vojislav_Kostunica/Vojislav_Kostunica_0005.jpg. Skipping...\n",
      "Multiple faces detected in /home/guilherme/projects/parai/app/data/images/lfw/Vojislav_Kostunica/Vojislav_Kostunica_0007.jpg. Skipping...\n"
     ]
    },
    {
     "name": "stderr",
     "output_type": "stream",
     "text": [
      " 95%|█████████▌| 7116/7484 [03:29<00:10, 34.96it/s]"
     ]
    },
    {
     "name": "stdout",
     "output_type": "stream",
     "text": [
      "Multiple faces detected in /home/guilherme/projects/parai/app/data/images/lfw/Eduard_Shevardnadze/Eduard_Shevardnadze_0002.jpg. Skipping...\n"
     ]
    },
    {
     "name": "stderr",
     "output_type": "stream",
     "text": [
      " 95%|█████████▌| 7124/7484 [03:29<00:10, 34.80it/s]"
     ]
    },
    {
     "name": "stdout",
     "output_type": "stream",
     "text": [
      "Multiple faces detected in /home/guilherme/projects/parai/app/data/images/lfw/Jean-Claude_Trichet/Jean-Claude_Trichet_0002.jpg. Skipping...\n",
      "Multiple faces detected in /home/guilherme/projects/parai/app/data/images/lfw/John_Allen_Muhammad/John_Allen_Muhammad_0006.jpg. Skipping...\n"
     ]
    },
    {
     "name": "stderr",
     "output_type": "stream",
     "text": [
      " 96%|█████████▌| 7152/7484 [03:30<00:09, 35.28it/s]"
     ]
    },
    {
     "name": "stdout",
     "output_type": "stream",
     "text": [
      "Multiple faces detected in /home/guilherme/projects/parai/app/data/images/lfw/Kristen_Breitweiser/Kristen_Breitweiser_0003.jpg. Skipping...\n"
     ]
    },
    {
     "name": "stderr",
     "output_type": "stream",
     "text": [
      " 96%|█████████▌| 7172/7484 [03:30<00:08, 35.87it/s]"
     ]
    },
    {
     "name": "stdout",
     "output_type": "stream",
     "text": [
      "Multiple faces detected in /home/guilherme/projects/parai/app/data/images/lfw/Taha_Yassin_Ramadan/Taha_Yassin_Ramadan_0006.jpg. Skipping...\n",
      "Multiple faces detected in /home/guilherme/projects/parai/app/data/images/lfw/Taha_Yassin_Ramadan/Taha_Yassin_Ramadan_0002.jpg. Skipping...\n",
      "Multiple faces detected in /home/guilherme/projects/parai/app/data/images/lfw/Taha_Yassin_Ramadan/Taha_Yassin_Ramadan_0013.jpg. Skipping...\n",
      "Multiple faces detected in /home/guilherme/projects/parai/app/data/images/lfw/Tammy_Lynn_Michaels/Tammy_Lynn_Michaels_0001.jpg. Skipping...\n"
     ]
    },
    {
     "name": "stderr",
     "output_type": "stream",
     "text": [
      " 96%|█████████▌| 7196/7484 [03:31<00:08, 34.74it/s]"
     ]
    },
    {
     "name": "stdout",
     "output_type": "stream",
     "text": [
      "Multiple faces detected in /home/guilherme/projects/parai/app/data/images/lfw/Atal_Bihari_Vajpayee/Atal_Bihari_Vajpayee_0022.jpg. Skipping...\n"
     ]
    },
    {
     "name": "stderr",
     "output_type": "stream",
     "text": [
      " 96%|█████████▋| 7212/7484 [03:32<00:07, 35.27it/s]"
     ]
    },
    {
     "name": "stdout",
     "output_type": "stream",
     "text": [
      "No faces detected in /home/guilherme/projects/parai/app/data/images/lfw/Elisabeth_Schumacher/Elisabeth_Schumacher_0001.jpg. Skipping...\n"
     ]
    },
    {
     "name": "stderr",
     "output_type": "stream",
     "text": [
      " 97%|█████████▋| 7224/7484 [03:32<00:07, 35.59it/s]"
     ]
    },
    {
     "name": "stdout",
     "output_type": "stream",
     "text": [
      "Multiple faces detected in /home/guilherme/projects/parai/app/data/images/lfw/Maria_Luisa_Mendonca/Maria_Luisa_Mendonca_0001.jpg. Skipping...\n"
     ]
    },
    {
     "name": "stderr",
     "output_type": "stream",
     "text": [
      " 97%|█████████▋| 7240/7484 [03:32<00:07, 34.53it/s]"
     ]
    },
    {
     "name": "stdout",
     "output_type": "stream",
     "text": [
      "Multiple faces detected in /home/guilherme/projects/parai/app/data/images/lfw/Recep_Tayyip_Erdogan/Recep_Tayyip_Erdogan_0002.jpg. Skipping...\n",
      "Multiple faces detected in /home/guilherme/projects/parai/app/data/images/lfw/Recep_Tayyip_Erdogan/Recep_Tayyip_Erdogan_0006.jpg. Skipping...\n"
     ]
    },
    {
     "name": "stderr",
     "output_type": "stream",
     "text": [
      " 97%|█████████▋| 7244/7484 [03:32<00:07, 34.08it/s]"
     ]
    },
    {
     "name": "stdout",
     "output_type": "stream",
     "text": [
      "Multiple faces detected in /home/guilherme/projects/parai/app/data/images/lfw/Recep_Tayyip_Erdogan/Recep_Tayyip_Erdogan_0008.jpg. Skipping...\n"
     ]
    },
    {
     "name": "stderr",
     "output_type": "stream",
     "text": [
      " 97%|█████████▋| 7256/7484 [03:33<00:06, 35.38it/s]"
     ]
    },
    {
     "name": "stdout",
     "output_type": "stream",
     "text": [
      "No faces detected in /home/guilherme/projects/parai/app/data/images/lfw/Sean_Patrick_OMalley/Sean_Patrick_OMalley_0003.jpg. Skipping...\n",
      "Multiple faces detected in /home/guilherme/projects/parai/app/data/images/lfw/Adolfo_Aguilar_Zinser/Adolfo_Aguilar_Zinser_0002.jpg. Skipping...\n",
      "Multiple faces detected in /home/guilherme/projects/parai/app/data/images/lfw/Alvaro_Silva_Calderon/Alvaro_Silva_Calderon_0002.jpg. Skipping...\n",
      "Multiple faces detected in /home/guilherme/projects/parai/app/data/images/lfw/Alvaro_Silva_Calderon/Alvaro_Silva_Calderon_0001.jpg. Skipping...\n"
     ]
    },
    {
     "name": "stderr",
     "output_type": "stream",
     "text": [
      " 97%|█████████▋| 7264/7484 [03:33<00:06, 34.63it/s]"
     ]
    },
    {
     "name": "stdout",
     "output_type": "stream",
     "text": [
      "Multiple faces detected in /home/guilherme/projects/parai/app/data/images/lfw/Arnold_Schwarzenegger/Arnold_Schwarzenegger_0040.jpg. Skipping...\n"
     ]
    },
    {
     "name": "stderr",
     "output_type": "stream",
     "text": [
      " 97%|█████████▋| 7276/7484 [03:33<00:05, 34.87it/s]"
     ]
    },
    {
     "name": "stdout",
     "output_type": "stream",
     "text": [
      "Multiple faces detected in /home/guilherme/projects/parai/app/data/images/lfw/Arnold_Schwarzenegger/Arnold_Schwarzenegger_0007.jpg. Skipping...\n"
     ]
    },
    {
     "name": "stderr",
     "output_type": "stream",
     "text": [
      " 97%|█████████▋| 7284/7484 [03:34<00:05, 34.69it/s]"
     ]
    },
    {
     "name": "stdout",
     "output_type": "stream",
     "text": [
      "Multiple faces detected in /home/guilherme/projects/parai/app/data/images/lfw/Arnold_Schwarzenegger/Arnold_Schwarzenegger_0005.jpg. Skipping...\n"
     ]
    },
    {
     "name": "stderr",
     "output_type": "stream",
     "text": [
      " 98%|█████████▊| 7304/7484 [03:34<00:05, 34.97it/s]"
     ]
    },
    {
     "name": "stdout",
     "output_type": "stream",
     "text": [
      "Multiple faces detected in /home/guilherme/projects/parai/app/data/images/lfw/Dominique_de_Villepin/Dominique_de_Villepin_0007.jpg. Skipping...\n"
     ]
    },
    {
     "name": "stderr",
     "output_type": "stream",
     "text": [
      " 98%|█████████▊| 7324/7484 [03:35<00:04, 33.50it/s]"
     ]
    },
    {
     "name": "stdout",
     "output_type": "stream",
     "text": [
      "Multiple faces detected in /home/guilherme/projects/parai/app/data/images/lfw/Megawati_Sukarnoputri/Megawati_Sukarnoputri_0003.jpg. Skipping...\n"
     ]
    },
    {
     "name": "stderr",
     "output_type": "stream",
     "text": [
      " 98%|█████████▊| 7336/7484 [03:35<00:04, 34.44it/s]"
     ]
    },
    {
     "name": "stdout",
     "output_type": "stream",
     "text": [
      "Multiple faces detected in /home/guilherme/projects/parai/app/data/images/lfw/Megawati_Sukarnoputri/Megawati_Sukarnoputri_0029.jpg. Skipping...\n"
     ]
    },
    {
     "name": "stderr",
     "output_type": "stream",
     "text": [
      " 98%|█████████▊| 7344/7484 [03:35<00:04, 33.98it/s]"
     ]
    },
    {
     "name": "stdout",
     "output_type": "stream",
     "text": [
      "Multiple faces detected in /home/guilherme/projects/parai/app/data/images/lfw/Nicanor_Duarte_Frutos/Nicanor_Duarte_Frutos_0006.jpg. Skipping...\n",
      "Multiple faces detected in /home/guilherme/projects/parai/app/data/images/lfw/Nicanor_Duarte_Frutos/Nicanor_Duarte_Frutos_0010.jpg. Skipping...\n"
     ]
    },
    {
     "name": "stderr",
     "output_type": "stream",
     "text": [
      " 98%|█████████▊| 7364/7484 [03:36<00:03, 34.71it/s]"
     ]
    },
    {
     "name": "stdout",
     "output_type": "stream",
     "text": [
      "Multiple faces detected in /home/guilherme/projects/parai/app/data/images/lfw/Rebekah_Chantay_Revels/Rebekah_Chantay_Revels_0002.jpg. Skipping...\n"
     ]
    },
    {
     "name": "stderr",
     "output_type": "stream",
     "text": [
      " 99%|█████████▊| 7380/7484 [03:36<00:03, 34.07it/s]"
     ]
    },
    {
     "name": "stdout",
     "output_type": "stream",
     "text": [
      "Multiple faces detected in /home/guilherme/projects/parai/app/data/images/lfw/Gloria_Macapagal_Arroyo/Gloria_Macapagal_Arroyo_0022.jpg. Skipping...\n"
     ]
    },
    {
     "name": "stderr",
     "output_type": "stream",
     "text": [
      " 99%|█████████▉| 7396/7484 [03:37<00:02, 35.39it/s]"
     ]
    },
    {
     "name": "stdout",
     "output_type": "stream",
     "text": [
      "Multiple faces detected in /home/guilherme/projects/parai/app/data/images/lfw/Gloria_Macapagal_Arroyo/Gloria_Macapagal_Arroyo_0028.jpg. Skipping...\n"
     ]
    },
    {
     "name": "stderr",
     "output_type": "stream",
     "text": [
      " 99%|█████████▉| 7412/7484 [03:37<00:02, 34.68it/s]"
     ]
    },
    {
     "name": "stdout",
     "output_type": "stream",
     "text": [
      "Multiple faces detected in /home/guilherme/projects/parai/app/data/images/lfw/Jean-Marc_de_La_Sabliere/Jean-Marc_de_La_Sabliere_0002.jpg. Skipping...\n"
     ]
    },
    {
     "name": "stderr",
     "output_type": "stream",
     "text": [
      " 99%|█████████▉| 7424/7484 [03:38<00:01, 34.31it/s]"
     ]
    },
    {
     "name": "stdout",
     "output_type": "stream",
     "text": [
      "Multiple faces detected in /home/guilherme/projects/parai/app/data/images/lfw/Gonzalo_Sanchez_de_Lozada/Gonzalo_Sanchez_de_Lozada_0007.jpg. Skipping...\n"
     ]
    },
    {
     "name": "stderr",
     "output_type": "stream",
     "text": [
      " 99%|█████████▉| 7440/7484 [03:38<00:01, 32.98it/s]"
     ]
    },
    {
     "name": "stdout",
     "output_type": "stream",
     "text": [
      "Multiple faces detected in /home/guilherme/projects/parai/app/data/images/lfw/Luiz_Inacio_Lula_da_Silva/Luiz_Inacio_Lula_da_Silva_0038.jpg. Skipping...\n"
     ]
    },
    {
     "name": "stderr",
     "output_type": "stream",
     "text": [
      "100%|█████████▉| 7456/7484 [03:39<00:00, 34.54it/s]"
     ]
    },
    {
     "name": "stdout",
     "output_type": "stream",
     "text": [
      "Multiple faces detected in /home/guilherme/projects/parai/app/data/images/lfw/Luiz_Inacio_Lula_da_Silva/Luiz_Inacio_Lula_da_Silva_0024.jpg. Skipping...\n",
      "Multiple faces detected in /home/guilherme/projects/parai/app/data/images/lfw/Luiz_Inacio_Lula_da_Silva/Luiz_Inacio_Lula_da_Silva_0013.jpg. Skipping...\n",
      "Multiple faces detected in /home/guilherme/projects/parai/app/data/images/lfw/Luiz_Inacio_Lula_da_Silva/Luiz_Inacio_Lula_da_Silva_0037.jpg. Skipping...\n"
     ]
    },
    {
     "name": "stderr",
     "output_type": "stream",
     "text": [
      "100%|██████████| 7484/7484 [03:39<00:00, 34.03it/s]"
     ]
    },
    {
     "name": "stdout",
     "output_type": "stream",
     "text": [
      "Multiple faces detected in /home/guilherme/projects/parai/app/data/images/lfw/Gianna_Angelopoulos-Daskalaki/Gianna_Angelopoulos-Daskalaki_0003.jpg. Skipping...\n"
     ]
    },
    {
     "name": "stderr",
     "output_type": "stream",
     "text": [
      "\n"
     ]
    }
   ],
   "source": [
    "query_df = pd.read_csv('../app/data/query_imgs_lfw_processed.csv')\n",
    "dest_dir = '../app/data/templates/fr_templates_full'\n",
    "\n",
    "for input_img_path in tqdm(query_df['img_path'].values):\n",
    "    enroll_subject(input_img_path, dest_dir)"
   ]
  },
  {
   "cell_type": "code",
   "execution_count": 12,
   "metadata": {},
   "outputs": [
    {
     "name": "stdout",
     "output_type": "stream",
     "text": [
      "Number of extracted templates: 8511\n"
     ]
    }
   ],
   "source": [
    "print(f'Number of extracted templates: {len(os.listdir(dest_dir))}')"
   ]
  },
  {
   "cell_type": "markdown",
   "metadata": {},
   "source": [
    "# Enroll especific subjects "
   ]
  },
  {
   "cell_type": "code",
   "execution_count": 16,
   "metadata": {},
   "outputs": [],
   "source": [
    "enroll_subject('../app/data/images/common/guilherme_1.jpg', dest_dir='../app/data/templates/fr_templates_full')\n",
    "enroll_subject('../app/data/images/common/guilherme_2.jpg', dest_dir='../app/data/templates/fr_templates_full')\n",
    "enroll_subject('../app/data/images/common/guilherme_3.jpg', dest_dir='../app/data/templates/fr_templates_full')\n",
    "enroll_subject('../app/data/images/common/guilherme_4.jpg', dest_dir='../app/data/templates/fr_templates_full')\n",
    "\n",
    "\n",
    "enroll_subject('../app/data/images/common/guilherme_1.jpg', dest_dir='../app/data/templates/fr_templates')\n",
    "enroll_subject('../app/data/images/common/guilherme_2.jpg', dest_dir='../app/data/templates/fr_templates')\n",
    "enroll_subject('../app/data/images/common/guilherme_3.jpg', dest_dir='../app/data/templates/fr_templates')\n",
    "enroll_subject('../app/data/images/common/guilherme_4.jpg', dest_dir='../app/data/templates/fr_templates')"
   ]
  },
  {
   "cell_type": "code",
   "execution_count": 3,
   "metadata": {},
   "outputs": [],
   "source": [
    "enroll_subject('../app/data/images/common/tom_cruise_99.jpeg', dest_dir='../app/data/templates/fr_templates')"
   ]
  }
 ],
 "metadata": {
  "kernelspec": {
   "display_name": "parai",
   "language": "python",
   "name": "python3"
  },
  "language_info": {
   "codemirror_mode": {
    "name": "ipython",
    "version": 3
   },
   "file_extension": ".py",
   "mimetype": "text/x-python",
   "name": "python",
   "nbconvert_exporter": "python",
   "pygments_lexer": "ipython3",
   "version": "3.8.0"
  }
 },
 "nbformat": 4,
 "nbformat_minor": 2
}
