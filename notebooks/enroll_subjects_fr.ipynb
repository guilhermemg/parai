{
 "cells": [
  {
   "cell_type": "code",
   "execution_count": 1,
   "metadata": {},
   "outputs": [],
   "source": [
    "import os\n",
    "\n",
    "import pandas as pd\n",
    "import numpy as np\n",
    "\n",
    "from tqdm import tqdm\n",
    "\n",
    "import face_recognition"
   ]
  },
  {
   "cell_type": "code",
   "execution_count": 2,
   "metadata": {},
   "outputs": [
    {
     "name": "stdout",
     "output_type": "stream",
     "text": [
      "(1680, 3)\n"
     ]
    },
    {
     "data": {
      "text/html": [
       "<div>\n",
       "<style scoped>\n",
       "    .dataframe tbody tr th:only-of-type {\n",
       "        vertical-align: middle;\n",
       "    }\n",
       "\n",
       "    .dataframe tbody tr th {\n",
       "        vertical-align: top;\n",
       "    }\n",
       "\n",
       "    .dataframe thead th {\n",
       "        text-align: right;\n",
       "    }\n",
       "</style>\n",
       "<table border=\"1\" class=\"dataframe\">\n",
       "  <thead>\n",
       "    <tr style=\"text-align: right;\">\n",
       "      <th></th>\n",
       "      <th>person_name</th>\n",
       "      <th>img_name</th>\n",
       "      <th>gcp_path</th>\n",
       "    </tr>\n",
       "  </thead>\n",
       "  <tbody>\n",
       "    <tr>\n",
       "      <th>0</th>\n",
       "      <td>Abdel_Nasser_Assidi</td>\n",
       "      <td>Abdel_Nasser_Assidi_0001.jpg</td>\n",
       "      <td>gs://original-datasets-pesquisa/face/LFW/lfw/l...</td>\n",
       "    </tr>\n",
       "    <tr>\n",
       "      <th>1</th>\n",
       "      <td>Abdullah_Gul</td>\n",
       "      <td>Abdullah_Gul_0012.jpg</td>\n",
       "      <td>gs://original-datasets-pesquisa/face/LFW/lfw/l...</td>\n",
       "    </tr>\n",
       "    <tr>\n",
       "      <th>2</th>\n",
       "      <td>Abdullah_al-Attiyah</td>\n",
       "      <td>Abdullah_al-Attiyah_0001.jpg</td>\n",
       "      <td>gs://original-datasets-pesquisa/face/LFW/lfw/l...</td>\n",
       "    </tr>\n",
       "    <tr>\n",
       "      <th>3</th>\n",
       "      <td>Adel_Al-Jubeir</td>\n",
       "      <td>Adel_Al-Jubeir_0002.jpg</td>\n",
       "      <td>gs://original-datasets-pesquisa/face/LFW/lfw/l...</td>\n",
       "    </tr>\n",
       "    <tr>\n",
       "      <th>4</th>\n",
       "      <td>Ai_Sugiyama</td>\n",
       "      <td>Ai_Sugiyama_0003.jpg</td>\n",
       "      <td>gs://original-datasets-pesquisa/face/LFW/lfw/l...</td>\n",
       "    </tr>\n",
       "  </tbody>\n",
       "</table>\n",
       "</div>"
      ],
      "text/plain": [
       "           person_name                      img_name  \\\n",
       "0  Abdel_Nasser_Assidi  Abdel_Nasser_Assidi_0001.jpg   \n",
       "1         Abdullah_Gul         Abdullah_Gul_0012.jpg   \n",
       "2  Abdullah_al-Attiyah  Abdullah_al-Attiyah_0001.jpg   \n",
       "3       Adel_Al-Jubeir       Adel_Al-Jubeir_0002.jpg   \n",
       "4          Ai_Sugiyama          Ai_Sugiyama_0003.jpg   \n",
       "\n",
       "                                            gcp_path  \n",
       "0  gs://original-datasets-pesquisa/face/LFW/lfw/l...  \n",
       "1  gs://original-datasets-pesquisa/face/LFW/lfw/l...  \n",
       "2  gs://original-datasets-pesquisa/face/LFW/lfw/l...  \n",
       "3  gs://original-datasets-pesquisa/face/LFW/lfw/l...  \n",
       "4  gs://original-datasets-pesquisa/face/LFW/lfw/l...  "
      ]
     },
     "execution_count": 2,
     "metadata": {},
     "output_type": "execute_result"
    }
   ],
   "source": [
    "enroll_df = pd.read_csv('../app/data/enroll_imgs_lfw.csv')\n",
    "print(enroll_df.shape)\n",
    "enroll_df.head()"
   ]
  },
  {
   "cell_type": "code",
   "execution_count": 3,
   "metadata": {},
   "outputs": [
    {
     "data": {
      "text/plain": [
       "'gs://original-datasets-pesquisa/face/LFW/lfw/lfw/Abdel_Nasser_Assidi/Abdel_Nasser_Assidi_0001.jpg'"
      ]
     },
     "execution_count": 3,
     "metadata": {},
     "output_type": "execute_result"
    }
   ],
   "source": [
    "enroll_df.gcp_path.values[0]"
   ]
  },
  {
   "cell_type": "markdown",
   "metadata": {},
   "source": [
    "# Transform GCP_Paths in Paths"
   ]
  },
  {
   "cell_type": "code",
   "execution_count": 4,
   "metadata": {},
   "outputs": [
    {
     "data": {
      "text/html": [
       "<div>\n",
       "<style scoped>\n",
       "    .dataframe tbody tr th:only-of-type {\n",
       "        vertical-align: middle;\n",
       "    }\n",
       "\n",
       "    .dataframe tbody tr th {\n",
       "        vertical-align: top;\n",
       "    }\n",
       "\n",
       "    .dataframe thead th {\n",
       "        text-align: right;\n",
       "    }\n",
       "</style>\n",
       "<table border=\"1\" class=\"dataframe\">\n",
       "  <thead>\n",
       "    <tr style=\"text-align: right;\">\n",
       "      <th></th>\n",
       "      <th>person_name</th>\n",
       "      <th>img_name</th>\n",
       "      <th>gcp_path</th>\n",
       "      <th>img_path</th>\n",
       "    </tr>\n",
       "  </thead>\n",
       "  <tbody>\n",
       "    <tr>\n",
       "      <th>0</th>\n",
       "      <td>Abdel_Nasser_Assidi</td>\n",
       "      <td>Abdel_Nasser_Assidi_0001.jpg</td>\n",
       "      <td>gs://original-datasets-pesquisa/face/LFW/lfw/l...</td>\n",
       "      <td>/home/guilherme/projects/parai/app/data/images...</td>\n",
       "    </tr>\n",
       "    <tr>\n",
       "      <th>1</th>\n",
       "      <td>Abdullah_Gul</td>\n",
       "      <td>Abdullah_Gul_0012.jpg</td>\n",
       "      <td>gs://original-datasets-pesquisa/face/LFW/lfw/l...</td>\n",
       "      <td>/home/guilherme/projects/parai/app/data/images...</td>\n",
       "    </tr>\n",
       "    <tr>\n",
       "      <th>2</th>\n",
       "      <td>Abdullah_al-Attiyah</td>\n",
       "      <td>Abdullah_al-Attiyah_0001.jpg</td>\n",
       "      <td>gs://original-datasets-pesquisa/face/LFW/lfw/l...</td>\n",
       "      <td>/home/guilherme/projects/parai/app/data/images...</td>\n",
       "    </tr>\n",
       "    <tr>\n",
       "      <th>3</th>\n",
       "      <td>Adel_Al-Jubeir</td>\n",
       "      <td>Adel_Al-Jubeir_0002.jpg</td>\n",
       "      <td>gs://original-datasets-pesquisa/face/LFW/lfw/l...</td>\n",
       "      <td>/home/guilherme/projects/parai/app/data/images...</td>\n",
       "    </tr>\n",
       "    <tr>\n",
       "      <th>4</th>\n",
       "      <td>Ai_Sugiyama</td>\n",
       "      <td>Ai_Sugiyama_0003.jpg</td>\n",
       "      <td>gs://original-datasets-pesquisa/face/LFW/lfw/l...</td>\n",
       "      <td>/home/guilherme/projects/parai/app/data/images...</td>\n",
       "    </tr>\n",
       "  </tbody>\n",
       "</table>\n",
       "</div>"
      ],
      "text/plain": [
       "           person_name                      img_name  \\\n",
       "0  Abdel_Nasser_Assidi  Abdel_Nasser_Assidi_0001.jpg   \n",
       "1         Abdullah_Gul         Abdullah_Gul_0012.jpg   \n",
       "2  Abdullah_al-Attiyah  Abdullah_al-Attiyah_0001.jpg   \n",
       "3       Adel_Al-Jubeir       Adel_Al-Jubeir_0002.jpg   \n",
       "4          Ai_Sugiyama          Ai_Sugiyama_0003.jpg   \n",
       "\n",
       "                                            gcp_path  \\\n",
       "0  gs://original-datasets-pesquisa/face/LFW/lfw/l...   \n",
       "1  gs://original-datasets-pesquisa/face/LFW/lfw/l...   \n",
       "2  gs://original-datasets-pesquisa/face/LFW/lfw/l...   \n",
       "3  gs://original-datasets-pesquisa/face/LFW/lfw/l...   \n",
       "4  gs://original-datasets-pesquisa/face/LFW/lfw/l...   \n",
       "\n",
       "                                            img_path  \n",
       "0  /home/guilherme/projects/parai/app/data/images...  \n",
       "1  /home/guilherme/projects/parai/app/data/images...  \n",
       "2  /home/guilherme/projects/parai/app/data/images...  \n",
       "3  /home/guilherme/projects/parai/app/data/images...  \n",
       "4  /home/guilherme/projects/parai/app/data/images...  "
      ]
     },
     "execution_count": 4,
     "metadata": {},
     "output_type": "execute_result"
    }
   ],
   "source": [
    "BASE_PATH = '/home/guilherme/projects/parai/app/data/'\n",
    "\n",
    "enroll_df['img_path'] = enroll_df['gcp_path'].apply(lambda x: x.replace('gs://original-datasets-pesquisa/face/LFW/lfw/', 'images/'))\n",
    "enroll_df['img_path'] = BASE_PATH + enroll_df['img_path']\n",
    "\n",
    "enroll_df.head()"
   ]
  },
  {
   "cell_type": "code",
   "execution_count": 5,
   "metadata": {},
   "outputs": [],
   "source": [
    "enroll_df.to_csv('../app/data/enroll_imgs_lfw_processed.csv', index=False)"
   ]
  },
  {
   "cell_type": "markdown",
   "metadata": {},
   "source": [
    "# Enroll subjects from LFW dataset"
   ]
  },
  {
   "cell_type": "code",
   "execution_count": 7,
   "metadata": {},
   "outputs": [
    {
     "name": "stderr",
     "output_type": "stream",
     "text": [
      "  0%|          | 4/1680 [00:00<00:50, 33.13it/s]"
     ]
    },
    {
     "name": "stdout",
     "output_type": "stream",
     "text": [
      "Multiple faces detected in /home/guilherme/projects/parai/app/data/images/lfw/Abdel_Nasser_Assidi/Abdel_Nasser_Assidi_0001.jpg. Skipping...\n"
     ]
    },
    {
     "name": "stderr",
     "output_type": "stream",
     "text": [
      "  1%|          | 16/1680 [00:00<00:47, 35.11it/s]"
     ]
    },
    {
     "name": "stdout",
     "output_type": "stream",
     "text": [
      "Multiple faces detected in /home/guilherme/projects/parai/app/data/images/lfw/Alex_Sink/Alex_Sink_0001.jpg. Skipping...\n"
     ]
    },
    {
     "name": "stderr",
     "output_type": "stream",
     "text": [
      "  2%|▏         | 40/1680 [00:01<00:45, 36.18it/s]"
     ]
    },
    {
     "name": "stdout",
     "output_type": "stream",
     "text": [
      "Multiple faces detected in /home/guilherme/projects/parai/app/data/images/lfw/Bernardo_Segura/Bernardo_Segura_0001.jpg. Skipping...\n",
      "No faces detected in /home/guilherme/projects/parai/app/data/images/lfw/Beth_Jones/Beth_Jones_0002.jpg. Skipping...\n",
      "Multiple faces detected in /home/guilherme/projects/parai/app/data/images/lfw/Bijan_Namdar_Zangeneh/Bijan_Namdar_Zangeneh_0001.jpg. Skipping...\n"
     ]
    },
    {
     "name": "stderr",
     "output_type": "stream",
     "text": [
      "  3%|▎         | 48/1680 [00:01<00:46, 35.48it/s]"
     ]
    },
    {
     "name": "stdout",
     "output_type": "stream",
     "text": [
      "Multiple faces detected in /home/guilherme/projects/parai/app/data/images/lfw/Brad_Garrett/Brad_Garrett_0001.jpg. Skipping...\n"
     ]
    },
    {
     "name": "stderr",
     "output_type": "stream",
     "text": [
      "  4%|▍         | 68/1680 [00:01<00:45, 35.72it/s]"
     ]
    },
    {
     "name": "stdout",
     "output_type": "stream",
     "text": [
      "Multiple faces detected in /home/guilherme/projects/parai/app/data/images/lfw/Charles_Mathews/Charles_Mathews_0002.jpg. Skipping...\n",
      "Multiple faces detected in /home/guilherme/projects/parai/app/data/images/lfw/Charles_Moose/Charles_Moose_0003.jpg. Skipping...\n"
     ]
    },
    {
     "name": "stderr",
     "output_type": "stream",
     "text": [
      "  5%|▍         | 80/1680 [00:02<00:45, 35.03it/s]"
     ]
    },
    {
     "name": "stdout",
     "output_type": "stream",
     "text": [
      "Multiple faces detected in /home/guilherme/projects/parai/app/data/images/lfw/Coretta_Scott_King/Coretta_Scott_King_0002.jpg. Skipping...\n"
     ]
    },
    {
     "name": "stderr",
     "output_type": "stream",
     "text": [
      "  8%|▊         | 136/1680 [00:03<00:43, 35.76it/s]"
     ]
    },
    {
     "name": "stdout",
     "output_type": "stream",
     "text": [
      "Multiple faces detected in /home/guilherme/projects/parai/app/data/images/lfw/Gwendal_Peizerat/Gwendal_Peizerat_0002.jpg. Skipping...\n"
     ]
    },
    {
     "name": "stderr",
     "output_type": "stream",
     "text": [
      " 10%|█         | 168/1680 [00:04<00:42, 35.38it/s]"
     ]
    },
    {
     "name": "stdout",
     "output_type": "stream",
     "text": [
      "Multiple faces detected in /home/guilherme/projects/parai/app/data/images/lfw/John_Allen_Muhammad/John_Allen_Muhammad_0011.jpg. Skipping...\n"
     ]
    },
    {
     "name": "stderr",
     "output_type": "stream",
     "text": [
      " 11%|█         | 188/1680 [00:05<00:41, 35.81it/s]"
     ]
    },
    {
     "name": "stdout",
     "output_type": "stream",
     "text": [
      "Multiple faces detected in /home/guilherme/projects/parai/app/data/images/lfw/Kifah_Ajouri/Kifah_Ajouri_0002.jpg. Skipping...\n",
      "Multiple faces detected in /home/guilherme/projects/parai/app/data/images/lfw/Kim_Jong-Il/Kim_Jong-Il_0001.jpg. Skipping...\n",
      "Multiple faces detected in /home/guilherme/projects/parai/app/data/images/lfw/Kosuke_Kitajima/Kosuke_Kitajima_0002.jpg. Skipping...\n"
     ]
    },
    {
     "name": "stderr",
     "output_type": "stream",
     "text": [
      " 12%|█▏        | 204/1680 [00:05<00:40, 36.63it/s]"
     ]
    },
    {
     "name": "stdout",
     "output_type": "stream",
     "text": [
      "Multiple faces detected in /home/guilherme/projects/parai/app/data/images/lfw/Lea_Fastow/Lea_Fastow_0001.jpg. Skipping...\n",
      "Multiple faces detected in /home/guilherme/projects/parai/app/data/images/lfw/Lionel_Richie/Lionel_Richie_0001.jpg. Skipping...\n"
     ]
    },
    {
     "name": "stderr",
     "output_type": "stream",
     "text": [
      " 14%|█▎        | 228/1680 [00:06<00:40, 35.90it/s]"
     ]
    },
    {
     "name": "stdout",
     "output_type": "stream",
     "text": [
      "Multiple faces detected in /home/guilherme/projects/parai/app/data/images/lfw/Martin_Scorsese/Martin_Scorsese_0001.jpg. Skipping...\n",
      "Multiple faces detected in /home/guilherme/projects/parai/app/data/images/lfw/Melissa_Etheridge/Melissa_Etheridge_0002.jpg. Skipping...\n"
     ]
    },
    {
     "name": "stderr",
     "output_type": "stream",
     "text": [
      " 14%|█▍        | 236/1680 [00:06<00:39, 36.20it/s]"
     ]
    },
    {
     "name": "stdout",
     "output_type": "stream",
     "text": [
      "Multiple faces detected in /home/guilherme/projects/parai/app/data/images/lfw/Michel_Temer/Michel_Temer_0002.jpg. Skipping...\n"
     ]
    },
    {
     "name": "stderr",
     "output_type": "stream",
     "text": [
      " 15%|█▍        | 244/1680 [00:06<00:41, 34.54it/s]"
     ]
    },
    {
     "name": "stdout",
     "output_type": "stream",
     "text": [
      "No faces detected in /home/guilherme/projects/parai/app/data/images/lfw/Muammar_Gaddafi/Muammar_Gaddafi_0001.jpg. Skipping...\n"
     ]
    },
    {
     "name": "stderr",
     "output_type": "stream",
     "text": [
      " 15%|█▌        | 260/1680 [00:07<00:39, 35.61it/s]"
     ]
    },
    {
     "name": "stdout",
     "output_type": "stream",
     "text": [
      "Multiple faces detected in /home/guilherme/projects/parai/app/data/images/lfw/Norm_Coleman/Norm_Coleman_0007.jpg. Skipping...\n"
     ]
    },
    {
     "name": "stderr",
     "output_type": "stream",
     "text": [
      " 16%|█▌        | 268/1680 [00:07<00:40, 34.81it/s]"
     ]
    },
    {
     "name": "stdout",
     "output_type": "stream",
     "text": [
      "Multiple faces detected in /home/guilherme/projects/parai/app/data/images/lfw/Paul_Hogan/Paul_Hogan_0002.jpg. Skipping...\n"
     ]
    },
    {
     "name": "stderr",
     "output_type": "stream",
     "text": [
      " 22%|██▏       | 368/1680 [00:10<00:37, 35.03it/s]"
     ]
    },
    {
     "name": "stdout",
     "output_type": "stream",
     "text": [
      "Multiple faces detected in /home/guilherme/projects/parai/app/data/images/lfw/Alex_Penelas/Alex_Penelas_0001.jpg. Skipping...\n"
     ]
    },
    {
     "name": "stderr",
     "output_type": "stream",
     "text": [
      " 22%|██▏       | 376/1680 [00:10<00:36, 35.35it/s]"
     ]
    },
    {
     "name": "stdout",
     "output_type": "stream",
     "text": [
      "Multiple faces detected in /home/guilherme/projects/parai/app/data/images/lfw/Andrew_Niccol/Andrew_Niccol_0001.jpg. Skipping...\n"
     ]
    },
    {
     "name": "stderr",
     "output_type": "stream",
     "text": [
      " 24%|██▎       | 396/1680 [00:11<00:35, 36.35it/s]"
     ]
    },
    {
     "name": "stdout",
     "output_type": "stream",
     "text": [
      "Multiple faces detected in /home/guilherme/projects/parai/app/data/images/lfw/Bill_McBride/Bill_McBride_0002.jpg. Skipping...\n"
     ]
    },
    {
     "name": "stderr",
     "output_type": "stream",
     "text": [
      " 24%|██▍       | 404/1680 [00:11<00:35, 36.36it/s]"
     ]
    },
    {
     "name": "stdout",
     "output_type": "stream",
     "text": [
      "Multiple faces detected in /home/guilherme/projects/parai/app/data/images/lfw/Carlos_Ortega/Carlos_Ortega_0003.jpg. Skipping...\n"
     ]
    },
    {
     "name": "stderr",
     "output_type": "stream",
     "text": [
      " 25%|██▍       | 412/1680 [00:11<00:35, 35.37it/s]"
     ]
    },
    {
     "name": "stdout",
     "output_type": "stream",
     "text": [
      "Multiple faces detected in /home/guilherme/projects/parai/app/data/images/lfw/Charles_Schumer/Charles_Schumer_0002.jpg. Skipping...\n"
     ]
    },
    {
     "name": "stderr",
     "output_type": "stream",
     "text": [
      " 26%|██▌       | 440/1680 [00:12<00:34, 35.55it/s]"
     ]
    },
    {
     "name": "stdout",
     "output_type": "stream",
     "text": [
      "Multiple faces detected in /home/guilherme/projects/parai/app/data/images/lfw/Doris_Roberts/Doris_Roberts_0003.jpg. Skipping...\n"
     ]
    },
    {
     "name": "stderr",
     "output_type": "stream",
     "text": [
      " 27%|██▋       | 452/1680 [00:12<00:34, 35.86it/s]"
     ]
    },
    {
     "name": "stdout",
     "output_type": "stream",
     "text": [
      "Multiple faces detected in /home/guilherme/projects/parai/app/data/images/lfw/Ernie_Fletcher/Ernie_Fletcher_0002.jpg. Skipping...\n"
     ]
    },
    {
     "name": "stderr",
     "output_type": "stream",
     "text": [
      " 28%|██▊       | 468/1680 [00:13<00:33, 36.27it/s]"
     ]
    },
    {
     "name": "stdout",
     "output_type": "stream",
     "text": [
      "Multiple faces detected in /home/guilherme/projects/parai/app/data/images/lfw/George_Ryan/George_Ryan_0001.jpg. Skipping...\n",
      "Multiple faces detected in /home/guilherme/projects/parai/app/data/images/lfw/Gonzalo_Sanchez_de_Lozada/Gonzalo_Sanchez_de_Lozada_0010.jpg. Skipping...\n"
     ]
    },
    {
     "name": "stderr",
     "output_type": "stream",
     "text": [
      " 29%|██▊       | 480/1680 [00:13<00:33, 35.93it/s]"
     ]
    },
    {
     "name": "stdout",
     "output_type": "stream",
     "text": [
      "Multiple faces detected in /home/guilherme/projects/parai/app/data/images/lfw/Gwyneth_Paltrow/Gwyneth_Paltrow_0003.jpg. Skipping...\n",
      "Multiple faces detected in /home/guilherme/projects/parai/app/data/images/lfw/Harrison_Ford/Harrison_Ford_0004.jpg. Skipping...\n"
     ]
    },
    {
     "name": "stderr",
     "output_type": "stream",
     "text": [
      " 31%|███▏      | 528/1680 [00:14<00:32, 35.75it/s]"
     ]
    },
    {
     "name": "stdout",
     "output_type": "stream",
     "text": [
      "Multiple faces detected in /home/guilherme/projects/parai/app/data/images/lfw/Justine_Henin/Justine_Henin_0001.jpg. Skipping...\n"
     ]
    },
    {
     "name": "stderr",
     "output_type": "stream",
     "text": [
      " 32%|███▏      | 544/1680 [00:15<00:31, 35.72it/s]"
     ]
    },
    {
     "name": "stdout",
     "output_type": "stream",
     "text": [
      "Multiple faces detected in /home/guilherme/projects/parai/app/data/images/lfw/Kurt_Warner/Kurt_Warner_0002.jpg. Skipping...\n"
     ]
    },
    {
     "name": "stderr",
     "output_type": "stream",
     "text": [
      " 33%|███▎      | 556/1680 [00:15<00:30, 36.36it/s]"
     ]
    },
    {
     "name": "stdout",
     "output_type": "stream",
     "text": [
      "Multiple faces detected in /home/guilherme/projects/parai/app/data/images/lfw/Lynn_Abraham/Lynn_Abraham_0001.jpg. Skipping...\n",
      "Multiple faces detected in /home/guilherme/projects/parai/app/data/images/lfw/Marcelo_Ebrard/Marcelo_Ebrard_0003.jpg. Skipping...\n"
     ]
    },
    {
     "name": "stderr",
     "output_type": "stream",
     "text": [
      " 34%|███▍      | 572/1680 [00:16<00:30, 35.83it/s]"
     ]
    },
    {
     "name": "stdout",
     "output_type": "stream",
     "text": [
      "Multiple faces detected in /home/guilherme/projects/parai/app/data/images/lfw/Mesut_Yilmaz/Mesut_Yilmaz_0001.jpg. Skipping...\n",
      "Multiple faces detected in /home/guilherme/projects/parai/app/data/images/lfw/Michael_Keaton/Michael_Keaton_0002.jpg. Skipping...\n"
     ]
    },
    {
     "name": "stderr",
     "output_type": "stream",
     "text": [
      " 35%|███▌      | 588/1680 [00:16<00:30, 35.36it/s]"
     ]
    },
    {
     "name": "stdout",
     "output_type": "stream",
     "text": [
      "Multiple faces detected in /home/guilherme/projects/parai/app/data/images/lfw/Monica_Bellucci/Monica_Bellucci_0004.jpg. Skipping...\n"
     ]
    },
    {
     "name": "stderr",
     "output_type": "stream",
     "text": [
      " 36%|███▌      | 604/1680 [00:16<00:30, 35.46it/s]"
     ]
    },
    {
     "name": "stdout",
     "output_type": "stream",
     "text": [
      "Multiple faces detected in /home/guilherme/projects/parai/app/data/images/lfw/Paul_McCartney/Paul_McCartney_0005.jpg. Skipping...\n"
     ]
    },
    {
     "name": "stderr",
     "output_type": "stream",
     "text": [
      " 37%|███▋      | 620/1680 [00:17<00:29, 36.31it/s]"
     ]
    },
    {
     "name": "stdout",
     "output_type": "stream",
     "text": [
      "Multiple faces detected in /home/guilherme/projects/parai/app/data/images/lfw/Ralph_Klein/Ralph_Klein_0001.jpg. Skipping...\n",
      "Multiple faces detected in /home/guilherme/projects/parai/app/data/images/lfw/Ricardo_Maduro/Ricardo_Maduro_0002.jpg. Skipping...\n",
      "Multiple faces detected in /home/guilherme/projects/parai/app/data/images/lfw/Rick_Carlisle/Rick_Carlisle_0001.jpg. Skipping...\n"
     ]
    },
    {
     "name": "stderr",
     "output_type": "stream",
     "text": [
      " 38%|███▊      | 636/1680 [00:17<00:29, 35.82it/s]"
     ]
    },
    {
     "name": "stdout",
     "output_type": "stream",
     "text": [
      "Multiple faces detected in /home/guilherme/projects/parai/app/data/images/lfw/Robin_McLaurin_Williams/Robin_McLaurin_Williams_0001.jpg. Skipping...\n"
     ]
    },
    {
     "name": "stderr",
     "output_type": "stream",
     "text": [
      " 39%|███▊      | 648/1680 [00:18<00:28, 36.19it/s]"
     ]
    },
    {
     "name": "stdout",
     "output_type": "stream",
     "text": [
      "Multiple faces detected in /home/guilherme/projects/parai/app/data/images/lfw/Sandra_Bullock/Sandra_Bullock_0004.jpg. Skipping...\n"
     ]
    },
    {
     "name": "stderr",
     "output_type": "stream",
     "text": [
      " 39%|███▉      | 660/1680 [00:18<00:28, 36.06it/s]"
     ]
    },
    {
     "name": "stdout",
     "output_type": "stream",
     "text": [
      "Multiple faces detected in /home/guilherme/projects/parai/app/data/images/lfw/Silvan_Shalom/Silvan_Shalom_0004.jpg. Skipping...\n"
     ]
    },
    {
     "name": "stderr",
     "output_type": "stream",
     "text": [
      " 40%|████      | 676/1680 [00:19<00:27, 36.43it/s]"
     ]
    },
    {
     "name": "stdout",
     "output_type": "stream",
     "text": [
      "Multiple faces detected in /home/guilherme/projects/parai/app/data/images/lfw/Trent_Lott/Trent_Lott_0002.jpg. Skipping...\n",
      "Multiple faces detected in /home/guilherme/projects/parai/app/data/images/lfw/Vin_Diesel/Vin_Diesel_0001.jpg. Skipping...\n"
     ]
    },
    {
     "name": "stderr",
     "output_type": "stream",
     "text": [
      " 41%|████▏     | 696/1680 [00:19<00:27, 35.77it/s]"
     ]
    },
    {
     "name": "stdout",
     "output_type": "stream",
     "text": [
      "Multiple faces detected in /home/guilherme/projects/parai/app/data/images/lfw/Abdullatif_Sener/Abdullatif_Sener_0002.jpg. Skipping...\n",
      "Multiple faces detected in /home/guilherme/projects/parai/app/data/images/lfw/Adrien_Brody/Adrien_Brody_0002.jpg. Skipping...\n"
     ]
    },
    {
     "name": "stderr",
     "output_type": "stream",
     "text": [
      " 44%|████▎     | 732/1680 [00:20<00:26, 36.16it/s]"
     ]
    },
    {
     "name": "stdout",
     "output_type": "stream",
     "text": [
      "Multiple faces detected in /home/guilherme/projects/parai/app/data/images/lfw/Andrew_Weissmann/Andrew_Weissmann_0002.jpg. Skipping...\n"
     ]
    },
    {
     "name": "stderr",
     "output_type": "stream",
     "text": [
      " 47%|████▋     | 796/1680 [00:22<00:24, 36.39it/s]"
     ]
    },
    {
     "name": "stdout",
     "output_type": "stream",
     "text": [
      "Multiple faces detected in /home/guilherme/projects/parai/app/data/images/lfw/Boris_Becker/Boris_Becker_0006.jpg. Skipping...\n",
      "Multiple faces detected in /home/guilherme/projects/parai/app/data/images/lfw/Boris_Berezovsky/Boris_Berezovsky_0001.jpg. Skipping...\n"
     ]
    },
    {
     "name": "stderr",
     "output_type": "stream",
     "text": [
      " 49%|████▊     | 816/1680 [00:22<00:24, 35.81it/s]"
     ]
    },
    {
     "name": "stdout",
     "output_type": "stream",
     "text": [
      "Multiple faces detected in /home/guilherme/projects/parai/app/data/images/lfw/Carla_Del_Ponte/Carla_Del_Ponte_0004.jpg. Skipping...\n"
     ]
    },
    {
     "name": "stderr",
     "output_type": "stream",
     "text": [
      " 50%|████▉     | 832/1680 [00:23<00:23, 36.12it/s]"
     ]
    },
    {
     "name": "stdout",
     "output_type": "stream",
     "text": [
      "Multiple faces detected in /home/guilherme/projects/parai/app/data/images/lfw/Chakib_Khelil/Chakib_Khelil_0002.jpg. Skipping...\n"
     ]
    },
    {
     "name": "stderr",
     "output_type": "stream",
     "text": [
      " 50%|█████     | 848/1680 [00:23<00:23, 35.66it/s]"
     ]
    },
    {
     "name": "stdout",
     "output_type": "stream",
     "text": [
      "Multiple faces detected in /home/guilherme/projects/parai/app/data/images/lfw/Christian_Wulff/Christian_Wulff_0002.jpg. Skipping...\n",
      "Multiple faces detected in /home/guilherme/projects/parai/app/data/images/lfw/Christine_Todd_Whitman/Christine_Todd_Whitman_0005.jpg. Skipping...\n"
     ]
    },
    {
     "name": "stderr",
     "output_type": "stream",
     "text": [
      " 51%|█████     | 860/1680 [00:24<00:22, 36.60it/s]"
     ]
    },
    {
     "name": "stdout",
     "output_type": "stream",
     "text": [
      "No faces detected in /home/guilherme/projects/parai/app/data/images/lfw/Claudia_Pechstein/Claudia_Pechstein_0005.jpg. Skipping...\n",
      "No faces detected in /home/guilherme/projects/parai/app/data/images/lfw/Colin_Montgomerie/Colin_Montgomerie_0004.jpg. Skipping...\n"
     ]
    },
    {
     "name": "stderr",
     "output_type": "stream",
     "text": [
      " 52%|█████▏    | 876/1680 [00:24<00:22, 35.55it/s]"
     ]
    },
    {
     "name": "stdout",
     "output_type": "stream",
     "text": [
      "Multiple faces detected in /home/guilherme/projects/parai/app/data/images/lfw/David_Bell/David_Bell_0001.jpg. Skipping...\n",
      "Multiple faces detected in /home/guilherme/projects/parai/app/data/images/lfw/David_Hyde_Pierce/David_Hyde_Pierce_0003.jpg. Skipping...\n"
     ]
    },
    {
     "name": "stderr",
     "output_type": "stream",
     "text": [
      " 54%|█████▍    | 904/1680 [00:25<00:21, 35.78it/s]"
     ]
    },
    {
     "name": "stdout",
     "output_type": "stream",
     "text": [
      "Multiple faces detected in /home/guilherme/projects/parai/app/data/images/lfw/Dolma_Tsering/Dolma_Tsering_0002.jpg. Skipping...\n",
      "Multiple faces detected in /home/guilherme/projects/parai/app/data/images/lfw/Donatella_Versace/Donatella_Versace_0003.jpg. Skipping...\n",
      "Multiple faces detected in /home/guilherme/projects/parai/app/data/images/lfw/Dorthy_Moxley/Dorthy_Moxley_0002.jpg. Skipping...\n"
     ]
    },
    {
     "name": "stderr",
     "output_type": "stream",
     "text": [
      " 55%|█████▍    | 916/1680 [00:25<00:20, 36.90it/s]"
     ]
    },
    {
     "name": "stdout",
     "output_type": "stream",
     "text": [
      "Multiple faces detected in /home/guilherme/projects/parai/app/data/images/lfw/Doug_Duncan/Doug_Duncan_0001.jpg. Skipping...\n",
      "Multiple faces detected in /home/guilherme/projects/parai/app/data/images/lfw/Ed_Smart/Ed_Smart_0001.jpg. Skipping...\n",
      "Multiple faces detected in /home/guilherme/projects/parai/app/data/images/lfw/Edie_Falco/Edie_Falco_0001.jpg. Skipping...\n"
     ]
    },
    {
     "name": "stderr",
     "output_type": "stream",
     "text": [
      " 55%|█████▌    | 924/1680 [00:25<00:20, 36.58it/s]"
     ]
    },
    {
     "name": "stdout",
     "output_type": "stream",
     "text": [
      "Multiple faces detected in /home/guilherme/projects/parai/app/data/images/lfw/Edward_Lu/Edward_Lu_0001.jpg. Skipping...\n"
     ]
    },
    {
     "name": "stderr",
     "output_type": "stream",
     "text": [
      " 56%|█████▌    | 940/1680 [00:26<00:20, 35.83it/s]"
     ]
    },
    {
     "name": "stdout",
     "output_type": "stream",
     "text": [
      "Multiple faces detected in /home/guilherme/projects/parai/app/data/images/lfw/Emily_Robison/Emily_Robison_0002.jpg. Skipping...\n",
      "Multiple faces detected in /home/guilherme/projects/parai/app/data/images/lfw/Erika_Harold/Erika_Harold_0003.jpg. Skipping...\n"
     ]
    },
    {
     "name": "stderr",
     "output_type": "stream",
     "text": [
      " 57%|█████▋    | 956/1680 [00:26<00:20, 35.21it/s]"
     ]
    },
    {
     "name": "stdout",
     "output_type": "stream",
     "text": [
      "Multiple faces detected in /home/guilherme/projects/parai/app/data/images/lfw/Felipe_Perez_Roque/Felipe_Perez_Roque_0003.jpg. Skipping...\n",
      "Multiple faces detected in /home/guilherme/projects/parai/app/data/images/lfw/Frances_Fisher/Frances_Fisher_0001.jpg. Skipping...\n"
     ]
    },
    {
     "name": "stderr",
     "output_type": "stream",
     "text": [
      " 58%|█████▊    | 968/1680 [00:27<00:20, 35.48it/s]"
     ]
    },
    {
     "name": "stdout",
     "output_type": "stream",
     "text": [
      "Multiple faces detected in /home/guilherme/projects/parai/app/data/images/lfw/Frank_Dunham_Jr/Frank_Dunham_Jr_0001.jpg. Skipping...\n"
     ]
    },
    {
     "name": "stderr",
     "output_type": "stream",
     "text": [
      " 58%|█████▊    | 980/1680 [00:27<00:19, 35.66it/s]"
     ]
    },
    {
     "name": "stdout",
     "output_type": "stream",
     "text": [
      "Multiple faces detected in /home/guilherme/projects/parai/app/data/images/lfw/Gary_Doer/Gary_Doer_0001.jpg. Skipping...\n"
     ]
    },
    {
     "name": "stderr",
     "output_type": "stream",
     "text": [
      " 59%|█████▉    | 992/1680 [00:27<00:19, 34.88it/s]"
     ]
    },
    {
     "name": "stdout",
     "output_type": "stream",
     "text": [
      "Multiple faces detected in /home/guilherme/projects/parai/app/data/images/lfw/Gerard_Depardieu/Gerard_Depardieu_0002.jpg. Skipping...\n"
     ]
    },
    {
     "name": "stderr",
     "output_type": "stream",
     "text": [
      " 60%|██████    | 1008/1680 [00:28<00:18, 35.66it/s]"
     ]
    },
    {
     "name": "stdout",
     "output_type": "stream",
     "text": [
      "Multiple faces detected in /home/guilherme/projects/parai/app/data/images/lfw/Gro_Harlem_Brundtland/Gro_Harlem_Brundtland_0001.jpg. Skipping...\n",
      "Multiple faces detected in /home/guilherme/projects/parai/app/data/images/lfw/Guillaume_Soro/Guillaume_Soro_0001.jpg. Skipping...\n"
     ]
    },
    {
     "name": "stderr",
     "output_type": "stream",
     "text": [
      " 61%|██████    | 1020/1680 [00:28<00:18, 36.04it/s]"
     ]
    },
    {
     "name": "stdout",
     "output_type": "stream",
     "text": [
      "Multiple faces detected in /home/guilherme/projects/parai/app/data/images/lfw/Habib_Rizieq/Habib_Rizieq_0001.jpg. Skipping...\n"
     ]
    },
    {
     "name": "stderr",
     "output_type": "stream",
     "text": [
      " 64%|██████▍   | 1072/1680 [00:30<00:16, 36.15it/s]"
     ]
    },
    {
     "name": "stdout",
     "output_type": "stream",
     "text": [
      "Multiple faces detected in /home/guilherme/projects/parai/app/data/images/lfw/James_Butts/James_Butts_0001.jpg. Skipping...\n"
     ]
    },
    {
     "name": "stderr",
     "output_type": "stream",
     "text": [
      " 64%|██████▍   | 1080/1680 [00:30<00:16, 36.12it/s]"
     ]
    },
    {
     "name": "stdout",
     "output_type": "stream",
     "text": [
      "No faces detected in /home/guilherme/projects/parai/app/data/images/lfw/James_McGreevey/James_McGreevey_0002.jpg. Skipping...\n"
     ]
    },
    {
     "name": "stderr",
     "output_type": "stream",
     "text": [
      " 65%|██████▌   | 1096/1680 [00:30<00:16, 35.89it/s]"
     ]
    },
    {
     "name": "stdout",
     "output_type": "stream",
     "text": [
      "Multiple faces detected in /home/guilherme/projects/parai/app/data/images/lfw/Javier_Weber/Javier_Weber_0001.jpg. Skipping...\n"
     ]
    },
    {
     "name": "stderr",
     "output_type": "stream",
     "text": [
      " 66%|██████▌   | 1104/1680 [00:30<00:15, 36.10it/s]"
     ]
    },
    {
     "name": "stdout",
     "output_type": "stream",
     "text": [
      "Multiple faces detected in /home/guilherme/projects/parai/app/data/images/lfw/Jeanne_Moreau/Jeanne_Moreau_0001.jpg. Skipping...\n"
     ]
    },
    {
     "name": "stderr",
     "output_type": "stream",
     "text": [
      " 67%|██████▋   | 1128/1680 [00:31<00:15, 35.24it/s]"
     ]
    },
    {
     "name": "stdout",
     "output_type": "stream",
     "text": [
      "No faces detected in /home/guilherme/projects/parai/app/data/images/lfw/Jessica_Lynch/Jessica_Lynch_0001.jpg. Skipping...\n"
     ]
    },
    {
     "name": "stderr",
     "output_type": "stream",
     "text": [
      " 68%|██████▊   | 1140/1680 [00:32<00:15, 35.40it/s]"
     ]
    },
    {
     "name": "stdout",
     "output_type": "stream",
     "text": [
      "Multiple faces detected in /home/guilherme/projects/parai/app/data/images/lfw/John_Blaney/John_Blaney_0002.jpg. Skipping...\n"
     ]
    },
    {
     "name": "stderr",
     "output_type": "stream",
     "text": [
      " 69%|██████▊   | 1152/1680 [00:32<00:15, 34.79it/s]"
     ]
    },
    {
     "name": "stdout",
     "output_type": "stream",
     "text": [
      "Multiple faces detected in /home/guilherme/projects/parai/app/data/images/lfw/John_McEnroe/John_McEnroe_0002.jpg. Skipping...\n"
     ]
    },
    {
     "name": "stderr",
     "output_type": "stream",
     "text": [
      " 69%|██████▉   | 1164/1680 [00:32<00:14, 35.21it/s]"
     ]
    },
    {
     "name": "stdout",
     "output_type": "stream",
     "text": [
      "Multiple faces detected in /home/guilherme/projects/parai/app/data/images/lfw/John_Warner/John_Warner_0002.jpg. Skipping...\n"
     ]
    },
    {
     "name": "stderr",
     "output_type": "stream",
     "text": [
      " 70%|██████▉   | 1172/1680 [00:32<00:14, 34.65it/s]"
     ]
    },
    {
     "name": "stdout",
     "output_type": "stream",
     "text": [
      "Multiple faces detected in /home/guilherme/projects/parai/app/data/images/lfw/Jong_Thae_Hwa/Jong_Thae_Hwa_0001.jpg. Skipping...\n"
     ]
    },
    {
     "name": "stderr",
     "output_type": "stream",
     "text": [
      " 71%|███████▏  | 1200/1680 [00:33<00:13, 35.64it/s]"
     ]
    },
    {
     "name": "stdout",
     "output_type": "stream",
     "text": [
      "Multiple faces detected in /home/guilherme/projects/parai/app/data/images/lfw/Julianne_Moore/Julianne_Moore_0016.jpg. Skipping...\n",
      "Multiple faces detected in /home/guilherme/projects/parai/app/data/images/lfw/Kate_Capshaw/Kate_Capshaw_0002.jpg. Skipping...\n"
     ]
    },
    {
     "name": "stderr",
     "output_type": "stream",
     "text": [
      " 73%|███████▎  | 1224/1680 [00:34<00:12, 35.76it/s]"
     ]
    },
    {
     "name": "stdout",
     "output_type": "stream",
     "text": [
      "Multiple faces detected in /home/guilherme/projects/parai/app/data/images/lfw/Kimi_Raikkonen/Kimi_Raikkonen_0001.jpg. Skipping...\n",
      "No faces detected in /home/guilherme/projects/parai/app/data/images/lfw/Kobe_Bryant/Kobe_Bryant_0002.jpg. Skipping...\n",
      "Multiple faces detected in /home/guilherme/projects/parai/app/data/images/lfw/Kristanna_Loken/Kristanna_Loken_0003.jpg. Skipping...\n"
     ]
    },
    {
     "name": "stderr",
     "output_type": "stream",
     "text": [
      " 74%|███████▍  | 1240/1680 [00:34<00:11, 37.03it/s]"
     ]
    },
    {
     "name": "stdout",
     "output_type": "stream",
     "text": [
      "Multiple faces detected in /home/guilherme/projects/parai/app/data/images/lfw/Larry_Lucchino/Larry_Lucchino_0001.jpg. Skipping...\n",
      "Multiple faces detected in /home/guilherme/projects/parai/app/data/images/lfw/Lars_Von_Trier/Lars_Von_Trier_0003.jpg. Skipping...\n",
      "Multiple faces detected in /home/guilherme/projects/parai/app/data/images/lfw/Lauren_Killian/Lauren_Killian_0002.jpg. Skipping...\n"
     ]
    },
    {
     "name": "stderr",
     "output_type": "stream",
     "text": [
      " 75%|███████▌  | 1268/1680 [00:35<00:11, 35.63it/s]"
     ]
    },
    {
     "name": "stdout",
     "output_type": "stream",
     "text": [
      "Multiple faces detected in /home/guilherme/projects/parai/app/data/images/lfw/Lino_Oviedo/Lino_Oviedo_0002.jpg. Skipping...\n"
     ]
    },
    {
     "name": "stderr",
     "output_type": "stream",
     "text": [
      " 77%|███████▋  | 1292/1680 [00:36<00:10, 35.56it/s]"
     ]
    },
    {
     "name": "stdout",
     "output_type": "stream",
     "text": [
      "Multiple faces detected in /home/guilherme/projects/parai/app/data/images/lfw/Maria_Luisa_Mendonca/Maria_Luisa_Mendonca_0002.jpg. Skipping...\n"
     ]
    },
    {
     "name": "stderr",
     "output_type": "stream",
     "text": [
      " 78%|███████▊  | 1312/1680 [00:36<00:10, 35.78it/s]"
     ]
    },
    {
     "name": "stdout",
     "output_type": "stream",
     "text": [
      "Multiple faces detected in /home/guilherme/projects/parai/app/data/images/lfw/Martha_Beatriz_Roque/Martha_Beatriz_Roque_0001.jpg. Skipping...\n",
      "Multiple faces detected in /home/guilherme/projects/parai/app/data/images/lfw/Martha_Burk/Martha_Burk_0004.jpg. Skipping...\n",
      "Multiple faces detected in /home/guilherme/projects/parai/app/data/images/lfw/Martha_Lucia_Ramirez/Martha_Lucia_Ramirez_0003.jpg. Skipping...\n"
     ]
    },
    {
     "name": "stderr",
     "output_type": "stream",
     "text": [
      " 80%|████████  | 1352/1680 [00:38<00:09, 34.22it/s]"
     ]
    },
    {
     "name": "stdout",
     "output_type": "stream",
     "text": [
      "Multiple faces detected in /home/guilherme/projects/parai/app/data/images/lfw/Michel_Duclos/Michel_Duclos_0001.jpg. Skipping...\n"
     ]
    },
    {
     "name": "stderr",
     "output_type": "stream",
     "text": [
      " 81%|████████▏ | 1368/1680 [00:38<00:08, 34.74it/s]"
     ]
    },
    {
     "name": "stdout",
     "output_type": "stream",
     "text": [
      "Multiple faces detected in /home/guilherme/projects/parai/app/data/images/lfw/Milo_Djukanovic/Milo_Djukanovic_0002.jpg. Skipping...\n"
     ]
    },
    {
     "name": "stderr",
     "output_type": "stream",
     "text": [
      " 84%|████████▍ | 1408/1680 [00:39<00:07, 34.75it/s]"
     ]
    },
    {
     "name": "stdout",
     "output_type": "stream",
     "text": [
      "Multiple faces detected in /home/guilherme/projects/parai/app/data/images/lfw/Nursultan_Nazarbayev/Nursultan_Nazarbayev_0002.jpg. Skipping...\n"
     ]
    },
    {
     "name": "stderr",
     "output_type": "stream",
     "text": [
      " 85%|████████▍ | 1420/1680 [00:39<00:07, 35.28it/s]"
     ]
    },
    {
     "name": "stdout",
     "output_type": "stream",
     "text": [
      "Multiple faces detected in /home/guilherme/projects/parai/app/data/images/lfw/Ozzy_Osbourne/Ozzy_Osbourne_0002.jpg. Skipping...\n"
     ]
    },
    {
     "name": "stderr",
     "output_type": "stream",
     "text": [
      " 85%|████████▌ | 1428/1680 [00:40<00:07, 35.37it/s]"
     ]
    },
    {
     "name": "stdout",
     "output_type": "stream",
     "text": [
      "Multiple faces detected in /home/guilherme/projects/parai/app/data/images/lfw/Patrick_Leahy/Patrick_Leahy_0001.jpg. Skipping...\n"
     ]
    },
    {
     "name": "stderr",
     "output_type": "stream",
     "text": [
      " 85%|████████▌ | 1436/1680 [00:40<00:06, 35.43it/s]"
     ]
    },
    {
     "name": "stdout",
     "output_type": "stream",
     "text": [
      "Multiple faces detected in /home/guilherme/projects/parai/app/data/images/lfw/Paul_Shanley/Paul_Shanley_0002.jpg. Skipping...\n",
      "Multiple faces detected in /home/guilherme/projects/parai/app/data/images/lfw/Pervez_Musharraf/Pervez_Musharraf_0013.jpg. Skipping...\n"
     ]
    },
    {
     "name": "stderr",
     "output_type": "stream",
     "text": [
      " 86%|████████▌ | 1448/1680 [00:40<00:06, 36.48it/s]"
     ]
    },
    {
     "name": "stdout",
     "output_type": "stream",
     "text": [
      "Multiple faces detected in /home/guilherme/projects/parai/app/data/images/lfw/Peter_Greenaway/Peter_Greenaway_0001.jpg. Skipping...\n",
      "Multiple faces detected in /home/guilherme/projects/parai/app/data/images/lfw/Peter_Hillary/Peter_Hillary_0002.jpg. Skipping...\n",
      "Multiple faces detected in /home/guilherme/projects/parai/app/data/images/lfw/Phil_Gramm/Phil_Gramm_0001.jpg. Skipping...\n"
     ]
    },
    {
     "name": "stderr",
     "output_type": "stream",
     "text": [
      " 89%|████████▉ | 1496/1680 [00:42<00:05, 35.67it/s]"
     ]
    },
    {
     "name": "stdout",
     "output_type": "stream",
     "text": [
      "Multiple faces detected in /home/guilherme/projects/parai/app/data/images/lfw/Rita_Moreno/Rita_Moreno_0002.jpg. Skipping...\n"
     ]
    },
    {
     "name": "stderr",
     "output_type": "stream",
     "text": [
      " 90%|████████▉ | 1508/1680 [00:42<00:04, 35.73it/s]"
     ]
    },
    {
     "name": "stdout",
     "output_type": "stream",
     "text": [
      "Multiple faces detected in /home/guilherme/projects/parai/app/data/images/lfw/Robert_Evans/Robert_Evans_0003.jpg. Skipping...\n",
      "Multiple faces detected in /home/guilherme/projects/parai/app/data/images/lfw/Robert_Fico/Robert_Fico_0001.jpg. Skipping...\n"
     ]
    },
    {
     "name": "stderr",
     "output_type": "stream",
     "text": [
      " 90%|█████████ | 1516/1680 [00:42<00:04, 35.57it/s]"
     ]
    },
    {
     "name": "stdout",
     "output_type": "stream",
     "text": [
      "Multiple faces detected in /home/guilherme/projects/parai/app/data/images/lfw/Robin_Cook/Robin_Cook_0002.jpg. Skipping...\n"
     ]
    },
    {
     "name": "stderr",
     "output_type": "stream",
     "text": [
      " 91%|█████████ | 1528/1680 [00:42<00:04, 35.90it/s]"
     ]
    },
    {
     "name": "stdout",
     "output_type": "stream",
     "text": [
      "Multiple faces detected in /home/guilherme/projects/parai/app/data/images/lfw/Ron_Howard/Ron_Howard_0001.jpg. Skipping...\n"
     ]
    },
    {
     "name": "stderr",
     "output_type": "stream",
     "text": [
      " 91%|█████████▏| 1536/1680 [00:43<00:04, 35.24it/s]"
     ]
    },
    {
     "name": "stdout",
     "output_type": "stream",
     "text": [
      "Multiple faces detected in /home/guilherme/projects/parai/app/data/images/lfw/Rupert_Grint/Rupert_Grint_0002.jpg. Skipping...\n"
     ]
    },
    {
     "name": "stderr",
     "output_type": "stream",
     "text": [
      " 92%|█████████▏| 1544/1680 [00:43<00:03, 35.76it/s]"
     ]
    },
    {
     "name": "stdout",
     "output_type": "stream",
     "text": [
      "Multiple faces detected in /home/guilherme/projects/parai/app/data/images/lfw/Sarah_Hughes/Sarah_Hughes_0004.jpg. Skipping...\n",
      "Multiple faces detected in /home/guilherme/projects/parai/app/data/images/lfw/Scott_Sullivan/Scott_Sullivan_0001.jpg. Skipping...\n"
     ]
    },
    {
     "name": "stderr",
     "output_type": "stream",
     "text": [
      " 95%|█████████▌| 1596/1680 [00:44<00:02, 34.38it/s]"
     ]
    },
    {
     "name": "stdout",
     "output_type": "stream",
     "text": [
      "Multiple faces detected in /home/guilherme/projects/parai/app/data/images/lfw/Tassos_Papadopoulos/Tassos_Papadopoulos_0001.jpg. Skipping...\n"
     ]
    },
    {
     "name": "stderr",
     "output_type": "stream",
     "text": [
      " 96%|█████████▌| 1608/1680 [00:45<00:02, 34.85it/s]"
     ]
    },
    {
     "name": "stdout",
     "output_type": "stream",
     "text": [
      "No faces detected in /home/guilherme/projects/parai/app/data/images/lfw/Thomas_Birmingham/Thomas_Birmingham_0002.jpg. Skipping...\n"
     ]
    },
    {
     "name": "stderr",
     "output_type": "stream",
     "text": [
      " 97%|█████████▋| 1636/1680 [00:46<00:01, 36.06it/s]"
     ]
    },
    {
     "name": "stdout",
     "output_type": "stream",
     "text": [
      "Multiple faces detected in /home/guilherme/projects/parai/app/data/images/lfw/Uma_Thurman/Uma_Thurman_0002.jpg. Skipping...\n"
     ]
    },
    {
     "name": "stderr",
     "output_type": "stream",
     "text": [
      " 98%|█████████▊| 1652/1680 [00:46<00:00, 35.17it/s]"
     ]
    },
    {
     "name": "stdout",
     "output_type": "stream",
     "text": [
      "Multiple faces detected in /home/guilherme/projects/parai/app/data/images/lfw/Vincent_Gallo/Vincent_Gallo_0003.jpg. Skipping...\n"
     ]
    },
    {
     "name": "stderr",
     "output_type": "stream",
     "text": [
      "100%|█████████▉| 1672/1680 [00:47<00:00, 35.53it/s]"
     ]
    },
    {
     "name": "stdout",
     "output_type": "stream",
     "text": [
      "Multiple faces detected in /home/guilherme/projects/parai/app/data/images/lfw/Woody_Allen/Woody_Allen_0004.jpg. Skipping...\n"
     ]
    },
    {
     "name": "stderr",
     "output_type": "stream",
     "text": [
      "100%|██████████| 1680/1680 [00:47<00:00, 35.52it/s]\n"
     ]
    }
   ],
   "source": [
    "\n",
    "def enroll_subject(img_path):\n",
    "    img_name = img_path.split('/')[-1]\n",
    "    img_name = img_name.replace('.jpg', '.npy')\n",
    "    template_path = f'../app/data/templates/fr_templates/{img_name}'\n",
    "\n",
    "    image = face_recognition.load_image_file(input_img_path)\n",
    "    face_locations = face_recognition.face_locations(image)\n",
    "    #print(f'Face location: {face_locations}')\n",
    "\n",
    "    if len(face_locations) > 1:\n",
    "        print(f'Multiple faces detected in {input_img_path}. Skipping...')\n",
    "        #print('-----')\n",
    "        return\n",
    "\n",
    "    elif len(face_locations) == 0:\n",
    "        print(f'No faces detected in {input_img_path}. Skipping...')\n",
    "        #print('-----')\n",
    "        return\n",
    "\n",
    "    else:\n",
    "        f_location = face_locations[0]\n",
    "        encodings = face_recognition.face_encodings(image, [f_location])\n",
    "        encoding = encodings[0]        \n",
    "        np.save(template_path, encoding)\n",
    "\n",
    "\n",
    "extracted_encodings = os.listdir('../app/data/templates/')\n",
    "\n",
    "for input_img_path in tqdm(enroll_df['img_path'].values):\n",
    "    enroll_subject(input_img_path)"
   ]
  },
  {
   "cell_type": "code",
   "execution_count": 9,
   "metadata": {},
   "outputs": [
    {
     "name": "stdout",
     "output_type": "stream",
     "text": [
      "Number of extracted templates: 1556\n"
     ]
    }
   ],
   "source": [
    "print(f'Number of extracted templates: {len(os.listdir(\"../app/data/templates/fr_templates/\"))}')"
   ]
  },
  {
   "cell_type": "markdown",
   "metadata": {},
   "source": [
    "# Enroll especific subjects "
   ]
  },
  {
   "cell_type": "code",
   "execution_count": 10,
   "metadata": {},
   "outputs": [],
   "source": [
    "enroll_subject('../app/data/images/common/guilherme_1.jpg')\n",
    "enroll_subject('../app/data/images/common/guilherme_2.jpg')\n",
    "enroll_subject('../app/data/images/common/guilherme_3.jpg')\n",
    "enroll_subject('../app/data/images/common/guilherme_4.jpg')"
   ]
  }
 ],
 "metadata": {
  "kernelspec": {
   "display_name": "parai",
   "language": "python",
   "name": "python3"
  },
  "language_info": {
   "codemirror_mode": {
    "name": "ipython",
    "version": 3
   },
   "file_extension": ".py",
   "mimetype": "text/x-python",
   "name": "python",
   "nbconvert_exporter": "python",
   "pygments_lexer": "ipython3",
   "version": "3.8.0"
  }
 },
 "nbformat": 4,
 "nbformat_minor": 2
}
